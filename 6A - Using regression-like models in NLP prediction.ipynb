{
 "cells": [
  {
   "cell_type": "markdown",
   "metadata": {},
   "source": [
    "# Demo 6A\n",
    "The purpose of this demonstration is to reiterate learning objects in lectures 6.1 through 6.3. After completing this demonstration, you should feel comfortable:\n",
    "- loading and preparing textual data for analysis with regression-type supervised methods\n",
    "- training a Lasso model and investigating significant parameters\n",
    "- training a Support Vector Regression (SVR)\n",
    "- training and fine-tuning the SVR model"
   ]
  },
  {
   "cell_type": "markdown",
   "metadata": {},
   "source": [
    "### The Data\n",
    "For this demonstration, we are going to use some data from Stocktwits, a popular Twitter-like platform used by investors to discuss stocks. The full universe of posts is massive--there are 10s of millions individual posts. To simplify, I've generated a random sample of 10,000 tweets from 2018 that we will analyze. Note that these tweets were originally collected via an API in a JSON format. I've provided them here in a dataframe.\n",
    "\n",
    "We'll begin by loading the dataframe and inspecting."
   ]
  },
  {
   "cell_type": "code",
   "execution_count": null,
   "metadata": {},
   "outputs": [],
   "source": [
    "import pandas as pd, numpy as np\n",
    "data_path = \"/storage/ice-shared/mgt8833/classdata/stocktwits_sample.csv.gz\"\n",
    "df = pd.read_csv(data_path)\n",
    "df"
   ]
  },
  {
   "cell_type": "code",
   "execution_count": 1,
   "metadata": {},
   "outputs": [
    {
     "data": {
      "text/html": [
       "<div>\n",
       "<style scoped>\n",
       "    .dataframe tbody tr th:only-of-type {\n",
       "        vertical-align: middle;\n",
       "    }\n",
       "\n",
       "    .dataframe tbody tr th {\n",
       "        vertical-align: top;\n",
       "    }\n",
       "\n",
       "    .dataframe thead th {\n",
       "        text-align: right;\n",
       "    }\n",
       "</style>\n",
       "<table border=\"1\" class=\"dataframe\">\n",
       "  <thead>\n",
       "    <tr style=\"text-align: right;\">\n",
       "      <th></th>\n",
       "      <th>twitID</th>\n",
       "      <th>author</th>\n",
       "      <th>author_followers</th>\n",
       "      <th>author_ideas</th>\n",
       "      <th>sentiment</th>\n",
       "      <th>text</th>\n",
       "      <th>tickers</th>\n",
       "      <th>timestamp</th>\n",
       "      <th>sentiment_score</th>\n",
       "    </tr>\n",
       "  </thead>\n",
       "  <tbody>\n",
       "    <tr>\n",
       "      <th>0</th>\n",
       "      <td>145610683</td>\n",
       "      <td>shortvolume</td>\n",
       "      <td>564</td>\n",
       "      <td>55841</td>\n",
       "      <td>{'basic': 'Bearish'}</td>\n",
       "      <td>$BCOR ranks 1675 by short volume at 72 pct The...</td>\n",
       "      <td>BCOR</td>\n",
       "      <td>2018-11-19 07:40:31</td>\n",
       "      <td>-0.9391</td>\n",
       "    </tr>\n",
       "    <tr>\n",
       "      <th>1</th>\n",
       "      <td>142498674</td>\n",
       "      <td>GoodNewsBull</td>\n",
       "      <td>2259</td>\n",
       "      <td>115484</td>\n",
       "      <td>{'basic': 'Bullish'}</td>\n",
       "      <td>$NFLX Great Price action. Flush the weak on Op...</td>\n",
       "      <td>NFLX</td>\n",
       "      <td>2018-10-24 13:39:31</td>\n",
       "      <td>-0.2136</td>\n",
       "    </tr>\n",
       "    <tr>\n",
       "      <th>2</th>\n",
       "      <td>135730171</td>\n",
       "      <td>livetraderalerts</td>\n",
       "      <td>971</td>\n",
       "      <td>148564</td>\n",
       "      <td>NaN</td>\n",
       "      <td>$KS 2.5m ago: SEC Current event(s) report - Ot...</td>\n",
       "      <td>KS</td>\n",
       "      <td>2018-08-30 20:22:49</td>\n",
       "      <td>0.0000</td>\n",
       "    </tr>\n",
       "    <tr>\n",
       "      <th>3</th>\n",
       "      <td>125482718</td>\n",
       "      <td>WinAllDay</td>\n",
       "      <td>66</td>\n",
       "      <td>1044</td>\n",
       "      <td>{'basic': 'Bullish'}</td>\n",
       "      <td>$ADA.X</td>\n",
       "      <td>ADA.X</td>\n",
       "      <td>2018-06-01 16:39:44</td>\n",
       "      <td>0.0000</td>\n",
       "    </tr>\n",
       "    <tr>\n",
       "      <th>4</th>\n",
       "      <td>143001861</td>\n",
       "      <td>MBoardman88</td>\n",
       "      <td>6</td>\n",
       "      <td>153</td>\n",
       "      <td>{'basic': 'Bullish'}</td>\n",
       "      <td>@Dman20200 just making sureð. Really trying...</td>\n",
       "      <td>ATOS</td>\n",
       "      <td>2018-10-27 17:30:41</td>\n",
       "      <td>0.8465</td>\n",
       "    </tr>\n",
       "    <tr>\n",
       "      <th>...</th>\n",
       "      <td>...</td>\n",
       "      <td>...</td>\n",
       "      <td>...</td>\n",
       "      <td>...</td>\n",
       "      <td>...</td>\n",
       "      <td>...</td>\n",
       "      <td>...</td>\n",
       "      <td>...</td>\n",
       "      <td>...</td>\n",
       "    </tr>\n",
       "    <tr>\n",
       "      <th>9995</th>\n",
       "      <td>141224945</td>\n",
       "      <td>tygerview</td>\n",
       "      <td>3</td>\n",
       "      <td>36</td>\n",
       "      <td>{'basic': 'Bullish'}</td>\n",
       "      <td>$CRMD we are almost at $3. So this leads me to...</td>\n",
       "      <td>CRMD</td>\n",
       "      <td>2018-10-12 21:41:38</td>\n",
       "      <td>0.0000</td>\n",
       "    </tr>\n",
       "    <tr>\n",
       "      <th>9996</th>\n",
       "      <td>122216361</td>\n",
       "      <td>Berserk74</td>\n",
       "      <td>37</td>\n",
       "      <td>4812</td>\n",
       "      <td>{'basic': 'Bullish'}</td>\n",
       "      <td>$CHK chuckie sound like cookie. I like cookie....</td>\n",
       "      <td>CHK</td>\n",
       "      <td>2018-05-03 20:11:21</td>\n",
       "      <td>0.0000</td>\n",
       "    </tr>\n",
       "    <tr>\n",
       "      <th>9997</th>\n",
       "      <td>132457414</td>\n",
       "      <td>Nicknar1213</td>\n",
       "      <td>3</td>\n",
       "      <td>358</td>\n",
       "      <td>{'basic': 'Bullish'}</td>\n",
       "      <td>$SESN MM's Breaking our Balls.... No worries e...</td>\n",
       "      <td>SESN</td>\n",
       "      <td>2018-08-02 19:25:09</td>\n",
       "      <td>0.8355</td>\n",
       "    </tr>\n",
       "    <tr>\n",
       "      <th>9998</th>\n",
       "      <td>137223056</td>\n",
       "      <td>JimInvestor</td>\n",
       "      <td>2588</td>\n",
       "      <td>24975</td>\n",
       "      <td>{'basic': 'Bearish'}</td>\n",
       "      <td>Damaged ð«parabola  Crumbling ð»  $AMD   L...</td>\n",
       "      <td>AMD</td>\n",
       "      <td>2018-09-13 19:16:23</td>\n",
       "      <td>-0.6667</td>\n",
       "    </tr>\n",
       "    <tr>\n",
       "      <th>9999</th>\n",
       "      <td>122594183</td>\n",
       "      <td>blockchain0</td>\n",
       "      <td>16</td>\n",
       "      <td>876</td>\n",
       "      <td>NaN</td>\n",
       "      <td>$TEUM mmmm!!! Smoked bear meat! Donât know i...</td>\n",
       "      <td>TEUM</td>\n",
       "      <td>2018-05-07 23:05:04</td>\n",
       "      <td>-0.8863</td>\n",
       "    </tr>\n",
       "  </tbody>\n",
       "</table>\n",
       "<p>10000 rows × 9 columns</p>\n",
       "</div>"
      ],
      "text/plain": [
       "         twitID            author  author_followers  author_ideas  \\\n",
       "0     145610683       shortvolume               564         55841   \n",
       "1     142498674      GoodNewsBull              2259        115484   \n",
       "2     135730171  livetraderalerts               971        148564   \n",
       "3     125482718         WinAllDay                66          1044   \n",
       "4     143001861       MBoardman88                 6           153   \n",
       "...         ...               ...               ...           ...   \n",
       "9995  141224945         tygerview                 3            36   \n",
       "9996  122216361         Berserk74                37          4812   \n",
       "9997  132457414       Nicknar1213                 3           358   \n",
       "9998  137223056       JimInvestor              2588         24975   \n",
       "9999  122594183       blockchain0                16           876   \n",
       "\n",
       "                 sentiment                                               text  \\\n",
       "0     {'basic': 'Bearish'}  $BCOR ranks 1675 by short volume at 72 pct The...   \n",
       "1     {'basic': 'Bullish'}  $NFLX Great Price action. Flush the weak on Op...   \n",
       "2                      NaN  $KS 2.5m ago: SEC Current event(s) report - Ot...   \n",
       "3     {'basic': 'Bullish'}                                             $ADA.X   \n",
       "4     {'basic': 'Bullish'}  @Dman20200 just making sureð. Really trying...   \n",
       "...                    ...                                                ...   \n",
       "9995  {'basic': 'Bullish'}  $CRMD we are almost at $3. So this leads me to...   \n",
       "9996  {'basic': 'Bullish'}  $CHK chuckie sound like cookie. I like cookie....   \n",
       "9997  {'basic': 'Bullish'}  $SESN MM's Breaking our Balls.... No worries e...   \n",
       "9998  {'basic': 'Bearish'}  Damaged ð«parabola  Crumbling ð»  $AMD   L...   \n",
       "9999                   NaN  $TEUM mmmm!!! Smoked bear meat! Donât know i...   \n",
       "\n",
       "     tickers            timestamp  sentiment_score  \n",
       "0       BCOR  2018-11-19 07:40:31          -0.9391  \n",
       "1       NFLX  2018-10-24 13:39:31          -0.2136  \n",
       "2         KS  2018-08-30 20:22:49           0.0000  \n",
       "3      ADA.X  2018-06-01 16:39:44           0.0000  \n",
       "4       ATOS  2018-10-27 17:30:41           0.8465  \n",
       "...      ...                  ...              ...  \n",
       "9995    CRMD  2018-10-12 21:41:38           0.0000  \n",
       "9996     CHK  2018-05-03 20:11:21           0.0000  \n",
       "9997    SESN  2018-08-02 19:25:09           0.8355  \n",
       "9998     AMD  2018-09-13 19:16:23          -0.6667  \n",
       "9999    TEUM  2018-05-07 23:05:04          -0.8863  \n",
       "\n",
       "[10000 rows x 9 columns]"
      ]
     },
     "execution_count": 1,
     "metadata": {},
     "output_type": "execute_result"
    }
   ],
   "source": [
    "import pandas as pd, numpy as np\n",
    "\n",
    "df = pd.read_csv('out.csv')\n",
    "df"
   ]
  },
  {
   "cell_type": "code",
   "execution_count": 6,
   "metadata": {},
   "outputs": [
    {
     "name": "stdout",
     "output_type": "stream",
     "text": [
      "Collecting ftfy\n",
      "  Downloading ftfy-6.2.3-py3-none-any.whl.metadata (7.8 kB)\n",
      "Collecting wcwidth<0.3.0,>=0.2.12 (from ftfy)\n",
      "  Downloading wcwidth-0.2.13-py2.py3-none-any.whl.metadata (14 kB)\n",
      "Downloading ftfy-6.2.3-py3-none-any.whl (43 kB)\n",
      "\u001b[2K   \u001b[90m━━━━━━━━━━━━━━━━━━━━━━━━━━━━━━━━━━━━━━━━\u001b[0m \u001b[32m43.0/43.0 kB\u001b[0m \u001b[31m741.7 kB/s\u001b[0m eta \u001b[36m0:00:00\u001b[0ma \u001b[36m0:00:01\u001b[0m\n",
      "\u001b[?25hDownloading wcwidth-0.2.13-py2.py3-none-any.whl (34 kB)\n",
      "Installing collected packages: wcwidth, ftfy\n",
      "  Attempting uninstall: wcwidth\n",
      "    Found existing installation: wcwidth 0.2.5\n",
      "    Uninstalling wcwidth-0.2.5:\n",
      "      Successfully uninstalled wcwidth-0.2.5\n",
      "Successfully installed ftfy-6.2.3 wcwidth-0.2.13\n"
     ]
    }
   ],
   "source": [
    "!pip install ftfy"
   ]
  },
  {
   "cell_type": "markdown",
   "metadata": {},
   "source": [
    "Looks like there is some encoding issues... we could spin our wheels trying to figure out what the correct encoding is, but someone put together an incredibly useful package for NLP. It's conveniently called __[`ftfy`](https://pypi.org/project/ftfy/)__. "
   ]
  },
  {
   "cell_type": "code",
   "execution_count": 9,
   "metadata": {},
   "outputs": [
    {
     "data": {
      "text/html": [
       "<div>\n",
       "<style scoped>\n",
       "    .dataframe tbody tr th:only-of-type {\n",
       "        vertical-align: middle;\n",
       "    }\n",
       "\n",
       "    .dataframe tbody tr th {\n",
       "        vertical-align: top;\n",
       "    }\n",
       "\n",
       "    .dataframe thead th {\n",
       "        text-align: right;\n",
       "    }\n",
       "</style>\n",
       "<table border=\"1\" class=\"dataframe\">\n",
       "  <thead>\n",
       "    <tr style=\"text-align: right;\">\n",
       "      <th></th>\n",
       "      <th>twitID</th>\n",
       "      <th>author</th>\n",
       "      <th>author_followers</th>\n",
       "      <th>author_ideas</th>\n",
       "      <th>sentiment</th>\n",
       "      <th>text</th>\n",
       "      <th>tickers</th>\n",
       "      <th>timestamp</th>\n",
       "      <th>sentiment_score</th>\n",
       "    </tr>\n",
       "  </thead>\n",
       "  <tbody>\n",
       "    <tr>\n",
       "      <th>0</th>\n",
       "      <td>145610683</td>\n",
       "      <td>shortvolume</td>\n",
       "      <td>564</td>\n",
       "      <td>55841</td>\n",
       "      <td>{'basic': 'Bearish'}</td>\n",
       "      <td>$BCOR ranks 1675 by short volume at 72 pct The...</td>\n",
       "      <td>BCOR</td>\n",
       "      <td>2018-11-19 07:40:31</td>\n",
       "      <td>-0.9391</td>\n",
       "    </tr>\n",
       "    <tr>\n",
       "      <th>1</th>\n",
       "      <td>142498674</td>\n",
       "      <td>GoodNewsBull</td>\n",
       "      <td>2259</td>\n",
       "      <td>115484</td>\n",
       "      <td>{'basic': 'Bullish'}</td>\n",
       "      <td>$NFLX Great Price action. Flush the weak on Op...</td>\n",
       "      <td>NFLX</td>\n",
       "      <td>2018-10-24 13:39:31</td>\n",
       "      <td>-0.2136</td>\n",
       "    </tr>\n",
       "    <tr>\n",
       "      <th>2</th>\n",
       "      <td>135730171</td>\n",
       "      <td>livetraderalerts</td>\n",
       "      <td>971</td>\n",
       "      <td>148564</td>\n",
       "      <td>NaN</td>\n",
       "      <td>$KS 2.5m ago: SEC Current event(s) report - Ot...</td>\n",
       "      <td>KS</td>\n",
       "      <td>2018-08-30 20:22:49</td>\n",
       "      <td>0.0000</td>\n",
       "    </tr>\n",
       "    <tr>\n",
       "      <th>3</th>\n",
       "      <td>125482718</td>\n",
       "      <td>WinAllDay</td>\n",
       "      <td>66</td>\n",
       "      <td>1044</td>\n",
       "      <td>{'basic': 'Bullish'}</td>\n",
       "      <td>$ADA.X</td>\n",
       "      <td>ADA.X</td>\n",
       "      <td>2018-06-01 16:39:44</td>\n",
       "      <td>0.0000</td>\n",
       "    </tr>\n",
       "    <tr>\n",
       "      <th>4</th>\n",
       "      <td>143001861</td>\n",
       "      <td>MBoardman88</td>\n",
       "      <td>6</td>\n",
       "      <td>153</td>\n",
       "      <td>{'basic': 'Bullish'}</td>\n",
       "      <td>@Dman20200 just making sure👍. Really trying to...</td>\n",
       "      <td>ATOS</td>\n",
       "      <td>2018-10-27 17:30:41</td>\n",
       "      <td>0.8465</td>\n",
       "    </tr>\n",
       "    <tr>\n",
       "      <th>...</th>\n",
       "      <td>...</td>\n",
       "      <td>...</td>\n",
       "      <td>...</td>\n",
       "      <td>...</td>\n",
       "      <td>...</td>\n",
       "      <td>...</td>\n",
       "      <td>...</td>\n",
       "      <td>...</td>\n",
       "      <td>...</td>\n",
       "    </tr>\n",
       "    <tr>\n",
       "      <th>9995</th>\n",
       "      <td>141224945</td>\n",
       "      <td>tygerview</td>\n",
       "      <td>3</td>\n",
       "      <td>36</td>\n",
       "      <td>{'basic': 'Bullish'}</td>\n",
       "      <td>$CRMD we are almost at $3. So this leads me to...</td>\n",
       "      <td>CRMD</td>\n",
       "      <td>2018-10-12 21:41:38</td>\n",
       "      <td>0.0000</td>\n",
       "    </tr>\n",
       "    <tr>\n",
       "      <th>9996</th>\n",
       "      <td>122216361</td>\n",
       "      <td>Berserk74</td>\n",
       "      <td>37</td>\n",
       "      <td>4812</td>\n",
       "      <td>{'basic': 'Bullish'}</td>\n",
       "      <td>$CHK chuckie sound like cookie. I like cookie....</td>\n",
       "      <td>CHK</td>\n",
       "      <td>2018-05-03 20:11:21</td>\n",
       "      <td>0.0000</td>\n",
       "    </tr>\n",
       "    <tr>\n",
       "      <th>9997</th>\n",
       "      <td>132457414</td>\n",
       "      <td>Nicknar1213</td>\n",
       "      <td>3</td>\n",
       "      <td>358</td>\n",
       "      <td>{'basic': 'Bullish'}</td>\n",
       "      <td>$SESN MM's Breaking our Balls.... No worries e...</td>\n",
       "      <td>SESN</td>\n",
       "      <td>2018-08-02 19:25:09</td>\n",
       "      <td>0.8355</td>\n",
       "    </tr>\n",
       "    <tr>\n",
       "      <th>9998</th>\n",
       "      <td>137223056</td>\n",
       "      <td>JimInvestor</td>\n",
       "      <td>2588</td>\n",
       "      <td>24975</td>\n",
       "      <td>{'basic': 'Bearish'}</td>\n",
       "      <td>Damaged 🚫parabola  Crumbling 🔻  $AMD   Learn p...</td>\n",
       "      <td>AMD</td>\n",
       "      <td>2018-09-13 19:16:23</td>\n",
       "      <td>-0.6667</td>\n",
       "    </tr>\n",
       "    <tr>\n",
       "      <th>9999</th>\n",
       "      <td>122594183</td>\n",
       "      <td>blockchain0</td>\n",
       "      <td>16</td>\n",
       "      <td>876</td>\n",
       "      <td>NaN</td>\n",
       "      <td>$TEUM mmmm!!! Smoked bear meat! Don't know if ...</td>\n",
       "      <td>TEUM</td>\n",
       "      <td>2018-05-07 23:05:04</td>\n",
       "      <td>-0.8863</td>\n",
       "    </tr>\n",
       "  </tbody>\n",
       "</table>\n",
       "<p>10000 rows × 9 columns</p>\n",
       "</div>"
      ],
      "text/plain": [
       "         twitID            author  author_followers  author_ideas  \\\n",
       "0     145610683       shortvolume               564         55841   \n",
       "1     142498674      GoodNewsBull              2259        115484   \n",
       "2     135730171  livetraderalerts               971        148564   \n",
       "3     125482718         WinAllDay                66          1044   \n",
       "4     143001861       MBoardman88                 6           153   \n",
       "...         ...               ...               ...           ...   \n",
       "9995  141224945         tygerview                 3            36   \n",
       "9996  122216361         Berserk74                37          4812   \n",
       "9997  132457414       Nicknar1213                 3           358   \n",
       "9998  137223056       JimInvestor              2588         24975   \n",
       "9999  122594183       blockchain0                16           876   \n",
       "\n",
       "                 sentiment                                               text  \\\n",
       "0     {'basic': 'Bearish'}  $BCOR ranks 1675 by short volume at 72 pct The...   \n",
       "1     {'basic': 'Bullish'}  $NFLX Great Price action. Flush the weak on Op...   \n",
       "2                      NaN  $KS 2.5m ago: SEC Current event(s) report - Ot...   \n",
       "3     {'basic': 'Bullish'}                                             $ADA.X   \n",
       "4     {'basic': 'Bullish'}  @Dman20200 just making sure👍. Really trying to...   \n",
       "...                    ...                                                ...   \n",
       "9995  {'basic': 'Bullish'}  $CRMD we are almost at $3. So this leads me to...   \n",
       "9996  {'basic': 'Bullish'}  $CHK chuckie sound like cookie. I like cookie....   \n",
       "9997  {'basic': 'Bullish'}  $SESN MM's Breaking our Balls.... No worries e...   \n",
       "9998  {'basic': 'Bearish'}  Damaged 🚫parabola  Crumbling 🔻  $AMD   Learn p...   \n",
       "9999                   NaN  $TEUM mmmm!!! Smoked bear meat! Don't know if ...   \n",
       "\n",
       "     tickers            timestamp  sentiment_score  \n",
       "0       BCOR  2018-11-19 07:40:31          -0.9391  \n",
       "1       NFLX  2018-10-24 13:39:31          -0.2136  \n",
       "2         KS  2018-08-30 20:22:49           0.0000  \n",
       "3      ADA.X  2018-06-01 16:39:44           0.0000  \n",
       "4       ATOS  2018-10-27 17:30:41           0.8465  \n",
       "...      ...                  ...              ...  \n",
       "9995    CRMD  2018-10-12 21:41:38           0.0000  \n",
       "9996     CHK  2018-05-03 20:11:21           0.0000  \n",
       "9997    SESN  2018-08-02 19:25:09           0.8355  \n",
       "9998     AMD  2018-09-13 19:16:23          -0.6667  \n",
       "9999    TEUM  2018-05-07 23:05:04          -0.8863  \n",
       "\n",
       "[10000 rows x 9 columns]"
      ]
     },
     "execution_count": 9,
     "metadata": {},
     "output_type": "execute_result"
    }
   ],
   "source": [
    "import ftfy\n",
    "df['text'] = df['text'].apply(lambda x: ftfy.ftfy(x))\n",
    "df"
   ]
  },
  {
   "cell_type": "markdown",
   "metadata": {},
   "source": [
    "Emojis!\n",
    "\n",
    "### Preprocessing the Data ###\n",
    "We're going to go through much of the same process we've done before to create a document-term matrix that we can use in our supervised models. But, this data is a little different. Specifically, it's social media, so there are some extra considerations to consider with respect to tokenizing: \n",
    "- Hash-tags won't be parsed correctly with a standard, word boundary approach\n",
    "- Single character tokens, which we usually drop, will include emojis\n",
    "- Cash-tags also won't be handled correctly\n",
    "\n",
    "We will use a custom tokenizer with sklearn's `CountVectorizer`. However, we're still going to start with a tokenizer designed for social media, `TweetTokenizer` from `nltk`. Let's look at an example:"
   ]
  },
  {
   "cell_type": "code",
   "execution_count": 12,
   "metadata": {},
   "outputs": [
    {
     "data": {
      "text/plain": [
       "'$AMZN sells everything 🙄....... but they make a lot of money! #gobig #primetime'"
      ]
     },
     "execution_count": 12,
     "metadata": {},
     "output_type": "execute_result"
    }
   ],
   "source": [
    "from nltk.tokenize import word_tokenize\n",
    "from nltk.tokenize.casual import TweetTokenizer\n",
    "\n",
    "twtokenize = TweetTokenizer()\n",
    "\n",
    "sample = \"$AMZN sells everything 🙄....... but they make a lot of money! #gobig #primetime\"\n",
    "sample"
   ]
  },
  {
   "cell_type": "markdown",
   "metadata": {},
   "source": [
    "Compare the standard `word_tokenize` function to what we get from tweet tokenize:"
   ]
  },
  {
   "cell_type": "code",
   "execution_count": 15,
   "metadata": {},
   "outputs": [
    {
     "data": {
      "text/plain": [
       "['$',\n",
       " 'AMZN',\n",
       " 'sells',\n",
       " 'everything',\n",
       " '🙄',\n",
       " '.......',\n",
       " 'but',\n",
       " 'they',\n",
       " 'make',\n",
       " 'a',\n",
       " 'lot',\n",
       " 'of',\n",
       " 'money',\n",
       " '!',\n",
       " '#',\n",
       " 'gobig',\n",
       " '#',\n",
       " 'primetime']"
      ]
     },
     "execution_count": 15,
     "metadata": {},
     "output_type": "execute_result"
    }
   ],
   "source": [
    "word_tokenize(sample)"
   ]
  },
  {
   "cell_type": "code",
   "execution_count": 17,
   "metadata": {},
   "outputs": [
    {
     "data": {
      "text/plain": [
       "['$',\n",
       " 'AMZN',\n",
       " 'sells',\n",
       " 'everything',\n",
       " '🙄',\n",
       " '...',\n",
       " 'but',\n",
       " 'they',\n",
       " 'make',\n",
       " 'a',\n",
       " 'lot',\n",
       " 'of',\n",
       " 'money',\n",
       " '!',\n",
       " '#gobig',\n",
       " '#primetime']"
      ]
     },
     "execution_count": 17,
     "metadata": {},
     "output_type": "execute_result"
    }
   ],
   "source": [
    "twtokenize.tokenize(sample)"
   ]
  },
  {
   "cell_type": "markdown",
   "metadata": {},
   "source": [
    "The main difference between the two is that the latter addresses hashtags. It also normalizes ellipses. \n",
    "\n",
    "So, let's start with this tokenizer and adjust from there. We will incorporate the following considerations:\n",
    "1. Remove stop words\n",
    "2. Normalize cash tags (we don't want certain firms driving our analysis)\n",
    "3. Require tokens to be either a hashtag, an emoji, or a word (all alpha) of 3 or more characters\n",
    "\n",
    "We have done (1) numerous times. For (2), we'll use a regex, and for (3) we'll use some if/else logic. Let's import some additional modules and start to set this up:"
   ]
  },
  {
   "cell_type": "code",
   "execution_count": 23,
   "metadata": {},
   "outputs": [
    {
     "name": "stdout",
     "output_type": "stream",
     "text": [
      "Collecting emoji\n",
      "  Downloading emoji-2.13.0-py3-none-any.whl.metadata (5.8 kB)\n",
      "Requirement already satisfied: typing-extensions>=4.7.0 in /opt/anaconda3/lib/python3.11/site-packages (from emoji) (4.12.2)\n",
      "Downloading emoji-2.13.0-py3-none-any.whl (553 kB)\n",
      "\u001b[2K   \u001b[90m━━━━━━━━━━━━━━━━━━━━━━━━━━━━━━━━━━━━━━━━\u001b[0m \u001b[32m553.2/553.2 kB\u001b[0m \u001b[31m3.5 MB/s\u001b[0m eta \u001b[36m0:00:00\u001b[0m00:01\u001b[0m00:01\u001b[0m\n",
      "\u001b[?25hInstalling collected packages: emoji\n",
      "Successfully installed emoji-2.13.0\n"
     ]
    }
   ],
   "source": [
    "! pip install emoji"
   ]
  },
  {
   "cell_type": "code",
   "execution_count": 25,
   "metadata": {},
   "outputs": [],
   "source": [
    "import emoji, re\n",
    "from nltk.corpus import stopwords\n",
    "\n",
    "stops = stopwords.words('english')\n",
    "cashtag_rx = re.compile(r'\\$[a-z0-9.]+?\\b',re.I) # can't have a leading \\b because $ is not word character (could use \\W* to lead)."
   ]
  },
  {
   "cell_type": "markdown",
   "metadata": {},
   "source": [
    "Let's test our regular expression and look at how to use the emoji package:"
   ]
  },
  {
   "cell_type": "code",
   "execution_count": 28,
   "metadata": {},
   "outputs": [
    {
     "name": "stdout",
     "output_type": "stream",
     "text": [
      "<re.Match object; span=(0, 8), match='$CASHTAG'>\n",
      "None\n"
     ]
    }
   ],
   "source": [
    "print(re.search(cashtag_rx,'$CASHTAG'))\n",
    "print(re.search(cashtag_rx,'NotAcashtag'))"
   ]
  },
  {
   "cell_type": "code",
   "execution_count": 30,
   "metadata": {},
   "outputs": [
    {
     "name": "stdout",
     "output_type": "stream",
     "text": [
      "False\n",
      "True\n"
     ]
    }
   ],
   "source": [
    "# Emoji function\n",
    "print(emoji.is_emoji(\"hi\"))\n",
    "print(emoji.is_emoji(\"🐑\"))"
   ]
  },
  {
   "cell_type": "markdown",
   "metadata": {},
   "source": [
    "For the cash tags, we'll replace any cash tag with \"cash_tag\". We can use `re.sub` to accomplish this:"
   ]
  },
  {
   "cell_type": "code",
   "execution_count": 33,
   "metadata": {},
   "outputs": [
    {
     "data": {
      "text/plain": [
       "'I love cash_tag.'"
      ]
     },
     "execution_count": 33,
     "metadata": {},
     "output_type": "execute_result"
    }
   ],
   "source": [
    "re.sub(cashtag_rx,'cash_tag',\"I love $AMZN.\")"
   ]
  },
  {
   "cell_type": "markdown",
   "metadata": {},
   "source": [
    "Now let's define a new function:"
   ]
  },
  {
   "cell_type": "code",
   "execution_count": 36,
   "metadata": {},
   "outputs": [
    {
     "name": "stdout",
     "output_type": "stream",
     "text": [
      "$AMZN sells everything 🙄....... but they make a lot of money! #gobig #primetime\n"
     ]
    },
    {
     "data": {
      "text/plain": [
       "['cash_tag', 'sells', 'everything', '🙄', 'but', 'they', 'make', 'lot', 'money']"
      ]
     },
     "execution_count": 36,
     "metadata": {},
     "output_type": "execute_result"
    }
   ],
   "source": [
    "def myTweetTokenizer(tweet):\n",
    "    tweet = re.sub(cashtag_rx,'cash_tag',tweet) # normalize cash tags\n",
    "    toks = twtokenize.tokenize(tweet) # get list of tokens\n",
    "    good_tokens = []\n",
    "    for tok in toks:\n",
    "        if emoji.is_emoji(tok):\n",
    "            good_tokens.append(tok)\n",
    "        elif tok=='cash_tag':\n",
    "            good_tokens.append(tok)        \n",
    "        elif len(tok)>=3 and tok.isalpha():\n",
    "            good_tokens.append(tok.lower())    \n",
    "        else:\n",
    "            continue\n",
    "    \n",
    "    return good_tokens\n",
    "\n",
    "# Test\n",
    "print(sample)\n",
    "myTweetTokenizer(sample)"
   ]
  },
  {
   "cell_type": "markdown",
   "metadata": {},
   "source": [
    "What's the issue here? We didn't retain hashtags!\n",
    "\n",
    "How would you correct the function above? **PAUSE** for a minute or two and add some logic to retain hash tags."
   ]
  },
  {
   "cell_type": "code",
   "execution_count": 38,
   "metadata": {
    "scrolled": true
   },
   "outputs": [
    {
     "name": "stdout",
     "output_type": "stream",
     "text": [
      "$AMZN sells everything 🙄....... but they make a lot of money! #gobig #primetime\n"
     ]
    },
    {
     "data": {
      "text/plain": [
       "['cash_tag',\n",
       " 'sells',\n",
       " 'everything',\n",
       " '🙄',\n",
       " 'but',\n",
       " 'they',\n",
       " 'make',\n",
       " 'lot',\n",
       " 'money',\n",
       " '#gobig',\n",
       " '#primetime']"
      ]
     },
     "execution_count": 38,
     "metadata": {},
     "output_type": "execute_result"
    }
   ],
   "source": [
    "#Your own work goes here:\n",
    "def myTweetTokenizer(tweet):\n",
    "    tweet = re.sub(cashtag_rx,'cash_tag',tweet) # normalize cash tags\n",
    "    toks = twtokenize.tokenize(tweet) # get list of tokens\n",
    "    good_tokens = []\n",
    "    for tok in toks:\n",
    "        if emoji.is_emoji(tok):\n",
    "            good_tokens.append(tok)\n",
    "        elif tok=='cash_tag':\n",
    "            good_tokens.append(tok)        \n",
    "        elif len(tok)>=3 and tok.isalpha():\n",
    "            good_tokens.append(tok.lower())\n",
    "        elif tok.startswith(\"#\"):\n",
    "            good_tokens.append(tok.lower())\n",
    "        else:\n",
    "            continue\n",
    "    \n",
    "    return good_tokens\n",
    "\n",
    "# Test\n",
    "print(sample)\n",
    "myTweetTokenizer(sample)"
   ]
  },
  {
   "cell_type": "markdown",
   "metadata": {},
   "source": [
    "Now let's \"extract features\" (or generate the document term matrix)"
   ]
  },
  {
   "cell_type": "markdown",
   "metadata": {},
   "source": [
    "### Feature Extraction & Train/Test split\n",
    "We're going to generate our DTM using TF-IDF weighted counts. We'll retain only the 1000 most common words, and then briefly inspect what those words are in each matrix. \n",
    "\n",
    "Since we've done this a few times now we'll go through this part relatively quickly. We're going to set these parameters:\n",
    "- `lowercase`: Set to `False` (our tokenizer will handle this where it needs to)\n",
    "- `tokenizer`: use `myTweetTokenizer`\n",
    "- `ngram_range`: use `(1,2)` to allow for words and bigrams\n",
    "- `max_features`: set to 2000\n",
    "- `stop_words`: set equal to our stop word list, `stops`"
   ]
  },
  {
   "cell_type": "code",
   "execution_count": 42,
   "metadata": {},
   "outputs": [
    {
     "data": {
      "text/plain": [
       "0       $BCOR ranks 1675 by short volume at 72 pct The...\n",
       "1       $NFLX Great Price action. Flush the weak on Op...\n",
       "2       $KS 2.5m ago: SEC Current event(s) report - Ot...\n",
       "3                                                  $ADA.X\n",
       "4       @Dman20200 just making sure👍. Really trying to...\n",
       "                              ...                        \n",
       "9995    $CRMD we are almost at $3. So this leads me to...\n",
       "9996    $CHK chuckie sound like cookie. I like cookie....\n",
       "9997    $SESN MM's Breaking our Balls.... No worries e...\n",
       "9998    Damaged 🚫parabola  Crumbling 🔻  $AMD   Learn p...\n",
       "9999    $TEUM mmmm!!! Smoked bear meat! Don't know if ...\n",
       "Name: text, Length: 10000, dtype: object"
      ]
     },
     "execution_count": 42,
     "metadata": {},
     "output_type": "execute_result"
    }
   ],
   "source": [
    "df['text']"
   ]
  },
  {
   "cell_type": "code",
   "execution_count": 44,
   "metadata": {},
   "outputs": [
    {
     "name": "stderr",
     "output_type": "stream",
     "text": [
      "/opt/anaconda3/lib/python3.11/site-packages/sklearn/feature_extraction/text.py:528: UserWarning: The parameter 'token_pattern' will not be used since 'tokenizer' is not None'\n",
      "  warnings.warn(\n"
     ]
    }
   ],
   "source": [
    "from sklearn.feature_extraction.text import TfidfVectorizer, CountVectorizer\n",
    "count_vec = CountVectorizer(lowercase = False, tokenizer = myTweetTokenizer, ngram_range = (1,2), max_features = 2000, stop_words = stops)\n",
    "tfidf_vec = TfidfVectorizer(lowercase = False, tokenizer = myTweetTokenizer, ngram_range = (1,2), max_features = 2000, stop_words = stops)\n",
    "\n",
    "dtm_c = count_vec.fit_transform(df['text'])\n",
    "dtm_w = tfidf_vec.fit_transform(df['text'])"
   ]
  },
  {
   "cell_type": "code",
   "execution_count": null,
   "metadata": {},
   "outputs": [],
   "source": []
  },
  {
   "cell_type": "markdown",
   "metadata": {},
   "source": [
    "Now let's look at the top 10 words in each vectorizer:"
   ]
  },
  {
   "cell_type": "code",
   "execution_count": 48,
   "metadata": {},
   "outputs": [
    {
     "name": "stdout",
     "output_type": "stream",
     "text": [
      "10 most common words based on word counts:\n",
      "\n",
      "cash_tag, short, buy, shares, today, good, like, reporting, get, going\n",
      "\n",
      "\n",
      "10 most common words based on weighted counts:\n",
      "\n",
      "cash_tag, short, buy, today, going, good, like, shares, get, cash_tag cash_tag\n"
     ]
    }
   ],
   "source": [
    "vocab_c = np.asarray(count_vec.get_feature_names_out())\n",
    "vocab_w = np.asarray(tfidf_vec.get_feature_names_out())\n",
    "\n",
    "topn = 10\n",
    "print(f\"{topn} most common words based on word counts:\\n\")\n",
    "words = vocab_c[np.asarray(dtm_c.todense()).sum(axis=0).argsort()[-topn:][::-1]]\n",
    "print(\", \".join(words))\n",
    "\n",
    "print(\"\\n\")\n",
    "\n",
    "print(f\"{topn} most common words based on weighted counts:\\n\")\n",
    "words = vocab_w[np.asarray(dtm_w.todense()).sum(axis=0).argsort()[-topn:][::-1]]\n",
    "print(\", \".join(words))\n"
   ]
  },
  {
   "cell_type": "markdown",
   "metadata": {},
   "source": [
    "It appears that the two methods produce similar features, as expected, with a few minor differences in ordering.\n",
    "\n",
    "How many words appear in one vocabulary and not the other? **PAUSE** for a minute and see if I you can figure out how to answer that question?"
   ]
  },
  {
   "cell_type": "code",
   "execution_count": 51,
   "metadata": {},
   "outputs": [],
   "source": [
    "# Your own work goes here:"
   ]
  },
  {
   "cell_type": "markdown",
   "metadata": {},
   "source": [
    "The original data had a `sentiment score`, which is based on a proprietary NLP algorithm used by Stocktwits to understand the underlying sentiment of tweets. We're going to attempt to unpack this score with a Lasso Regression and SVR. Before doing so, though, we need to address the fact that these supervised models are prone to overfitting. We'll look at how to address the training procedure to address overfitting a little later, but let's start with a simple train/test split that will allow us to assess the model fit using a hold out sample. \n",
    "\n",
    "Scikit-learn offers a useful function called `train_test_split` for splitting the data (__[documentation](https://scikit-learn.org/stable/modules/generated/sklearn.model_selection.train_test_split.html)__). The beauty of this function is that it will split multiple vectors/arrays, making sure everything stays aligned. In other words, suppose you have 3 datasets you want to use, and all three are \"vertically aligned\" (i.e., the rows line up). This function will split each of these 3 datasets, making sure the rows stay aligned across training and validation data. \n",
    "\n",
    "We'll use an 80/20 split for our data."
   ]
  },
  {
   "cell_type": "code",
   "execution_count": 54,
   "metadata": {},
   "outputs": [],
   "source": [
    "from sklearn.model_selection import train_test_split\n",
    "\n",
    "c_train,c_test,w_train,w_test,y_train,y_test = train_test_split(dtm_c, dtm_w, df['sentiment_score'],train_size=0.80,random_state=123)"
   ]
  },
  {
   "cell_type": "code",
   "execution_count": 113,
   "metadata": {},
   "outputs": [
    {
     "data": {
      "text/plain": [
       "<8000x2000 sparse matrix of type '<class 'numpy.int64'>'\n",
       "\twith 53334 stored elements in Compressed Sparse Row format>"
      ]
     },
     "execution_count": 113,
     "metadata": {},
     "output_type": "execute_result"
    }
   ],
   "source": [
    "y_train"
   ]
  },
  {
   "cell_type": "markdown",
   "metadata": {},
   "source": [
    "### Training & Evaluating Supervised Model ###\n",
    "\n",
    "#### Lasso\n",
    "We'll start with the Lasso model, which introduces L1 regularization to OLS. We'll use `sklearn`'s __[implementation of Lasso](https://scikit-learn.org/stable/modules/generated/sklearn.linear_model.Lasso.html)__, which is found in `linear_model`. We're going to focus on the weighted DTM, but you're welcome to use the simple word counts as well on your own. You should observe similar results.\n",
    "\n",
    "##### Training the Lasso Model\n",
    "\n",
    "Like most models, there are several key word arguments, or hyperparamters, that we can use to optimize the fit. The most important of these is `alpha`, which controls the magnitude of the penalty term. It defaults to 1.0, which is quite high with data on this scale. A value of 0 is equivalent to OLS.\n",
    "\n",
    "Let's start by training a model with mostly default parameters. We will adjust 3:\n",
    "- `alpha`: set to 0.1\n",
    "- `selection`: random (this relates to how coefficients are updated during training; by default, the algorithm iteratively processes features sequentially)\n",
    "- `random_state`: 123 (setting since we adjusted the value for `selection`)\n",
    "\n",
    "We're also going to fit an OLS model to compare to."
   ]
  },
  {
   "cell_type": "code",
   "execution_count": 59,
   "metadata": {},
   "outputs": [],
   "source": [
    "from sklearn.linear_model import Lasso, LinearRegression as OLS\n",
    "\n",
    "lasso = Lasso(alpha=0.1, selection=\"random\", random_state=123)\n",
    "ols = OLS()"
   ]
  },
  {
   "cell_type": "code",
   "execution_count": 61,
   "metadata": {},
   "outputs": [
    {
     "data": {
      "text/html": [
       "<style>#sk-container-id-1 {color: black;background-color: white;}#sk-container-id-1 pre{padding: 0;}#sk-container-id-1 div.sk-toggleable {background-color: white;}#sk-container-id-1 label.sk-toggleable__label {cursor: pointer;display: block;width: 100%;margin-bottom: 0;padding: 0.3em;box-sizing: border-box;text-align: center;}#sk-container-id-1 label.sk-toggleable__label-arrow:before {content: \"▸\";float: left;margin-right: 0.25em;color: #696969;}#sk-container-id-1 label.sk-toggleable__label-arrow:hover:before {color: black;}#sk-container-id-1 div.sk-estimator:hover label.sk-toggleable__label-arrow:before {color: black;}#sk-container-id-1 div.sk-toggleable__content {max-height: 0;max-width: 0;overflow: hidden;text-align: left;background-color: #f0f8ff;}#sk-container-id-1 div.sk-toggleable__content pre {margin: 0.2em;color: black;border-radius: 0.25em;background-color: #f0f8ff;}#sk-container-id-1 input.sk-toggleable__control:checked~div.sk-toggleable__content {max-height: 200px;max-width: 100%;overflow: auto;}#sk-container-id-1 input.sk-toggleable__control:checked~label.sk-toggleable__label-arrow:before {content: \"▾\";}#sk-container-id-1 div.sk-estimator input.sk-toggleable__control:checked~label.sk-toggleable__label {background-color: #d4ebff;}#sk-container-id-1 div.sk-label input.sk-toggleable__control:checked~label.sk-toggleable__label {background-color: #d4ebff;}#sk-container-id-1 input.sk-hidden--visually {border: 0;clip: rect(1px 1px 1px 1px);clip: rect(1px, 1px, 1px, 1px);height: 1px;margin: -1px;overflow: hidden;padding: 0;position: absolute;width: 1px;}#sk-container-id-1 div.sk-estimator {font-family: monospace;background-color: #f0f8ff;border: 1px dotted black;border-radius: 0.25em;box-sizing: border-box;margin-bottom: 0.5em;}#sk-container-id-1 div.sk-estimator:hover {background-color: #d4ebff;}#sk-container-id-1 div.sk-parallel-item::after {content: \"\";width: 100%;border-bottom: 1px solid gray;flex-grow: 1;}#sk-container-id-1 div.sk-label:hover label.sk-toggleable__label {background-color: #d4ebff;}#sk-container-id-1 div.sk-serial::before {content: \"\";position: absolute;border-left: 1px solid gray;box-sizing: border-box;top: 0;bottom: 0;left: 50%;z-index: 0;}#sk-container-id-1 div.sk-serial {display: flex;flex-direction: column;align-items: center;background-color: white;padding-right: 0.2em;padding-left: 0.2em;position: relative;}#sk-container-id-1 div.sk-item {position: relative;z-index: 1;}#sk-container-id-1 div.sk-parallel {display: flex;align-items: stretch;justify-content: center;background-color: white;position: relative;}#sk-container-id-1 div.sk-item::before, #sk-container-id-1 div.sk-parallel-item::before {content: \"\";position: absolute;border-left: 1px solid gray;box-sizing: border-box;top: 0;bottom: 0;left: 50%;z-index: -1;}#sk-container-id-1 div.sk-parallel-item {display: flex;flex-direction: column;z-index: 1;position: relative;background-color: white;}#sk-container-id-1 div.sk-parallel-item:first-child::after {align-self: flex-end;width: 50%;}#sk-container-id-1 div.sk-parallel-item:last-child::after {align-self: flex-start;width: 50%;}#sk-container-id-1 div.sk-parallel-item:only-child::after {width: 0;}#sk-container-id-1 div.sk-dashed-wrapped {border: 1px dashed gray;margin: 0 0.4em 0.5em 0.4em;box-sizing: border-box;padding-bottom: 0.4em;background-color: white;}#sk-container-id-1 div.sk-label label {font-family: monospace;font-weight: bold;display: inline-block;line-height: 1.2em;}#sk-container-id-1 div.sk-label-container {text-align: center;}#sk-container-id-1 div.sk-container {/* jupyter's `normalize.less` sets `[hidden] { display: none; }` but bootstrap.min.css set `[hidden] { display: none !important; }` so we also need the `!important` here to be able to override the default hidden behavior on the sphinx rendered scikit-learn.org. See: https://github.com/scikit-learn/scikit-learn/issues/21755 */display: inline-block !important;position: relative;}#sk-container-id-1 div.sk-text-repr-fallback {display: none;}</style><div id=\"sk-container-id-1\" class=\"sk-top-container\"><div class=\"sk-text-repr-fallback\"><pre>LinearRegression()</pre><b>In a Jupyter environment, please rerun this cell to show the HTML representation or trust the notebook. <br />On GitHub, the HTML representation is unable to render, please try loading this page with nbviewer.org.</b></div><div class=\"sk-container\" hidden><div class=\"sk-item\"><div class=\"sk-estimator sk-toggleable\"><input class=\"sk-toggleable__control sk-hidden--visually\" id=\"sk-estimator-id-1\" type=\"checkbox\" checked><label for=\"sk-estimator-id-1\" class=\"sk-toggleable__label sk-toggleable__label-arrow\">LinearRegression</label><div class=\"sk-toggleable__content\"><pre>LinearRegression()</pre></div></div></div></div></div>"
      ],
      "text/plain": [
       "LinearRegression()"
      ]
     },
     "execution_count": 61,
     "metadata": {},
     "output_type": "execute_result"
    }
   ],
   "source": [
    "lasso.fit(w_train,y_train)\n",
    "ols.fit(w_train,y_train)"
   ]
  },
  {
   "cell_type": "markdown",
   "metadata": {},
   "source": [
    "We've now trained both a Lasso model and OLS. How do we compare the results? There are many methods we could use. Let's focus on a few common ones:\n",
    "- R<sup>2</sup>\n",
    "- Mean-squared Error (MSE)"
   ]
  },
  {
   "cell_type": "code",
   "execution_count": 64,
   "metadata": {},
   "outputs": [
    {
     "name": "stdout",
     "output_type": "stream",
     "text": [
      "0.6453974603662174\n",
      "0.09347529725552453\n"
     ]
    }
   ],
   "source": [
    "from sklearn.metrics import r2_score, mean_squared_error\n",
    "\n",
    "print(r2_score(y_train,ols.predict(w_train)))\n",
    "print(mean_squared_error(y_train,ols.predict(w_train)))"
   ]
  },
  {
   "cell_type": "code",
   "execution_count": 66,
   "metadata": {},
   "outputs": [
    {
     "name": "stdout",
     "output_type": "stream",
     "text": [
      "0.0\n",
      "0.2636058313402424\n"
     ]
    }
   ],
   "source": [
    "print(r2_score(y_train,lasso.predict(w_train)))\n",
    "print(mean_squared_error(y_train,lasso.predict(w_train)))"
   ]
  },
  {
   "cell_type": "markdown",
   "metadata": {},
   "source": [
    "Are you surprised? \n",
    "\n",
    "The Lasso model doesn't work well here, but it's important to note that in-sample, Lasso will *never* outperform OLS. OLS is the \"best fit\" (remember, \"maximum likelihood\"). The point of a Lasso model is to make a linear model more generalizable by identifying the most important features. Let's see how the models performed out of sample:"
   ]
  },
  {
   "cell_type": "code",
   "execution_count": 69,
   "metadata": {},
   "outputs": [
    {
     "name": "stdout",
     "output_type": "stream",
     "text": [
      "0.17568904637802238\n",
      "0.27192191268307897\n"
     ]
    }
   ],
   "source": [
    "print(mean_squared_error(y_test,ols.predict(w_test)))\n",
    "print(mean_squared_error(y_test,lasso.predict(w_test)))"
   ]
  },
  {
   "cell_type": "markdown",
   "metadata": {},
   "source": [
    "The MSE remained roughly the same for Lasso (but this is overregularized, so it's not really informative), but you can see that OLS increased quite a bit. This suggests the OLS result might be overfitting the training data.\n",
    "\n",
    "Next we'll try tuning our lasso model to optimize MSE, and we can then compare to OLS."
   ]
  },
  {
   "cell_type": "markdown",
   "metadata": {},
   "source": [
    "##### Tuning the Lasso model\n",
    "To tune the model, we need to try many different values for `alpha`, the regularization parameter. Right now, the parameter is too large--all coefficients are being driven to 0. \n",
    "\n",
    "We could program a `for` loop that iterates over various values for `alpha`, but Scikit-learn offers a great means of tuning models, which I've mentioned before. For this exercise, we're going to use `GridSearchCV` (__[docs](https://scikit-learn.org/stable/modules/generated/sklearn.model_selection.GridSearchCV.html)__). This grid search procedure allows us to easily incorporate a number of features into our training. I've listed the key parameters that we haven't see yet, which we will use:\n",
    "- `estimator`: the base model you are trying to train (e.g., a lasso model); this is positional and must come first\n",
    "- `param_grid`: The dictionary of paramter combinations to try. The key(s) for this dictionary *must* correspond to key word arguments accepted by `estimator`; this is also positional and must come second\n",
    "- `scoring`: How the model should be evaluated. You can define multiple metrics and then review the results, or you can define only one and the procedure can identify the optimum model. This is a complex parameter, allowing for built-in scores or custom metrics. For scikit-learn's built in metrics, see __[here](https://scikit-learn.org/stable/modules/model_evaluation.html#scoring-parameter)__.\n",
    "- `cv`: relates to cross-validation. We'll use 3 folds. \n",
    "\n",
    "We'll also use some parameters we've seen before for parallelization and setting a random state:"
   ]
  },
  {
   "cell_type": "code",
   "execution_count": 73,
   "metadata": {},
   "outputs": [
    {
     "data": {
      "text/plain": [
       "5000"
      ]
     },
     "execution_count": 73,
     "metadata": {},
     "output_type": "execute_result"
    }
   ],
   "source": [
    "from sklearn.model_selection import GridSearchCV, KFold\n",
    "\n",
    "alphas = [i/100000 for i in range(1,10001,2)]\n",
    "params = {'alpha':alphas,'random_state':[123]}\n",
    "len(alphas)"
   ]
  },
  {
   "cell_type": "markdown",
   "metadata": {},
   "source": [
    "Now we can set up the grid and fit. Note that I need to adjust another paramter, `refit` to be `False`. If not the method doesn't know how to go back and fit the best model (since we have multiple scoring parameters). This will take a few minutes, so go ahead and pause and come back once your grid has finished processing."
   ]
  },
  {
   "cell_type": "code",
   "execution_count": 76,
   "metadata": {},
   "outputs": [
    {
     "name": "stderr",
     "output_type": "stream",
     "text": [
      "/opt/anaconda3/lib/python3.11/site-packages/sklearn/linear_model/_coordinate_descent.py:592: ConvergenceWarning: Objective did not converge. You might want to increase the number of iterations. Duality gap: 0.3199917956486047, tolerance: 0.14149314562621018\n",
      "  model = cd_fast.sparse_enet_coordinate_descent(\n",
      "/opt/anaconda3/lib/python3.11/site-packages/sklearn/linear_model/_coordinate_descent.py:592: ConvergenceWarning: Objective did not converge. You might want to increase the number of iterations. Duality gap: 0.21099703277019444, tolerance: 0.1399383912002633\n",
      "  model = cd_fast.sparse_enet_coordinate_descent(\n",
      "/opt/anaconda3/lib/python3.11/site-packages/sklearn/linear_model/_coordinate_descent.py:592: ConvergenceWarning: Objective did not converge. You might want to increase the number of iterations. Duality gap: 0.21713531563273136, tolerance: 0.14149314562621018\n",
      "  model = cd_fast.sparse_enet_coordinate_descent(\n"
     ]
    },
    {
     "data": {
      "text/html": [
       "<style>#sk-container-id-2 {color: black;background-color: white;}#sk-container-id-2 pre{padding: 0;}#sk-container-id-2 div.sk-toggleable {background-color: white;}#sk-container-id-2 label.sk-toggleable__label {cursor: pointer;display: block;width: 100%;margin-bottom: 0;padding: 0.3em;box-sizing: border-box;text-align: center;}#sk-container-id-2 label.sk-toggleable__label-arrow:before {content: \"▸\";float: left;margin-right: 0.25em;color: #696969;}#sk-container-id-2 label.sk-toggleable__label-arrow:hover:before {color: black;}#sk-container-id-2 div.sk-estimator:hover label.sk-toggleable__label-arrow:before {color: black;}#sk-container-id-2 div.sk-toggleable__content {max-height: 0;max-width: 0;overflow: hidden;text-align: left;background-color: #f0f8ff;}#sk-container-id-2 div.sk-toggleable__content pre {margin: 0.2em;color: black;border-radius: 0.25em;background-color: #f0f8ff;}#sk-container-id-2 input.sk-toggleable__control:checked~div.sk-toggleable__content {max-height: 200px;max-width: 100%;overflow: auto;}#sk-container-id-2 input.sk-toggleable__control:checked~label.sk-toggleable__label-arrow:before {content: \"▾\";}#sk-container-id-2 div.sk-estimator input.sk-toggleable__control:checked~label.sk-toggleable__label {background-color: #d4ebff;}#sk-container-id-2 div.sk-label input.sk-toggleable__control:checked~label.sk-toggleable__label {background-color: #d4ebff;}#sk-container-id-2 input.sk-hidden--visually {border: 0;clip: rect(1px 1px 1px 1px);clip: rect(1px, 1px, 1px, 1px);height: 1px;margin: -1px;overflow: hidden;padding: 0;position: absolute;width: 1px;}#sk-container-id-2 div.sk-estimator {font-family: monospace;background-color: #f0f8ff;border: 1px dotted black;border-radius: 0.25em;box-sizing: border-box;margin-bottom: 0.5em;}#sk-container-id-2 div.sk-estimator:hover {background-color: #d4ebff;}#sk-container-id-2 div.sk-parallel-item::after {content: \"\";width: 100%;border-bottom: 1px solid gray;flex-grow: 1;}#sk-container-id-2 div.sk-label:hover label.sk-toggleable__label {background-color: #d4ebff;}#sk-container-id-2 div.sk-serial::before {content: \"\";position: absolute;border-left: 1px solid gray;box-sizing: border-box;top: 0;bottom: 0;left: 50%;z-index: 0;}#sk-container-id-2 div.sk-serial {display: flex;flex-direction: column;align-items: center;background-color: white;padding-right: 0.2em;padding-left: 0.2em;position: relative;}#sk-container-id-2 div.sk-item {position: relative;z-index: 1;}#sk-container-id-2 div.sk-parallel {display: flex;align-items: stretch;justify-content: center;background-color: white;position: relative;}#sk-container-id-2 div.sk-item::before, #sk-container-id-2 div.sk-parallel-item::before {content: \"\";position: absolute;border-left: 1px solid gray;box-sizing: border-box;top: 0;bottom: 0;left: 50%;z-index: -1;}#sk-container-id-2 div.sk-parallel-item {display: flex;flex-direction: column;z-index: 1;position: relative;background-color: white;}#sk-container-id-2 div.sk-parallel-item:first-child::after {align-self: flex-end;width: 50%;}#sk-container-id-2 div.sk-parallel-item:last-child::after {align-self: flex-start;width: 50%;}#sk-container-id-2 div.sk-parallel-item:only-child::after {width: 0;}#sk-container-id-2 div.sk-dashed-wrapped {border: 1px dashed gray;margin: 0 0.4em 0.5em 0.4em;box-sizing: border-box;padding-bottom: 0.4em;background-color: white;}#sk-container-id-2 div.sk-label label {font-family: monospace;font-weight: bold;display: inline-block;line-height: 1.2em;}#sk-container-id-2 div.sk-label-container {text-align: center;}#sk-container-id-2 div.sk-container {/* jupyter's `normalize.less` sets `[hidden] { display: none; }` but bootstrap.min.css set `[hidden] { display: none !important; }` so we also need the `!important` here to be able to override the default hidden behavior on the sphinx rendered scikit-learn.org. See: https://github.com/scikit-learn/scikit-learn/issues/21755 */display: inline-block !important;position: relative;}#sk-container-id-2 div.sk-text-repr-fallback {display: none;}</style><div id=\"sk-container-id-2\" class=\"sk-top-container\"><div class=\"sk-text-repr-fallback\"><pre>GridSearchCV(cv=3, estimator=Lasso(), n_jobs=-1,\n",
       "             param_grid={&#x27;alpha&#x27;: [1e-05, 3e-05, 5e-05, 7e-05, 9e-05, 0.00011,\n",
       "                                   0.00013, 0.00015, 0.00017, 0.00019, 0.00021,\n",
       "                                   0.00023, 0.00025, 0.00027, 0.00029, 0.00031,\n",
       "                                   0.00033, 0.00035, 0.00037, 0.00039, 0.00041,\n",
       "                                   0.00043, 0.00045, 0.00047, 0.00049, 0.00051,\n",
       "                                   0.00053, 0.00055, 0.00057, 0.00059, ...],\n",
       "                         &#x27;random_state&#x27;: [123]},\n",
       "             refit=False, scoring=[&#x27;neg_root_mean_squared_error&#x27;, &#x27;r2&#x27;])</pre><b>In a Jupyter environment, please rerun this cell to show the HTML representation or trust the notebook. <br />On GitHub, the HTML representation is unable to render, please try loading this page with nbviewer.org.</b></div><div class=\"sk-container\" hidden><div class=\"sk-item sk-dashed-wrapped\"><div class=\"sk-label-container\"><div class=\"sk-label sk-toggleable\"><input class=\"sk-toggleable__control sk-hidden--visually\" id=\"sk-estimator-id-2\" type=\"checkbox\" ><label for=\"sk-estimator-id-2\" class=\"sk-toggleable__label sk-toggleable__label-arrow\">GridSearchCV</label><div class=\"sk-toggleable__content\"><pre>GridSearchCV(cv=3, estimator=Lasso(), n_jobs=-1,\n",
       "             param_grid={&#x27;alpha&#x27;: [1e-05, 3e-05, 5e-05, 7e-05, 9e-05, 0.00011,\n",
       "                                   0.00013, 0.00015, 0.00017, 0.00019, 0.00021,\n",
       "                                   0.00023, 0.00025, 0.00027, 0.00029, 0.00031,\n",
       "                                   0.00033, 0.00035, 0.00037, 0.00039, 0.00041,\n",
       "                                   0.00043, 0.00045, 0.00047, 0.00049, 0.00051,\n",
       "                                   0.00053, 0.00055, 0.00057, 0.00059, ...],\n",
       "                         &#x27;random_state&#x27;: [123]},\n",
       "             refit=False, scoring=[&#x27;neg_root_mean_squared_error&#x27;, &#x27;r2&#x27;])</pre></div></div></div><div class=\"sk-parallel\"><div class=\"sk-parallel-item\"><div class=\"sk-item\"><div class=\"sk-label-container\"><div class=\"sk-label sk-toggleable\"><input class=\"sk-toggleable__control sk-hidden--visually\" id=\"sk-estimator-id-3\" type=\"checkbox\" ><label for=\"sk-estimator-id-3\" class=\"sk-toggleable__label sk-toggleable__label-arrow\">estimator: Lasso</label><div class=\"sk-toggleable__content\"><pre>Lasso()</pre></div></div></div><div class=\"sk-serial\"><div class=\"sk-item\"><div class=\"sk-estimator sk-toggleable\"><input class=\"sk-toggleable__control sk-hidden--visually\" id=\"sk-estimator-id-4\" type=\"checkbox\" ><label for=\"sk-estimator-id-4\" class=\"sk-toggleable__label sk-toggleable__label-arrow\">Lasso</label><div class=\"sk-toggleable__content\"><pre>Lasso()</pre></div></div></div></div></div></div></div></div></div></div>"
      ],
      "text/plain": [
       "GridSearchCV(cv=3, estimator=Lasso(), n_jobs=-1,\n",
       "             param_grid={'alpha': [1e-05, 3e-05, 5e-05, 7e-05, 9e-05, 0.00011,\n",
       "                                   0.00013, 0.00015, 0.00017, 0.00019, 0.00021,\n",
       "                                   0.00023, 0.00025, 0.00027, 0.00029, 0.00031,\n",
       "                                   0.00033, 0.00035, 0.00037, 0.00039, 0.00041,\n",
       "                                   0.00043, 0.00045, 0.00047, 0.00049, 0.00051,\n",
       "                                   0.00053, 0.00055, 0.00057, 0.00059, ...],\n",
       "                         'random_state': [123]},\n",
       "             refit=False, scoring=['neg_root_mean_squared_error', 'r2'])"
      ]
     },
     "execution_count": 76,
     "metadata": {},
     "output_type": "execute_result"
    }
   ],
   "source": [
    "lasso = Lasso()\n",
    "\n",
    "gs = GridSearchCV(lasso,params, scoring = ['neg_root_mean_squared_error','r2'],cv=3,n_jobs=-1,refit=False) # refit needs to be false since we have multiple metrics\n",
    "\n",
    "# Now we fit the model using the same process as before:\n",
    "gs.fit(w_train,y_train)"
   ]
  },
  {
   "cell_type": "markdown",
   "metadata": {},
   "source": [
    "The search has finished. Note that this ran 15,000 different model fits (5000 unique values for `alpha`, three folds each time). \n",
    "\n",
    "Let's see how changing alpha impacted the two metrics we tracked. The results of the grid search are stored in an attribute called `cv_results_`, which is a dictionary. "
   ]
  },
  {
   "cell_type": "code",
   "execution_count": 79,
   "metadata": {},
   "outputs": [
    {
     "data": {
      "text/plain": [
       "dict_keys(['mean_fit_time', 'std_fit_time', 'mean_score_time', 'std_score_time', 'param_alpha', 'param_random_state', 'params', 'split0_test_neg_root_mean_squared_error', 'split1_test_neg_root_mean_squared_error', 'split2_test_neg_root_mean_squared_error', 'mean_test_neg_root_mean_squared_error', 'std_test_neg_root_mean_squared_error', 'rank_test_neg_root_mean_squared_error', 'split0_test_r2', 'split1_test_r2', 'split2_test_r2', 'mean_test_r2', 'std_test_r2', 'rank_test_r2'])"
      ]
     },
     "execution_count": 79,
     "metadata": {},
     "output_type": "execute_result"
    }
   ],
   "source": [
    "gs.cv_results_.keys()"
   ]
  },
  {
   "cell_type": "markdown",
   "metadata": {},
   "source": [
    "We're going to focus on the `mean_test_`... values, which provides the mean values from the \"test\" folds. As a reminder for how 3-fold cross validation works:\n",
    "1. Run 1: Train on folds 1 & 2, test model on 3\n",
    "2. Run 2: Train on folds 1 & 3, test model on 2\n",
    "3. Run 3: Train on folds 2 & 3, test model on 1"
   ]
  },
  {
   "cell_type": "code",
   "execution_count": 84,
   "metadata": {},
   "outputs": [
    {
     "data": {
      "text/plain": [
       "[<matplotlib.lines.Line2D at 0x17b7cd1d0>]"
      ]
     },
     "execution_count": 84,
     "metadata": {},
     "output_type": "execute_result"
    },
    {
     "data": {
      "image/png": "[encoded data removed]",
      "text/plain": [
       "<Figure size 640x480 with 2 Axes>"
      ]
     },
     "metadata": {},
     "output_type": "display_data"
    }
   ],
   "source": [
    "import matplotlib.pyplot as plt\n",
    "\n",
    "fig,ax = plt.subplots(1,1)\n",
    "ax2 = ax.twinx()\n",
    "\n",
    "ax.plot(gs.cv_results_['param_alpha'],gs.cv_results_['mean_test_neg_root_mean_squared_error'])\n",
    "ax2.plot(gs.cv_results_['param_alpha'],gs.cv_results_['mean_test_r2'],color='red')"
   ]
  },
  {
   "cell_type": "markdown",
   "metadata": {},
   "source": [
    "It looks like there is some interesting variation between 0.00 and 0.01, so let's zoom in on that part of the graph:"
   ]
  },
  {
   "cell_type": "code",
   "execution_count": 87,
   "metadata": {},
   "outputs": [
    {
     "data": {
      "text/plain": [
       "[<matplotlib.lines.Line2D at 0x17b8967d0>]"
      ]
     },
     "execution_count": 87,
     "metadata": {},
     "output_type": "execute_result"
    },
    {
     "data": {
      "image/png": "[encoded data removed]",
      "text/plain": [
       "<Figure size 640x480 with 2 Axes>"
      ]
     },
     "metadata": {},
     "output_type": "display_data"
    }
   ],
   "source": [
    "fig,ax = plt.subplots(1,1)\n",
    "ax2 = ax.twinx()\n",
    "ax.plot(gs.cv_results_['param_alpha'][:500],gs.cv_results_['mean_test_neg_root_mean_squared_error'][:500])\n",
    "ax2.plot(gs.cv_results_['param_alpha'][:500],gs.cv_results_['mean_test_r2'][:500],color='red')"
   ]
  },
  {
   "cell_type": "markdown",
   "metadata": {},
   "source": [
    "These two metrics are different versions of the same underlying metric. We can determine which value for alpha corresponds to the peak using `argmax`:"
   ]
  },
  {
   "cell_type": "code",
   "execution_count": 90,
   "metadata": {},
   "outputs": [
    {
     "name": "stdout",
     "output_type": "stream",
     "text": [
      "The alpha that produces the maximum R2 (and minimum MSE) is 9e-05.\n"
     ]
    }
   ],
   "source": [
    "max_r2 = gs.cv_results_['mean_test_r2'].argmax()\n",
    "print(f\"The alpha that produces the maximum R2 (and minimum MSE) is {gs.cv_results_['param_alpha'][max_r2]}.\")"
   ]
  },
  {
   "cell_type": "markdown",
   "metadata": {},
   "source": [
    "Let's now refit the best model and look at how it compares to OLS in explaining variation in the hold out sample:"
   ]
  },
  {
   "cell_type": "code",
   "execution_count": 93,
   "metadata": {},
   "outputs": [
    {
     "name": "stdout",
     "output_type": "stream",
     "text": [
      "0.17568904637802238\n",
      "0.14560767782686532\n"
     ]
    }
   ],
   "source": [
    "lasso = Lasso(alpha=gs.cv_results_['param_alpha'][max_r2],\n",
    "              random_state=123)\n",
    "lasso.fit(w_train,y_train)\n",
    "\n",
    "print(mean_squared_error(y_test,ols.predict(w_test)))\n",
    "print(mean_squared_error(y_test,lasso.predict(w_test)))"
   ]
  },
  {
   "cell_type": "markdown",
   "metadata": {},
   "source": [
    "This (slight) improvement came because even a little bit of regularization drove some irrelevant features to have 0 coefficients:"
   ]
  },
  {
   "cell_type": "code",
   "execution_count": 96,
   "metadata": {},
   "outputs": [
    {
     "data": {
      "text/plain": [
       "array([-0.        ,  0.03184005, -0.        , ...,  0.        ,\n",
       "        0.        ,  0.        ])"
      ]
     },
     "execution_count": 96,
     "metadata": {},
     "output_type": "execute_result"
    }
   ],
   "source": [
    "lasso.coef_"
   ]
  },
  {
   "cell_type": "markdown",
   "metadata": {},
   "source": [
    "Compare this to OLS:"
   ]
  },
  {
   "cell_type": "code",
   "execution_count": 99,
   "metadata": {},
   "outputs": [
    {
     "data": {
      "text/plain": [
       "array([-0.00313655,  0.25895978, -0.41482633, ...,  0.0985648 ,\n",
       "        0.1694942 ,  0.0513761 ])"
      ]
     },
     "execution_count": 99,
     "metadata": {},
     "output_type": "execute_result"
    }
   ],
   "source": [
    "ols.coef_"
   ]
  },
  {
   "cell_type": "markdown",
   "metadata": {},
   "source": [
    "In conclusion, Lasso did improve things for *out of sample* prediction. \n",
    "\n",
    "##### Before moving on...\n",
    "How many coefficients (of the 2000) were set to 0 in the lasso model? Which 20 coefficients were most significant predictors of `sentiment_score`, and what words/bigrams correspond to those? **PAUSE** and work on the answer."
   ]
  },
  {
   "cell_type": "code",
   "execution_count": 102,
   "metadata": {},
   "outputs": [],
   "source": [
    "# Your own work goes here:"
   ]
  },
  {
   "cell_type": "markdown",
   "metadata": {},
   "source": [
    "## Support Vector Regression\n",
    "The second type of ML-based regression model we will examine is a Support Vector Regression. SVR differs from OLS or Lasso in that it tries to learn the hyperplane that best maps data. OLS and Lasso are both identifying the best *linear* fit, but SVR allows for nonlinearity through various \"kernel functions\". \n",
    "\n",
    "#### Training an SVR\n",
    "\n",
    "We will use `sklearn`'s implementation of __[Support Vector Regression](https://scikit-learn.org/stable/modules/generated/sklearn.svm.SVR.html)__, found in `sklearn.svm` (svm = support vector machine):"
   ]
  },
  {
   "cell_type": "code",
   "execution_count": 105,
   "metadata": {},
   "outputs": [
    {
     "data": {
      "text/html": [
       "<style>#sk-container-id-3 {color: black;background-color: white;}#sk-container-id-3 pre{padding: 0;}#sk-container-id-3 div.sk-toggleable {background-color: white;}#sk-container-id-3 label.sk-toggleable__label {cursor: pointer;display: block;width: 100%;margin-bottom: 0;padding: 0.3em;box-sizing: border-box;text-align: center;}#sk-container-id-3 label.sk-toggleable__label-arrow:before {content: \"▸\";float: left;margin-right: 0.25em;color: #696969;}#sk-container-id-3 label.sk-toggleable__label-arrow:hover:before {color: black;}#sk-container-id-3 div.sk-estimator:hover label.sk-toggleable__label-arrow:before {color: black;}#sk-container-id-3 div.sk-toggleable__content {max-height: 0;max-width: 0;overflow: hidden;text-align: left;background-color: #f0f8ff;}#sk-container-id-3 div.sk-toggleable__content pre {margin: 0.2em;color: black;border-radius: 0.25em;background-color: #f0f8ff;}#sk-container-id-3 input.sk-toggleable__control:checked~div.sk-toggleable__content {max-height: 200px;max-width: 100%;overflow: auto;}#sk-container-id-3 input.sk-toggleable__control:checked~label.sk-toggleable__label-arrow:before {content: \"▾\";}#sk-container-id-3 div.sk-estimator input.sk-toggleable__control:checked~label.sk-toggleable__label {background-color: #d4ebff;}#sk-container-id-3 div.sk-label input.sk-toggleable__control:checked~label.sk-toggleable__label {background-color: #d4ebff;}#sk-container-id-3 input.sk-hidden--visually {border: 0;clip: rect(1px 1px 1px 1px);clip: rect(1px, 1px, 1px, 1px);height: 1px;margin: -1px;overflow: hidden;padding: 0;position: absolute;width: 1px;}#sk-container-id-3 div.sk-estimator {font-family: monospace;background-color: #f0f8ff;border: 1px dotted black;border-radius: 0.25em;box-sizing: border-box;margin-bottom: 0.5em;}#sk-container-id-3 div.sk-estimator:hover {background-color: #d4ebff;}#sk-container-id-3 div.sk-parallel-item::after {content: \"\";width: 100%;border-bottom: 1px solid gray;flex-grow: 1;}#sk-container-id-3 div.sk-label:hover label.sk-toggleable__label {background-color: #d4ebff;}#sk-container-id-3 div.sk-serial::before {content: \"\";position: absolute;border-left: 1px solid gray;box-sizing: border-box;top: 0;bottom: 0;left: 50%;z-index: 0;}#sk-container-id-3 div.sk-serial {display: flex;flex-direction: column;align-items: center;background-color: white;padding-right: 0.2em;padding-left: 0.2em;position: relative;}#sk-container-id-3 div.sk-item {position: relative;z-index: 1;}#sk-container-id-3 div.sk-parallel {display: flex;align-items: stretch;justify-content: center;background-color: white;position: relative;}#sk-container-id-3 div.sk-item::before, #sk-container-id-3 div.sk-parallel-item::before {content: \"\";position: absolute;border-left: 1px solid gray;box-sizing: border-box;top: 0;bottom: 0;left: 50%;z-index: -1;}#sk-container-id-3 div.sk-parallel-item {display: flex;flex-direction: column;z-index: 1;position: relative;background-color: white;}#sk-container-id-3 div.sk-parallel-item:first-child::after {align-self: flex-end;width: 50%;}#sk-container-id-3 div.sk-parallel-item:last-child::after {align-self: flex-start;width: 50%;}#sk-container-id-3 div.sk-parallel-item:only-child::after {width: 0;}#sk-container-id-3 div.sk-dashed-wrapped {border: 1px dashed gray;margin: 0 0.4em 0.5em 0.4em;box-sizing: border-box;padding-bottom: 0.4em;background-color: white;}#sk-container-id-3 div.sk-label label {font-family: monospace;font-weight: bold;display: inline-block;line-height: 1.2em;}#sk-container-id-3 div.sk-label-container {text-align: center;}#sk-container-id-3 div.sk-container {/* jupyter's `normalize.less` sets `[hidden] { display: none; }` but bootstrap.min.css set `[hidden] { display: none !important; }` so we also need the `!important` here to be able to override the default hidden behavior on the sphinx rendered scikit-learn.org. See: https://github.com/scikit-learn/scikit-learn/issues/21755 */display: inline-block !important;position: relative;}#sk-container-id-3 div.sk-text-repr-fallback {display: none;}</style><div id=\"sk-container-id-3\" class=\"sk-top-container\"><div class=\"sk-text-repr-fallback\"><pre>SVR()</pre><b>In a Jupyter environment, please rerun this cell to show the HTML representation or trust the notebook. <br />On GitHub, the HTML representation is unable to render, please try loading this page with nbviewer.org.</b></div><div class=\"sk-container\" hidden><div class=\"sk-item\"><div class=\"sk-estimator sk-toggleable\"><input class=\"sk-toggleable__control sk-hidden--visually\" id=\"sk-estimator-id-5\" type=\"checkbox\" checked><label for=\"sk-estimator-id-5\" class=\"sk-toggleable__label sk-toggleable__label-arrow\">SVR</label><div class=\"sk-toggleable__content\"><pre>SVR()</pre></div></div></div></div></div>"
      ],
      "text/plain": [
       "SVR()"
      ]
     },
     "execution_count": 105,
     "metadata": {},
     "output_type": "execute_result"
    }
   ],
   "source": [
    "from sklearn.svm import SVR\n",
    "svr = SVR()\n",
    "svr.fit(w_train,y_train)"
   ]
  },
  {
   "cell_type": "code",
   "execution_count": 107,
   "metadata": {},
   "outputs": [
    {
     "name": "stdout",
     "output_type": "stream",
     "text": [
      "0.03503353890969141\n",
      "0.11613768955063622\n",
      "0.09347529725552453\n"
     ]
    }
   ],
   "source": [
    "print(mean_squared_error(y_train,svr.predict(w_train)))\n",
    "print(mean_squared_error(y_train,lasso.predict(w_train)))\n",
    "print(mean_squared_error(y_train,ols.predict(w_train)))"
   ]
  },
  {
   "cell_type": "markdown",
   "metadata": {},
   "source": [
    "The significant improvement is because we allowed nonlinearity. BUT... this is in-sample. What about out-of-sample? **PAUSE** and compute the out-of-sample MSE for each model."
   ]
  },
  {
   "cell_type": "code",
   "execution_count": 110,
   "metadata": {},
   "outputs": [],
   "source": [
    "# Your own work goes here:"
   ]
  },
  {
   "cell_type": "markdown",
   "metadata": {},
   "source": [
    "We *definitely* need to account for overfitting when training SVR. We'll do so during model tuning, but given the significant number of parameters available for an SVR we'll use a randomized search this time.\n",
    "\n",
    "#### Tuning the SVR\n",
    "`SVR` has a number of different hyperparameters related to what kind of kernel function is used to introduce nonlinearity into the input data, as well as hyperparameters related to the training procedure. We'll tune with the following hyperparameters:\n",
    "- `kernel`: The kernel function to use. We'll try `poly`,`rbf`, and `sigmoid`\n",
    "- `degree`: Only applies to `poly` kernel function, but controls which degree polynomial to use. We'll try 2, 3, 4, 5.\n",
    "- `gamma`: a \"kernel coefficient\". We'll try random values between 0.0005 and 0.10 (note that the default is 1/number of features, or 0.00067).\n",
    "- `C`: the regularization parameter. We'll values between 0.1 and 1.25 (1 is the default)\n",
    "\n",
    "As alluded to previously, we will use a randomized search here. Before we set up, though, let's consider `gamma`, where we want to try random numbers from some distribution. When we specify a parameter set for our grid/randomized search, we can use lists of options, as we have before, or we can actually use a \"callable\" that returns some value. We could define a custom function, or use a special random-number generator that follows the parameters we want. We'll do the latter.\n",
    "\n",
    "If you review the documentation for __[`RandomizedSearchCV`](https://scikit-learn.org/stable/modules/generated/sklearn.model_selection.RandomizedSearchCV.html)__, you'll see that the callable for generating random numbers must have an `rvs` method. The `scipy` stats distributions have this method, so we'll rely on those."
   ]
  },
  {
   "cell_type": "code",
   "execution_count": null,
   "metadata": {},
   "outputs": [],
   "source": [
    "from scipy.stats import uniform\n",
    "uni = uniform(0.0005,0.10)"
   ]
  },
  {
   "cell_type": "code",
   "execution_count": null,
   "metadata": {},
   "outputs": [],
   "source": [
    "# Using RVS:\n",
    "uni.rvs()"
   ]
  },
  {
   "cell_type": "markdown",
   "metadata": {},
   "source": [
    "Now that we have this uniform distribution set up, let's set up our full paramter grid:"
   ]
  },
  {
   "cell_type": "code",
   "execution_count": null,
   "metadata": {},
   "outputs": [],
   "source": [
    "gamma_dist = uniform(0.0005,0.10)\n",
    "C_dist = uniform(0.1,1.25)\n",
    "\n",
    "params = {'kernel':['poly','rbf','sigmoid'],\n",
    "          'degree':[2,3,4,5],\n",
    "          'gamma': gamma_dist,\n",
    "          'C': C_dist}"
   ]
  },
  {
   "cell_type": "markdown",
   "metadata": {},
   "source": [
    "And we can set up our randomized search with 3-fold cross-validation. We'll use MSE (`neg_root_mean_squared_error`) as our evaluation metric. We'll then fit the model as we did with the grid search earlier."
   ]
  },
  {
   "cell_type": "code",
   "execution_count": null,
   "metadata": {},
   "outputs": [],
   "source": [
    "from sklearn.model_selection import RandomizedSearchCV\n",
    "svr = SVR()\n",
    "rus = RandomizedSearchCV(svr,\n",
    "                         params,\n",
    "                         n_iter = 25,\n",
    "                         scoring = 'neg_root_mean_squared_error',\n",
    "                         n_jobs = -1,\n",
    "                         cv = 3,\n",
    "                         random_state = 123)\n",
    "\n",
    "rus.fit(w_train,y_train)"
   ]
  },
  {
   "cell_type": "markdown",
   "metadata": {},
   "source": [
    "Let's first see how the best fit model did on the training data. Since the model refit (we only had one metric), we can use `rus` like we would any other model:"
   ]
  },
  {
   "cell_type": "code",
   "execution_count": null,
   "metadata": {},
   "outputs": [],
   "source": [
    "print(mean_squared_error(y_train,rus.predict(w_train)))\n",
    "print(mean_squared_error(y_train,lasso.predict(w_train)))\n",
    "print(mean_squared_error(y_train,ols.predict(w_train)))"
   ]
  },
  {
   "cell_type": "markdown",
   "metadata": {},
   "source": [
    "Why is this no longer overfitted? Because we used cross-validation!\n",
    "\n",
    "How did this perform on the hold out sample?"
   ]
  },
  {
   "cell_type": "code",
   "execution_count": null,
   "metadata": {},
   "outputs": [],
   "source": [
    "print(mean_squared_error(y_test,rus.predict(w_test)))\n",
    "print(mean_squared_error(y_test,lasso.predict(w_test)))\n",
    "print(mean_squared_error(y_test,ols.predict(w_test)))"
   ]
  },
  {
   "cell_type": "markdown",
   "metadata": {},
   "source": [
    "It appears that the lasso model still did the best, but both outperformed OLS. \n",
    "\n",
    "Finally, we can look at what the best parameter set was:"
   ]
  },
  {
   "cell_type": "code",
   "execution_count": null,
   "metadata": {},
   "outputs": [],
   "source": [
    "rus.best_params_"
   ]
  },
  {
   "cell_type": "markdown",
   "metadata": {},
   "source": [
    "What about most influential features?\n",
    "\n",
    "We can't really assess directly like we can with a true linear regression (e.g., Lasso, OLS). With SVR and other nonlinear methods, feature importance is often observation specific. There are methods available for assessing feature importance, such as shapley values and permutation importance, but we won't cover those in here."
   ]
  }
 ],
 "metadata": {
  "kernelspec": {
   "display_name": "Python 3 (ipykernel)",
   "language": "python",
   "name": "python3"
  },
  "language_info": {
   "codemirror_mode": {
    "name": "ipython",
    "version": 3
   },
   "file_extension": ".py",
   "mimetype": "text/x-python",
   "name": "python",
   "nbconvert_exporter": "python",
   "pygments_lexer": "ipython3",
   "version": "3.11.7"
  }
 },
 "nbformat": 4,
 "nbformat_minor": 4
}
