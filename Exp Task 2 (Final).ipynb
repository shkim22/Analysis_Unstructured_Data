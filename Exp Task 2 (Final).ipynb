{
 "cells": [
  {
   "cell_type": "markdown",
   "id": "f3cf6f3e-a5bb-401a-88db-09517a611e50",
   "metadata": {},
   "source": [
    "## Experiential Task 2\n",
    "Publicly traded companies announce earnings four times per year. These quarterly announcements convey significant information to the market about the company's performance as well as expectations about performance in the coming period. While Wall Street often focuses on whether earnings-per-share (EPS) \"meets or beats\" expectations, this metric represents only one data point in the announcement.\n",
    "\n",
    "Managers supplement announced earnings with a detailed narrative disclosure which provides information helpful for interpreting performance. In this task, we will analyze these narrative disclosures using a few different machine learning approaches. Specifically: \n",
    "\n",
    "- We will apply topic modeling to understand the type of language in earnings announcements. \n",
    "- We will use Lasso regression to evaluate which topics best predict stock returns.\n",
    "- We will train a discrete classifier to understand whether earnings announcements can be used to predict large positive returns.\n",
    "\n",
    "This task will proceed in four general steps:\n",
    "1. Load the data, pre-process, and extract features needed for our machine learning procedures (20% of grade).\n",
    "2. Apply LDA to the corpus and inspect the top 5 words associated with each topic (30% of grade).\n",
    "3. Use Lasso Regression to evaluate which topics most strongly predict stock returns (25% of grade).\n",
    "4. Use a classifier of your choice to model the extent to which topics or words (your choice) most strongly predict large positive returns (>5% over 3-day period) (25% of grade).\n",
    "\n",
    "Let's get started!\n",
    "\n",
    "### Step 1: Prepare the Data\n",
    "In this step, you should do the following:\n",
    "1. Load the dataset using pandas. Confirm there are 12,500 rows.\n",
    "2. Write a function that replaces any financial number with \"financial_number. Then the function should filter out \"bad\" sentences, defined as those with fewer than 5 tokens OR more than 50% financial numbers. \n",
    "3. Generate a document term matrix which allows for single words and bigrams. Restrict tokens to only those that are all letters (\"alpha\") and at least 3 characters, but make sure to allow for \"financial_number\". Retain the 1,000 most common features, exclude english stop words, and exclude tokens appearing in more than 50% of documents.\n",
    "\n",
    "#### 1.1 - Load the dataset (ExpTask2Data.csv.gz)\n",
    "Use pandas to load the dataset, \"ExpTask2Data.csv.gz\", into a dataframe. Confirm you have 12,500 rows."
   ]
  },
  {
   "cell_type": "code",
   "execution_count": 2,
   "id": "0947d514-5669-4909-a0ff-bb337c2f9bec",
   "metadata": {},
   "outputs": [
    {
     "data": {
      "text/html": [
       "<div>\n",
       "<style scoped>\n",
       "    .dataframe tbody tr th:only-of-type {\n",
       "        vertical-align: middle;\n",
       "    }\n",
       "\n",
       "    .dataframe tbody tr th {\n",
       "        vertical-align: top;\n",
       "    }\n",
       "\n",
       "    .dataframe thead th {\n",
       "        text-align: right;\n",
       "    }\n",
       "</style>\n",
       "<table border=\"1\" class=\"dataframe\">\n",
       "  <thead>\n",
       "    <tr style=\"text-align: right;\">\n",
       "      <th></th>\n",
       "      <th>File_Name</th>\n",
       "      <th>ea_text</th>\n",
       "      <th>datacqtr</th>\n",
       "      <th>announce_date</th>\n",
       "      <th>BHAR0_2</th>\n",
       "    </tr>\n",
       "  </thead>\n",
       "  <tbody>\n",
       "    <tr>\n",
       "      <th>0</th>\n",
       "      <td>714603-0001104659-11-059721.txt</td>\n",
       "      <td>EX-99.1 3 a11-28994_1ex99d1. htm EX-99.1   Exh...</td>\n",
       "      <td>2011Q3</td>\n",
       "      <td>10/28/2011</td>\n",
       "      <td>-4.513975</td>\n",
       "    </tr>\n",
       "    <tr>\n",
       "      <th>1</th>\n",
       "      <td>772897-0000950134-06-020331.txt</td>\n",
       "      <td>EX-99.1 2 c09674exv99w1. htm PRESS RELEASE  ex...</td>\n",
       "      <td>2006Q3</td>\n",
       "      <td>11/2/2006</td>\n",
       "      <td>-2.001589</td>\n",
       "    </tr>\n",
       "    <tr>\n",
       "      <th>2</th>\n",
       "      <td>775158-0001564590-20-048540.txt</td>\n",
       "      <td>EX-99.1 2 osk-ex991_6. htm EX-99.1    osk-ex99...</td>\n",
       "      <td>2020Q3</td>\n",
       "      <td>10/29/2020</td>\n",
       "      <td>-2.112353</td>\n",
       "    </tr>\n",
       "    <tr>\n",
       "      <th>3</th>\n",
       "      <td>16040-0001157523-20-000728.txt</td>\n",
       "      <td>EX-99.1 2 a52217903ex99_1. htm EXHIBIT 99.1   ...</td>\n",
       "      <td>2020Q1</td>\n",
       "      <td>5/11/2020</td>\n",
       "      <td>-9.170058</td>\n",
       "    </tr>\n",
       "    <tr>\n",
       "      <th>4</th>\n",
       "      <td>29332-0000029332-07-000098.txt</td>\n",
       "      <td>EX-99.1 2 ex991pressrel73107. htm PRESS RELEAS...</td>\n",
       "      <td>2007Q2</td>\n",
       "      <td>7/31/2007</td>\n",
       "      <td>8.671501</td>\n",
       "    </tr>\n",
       "    <tr>\n",
       "      <th>...</th>\n",
       "      <td>...</td>\n",
       "      <td>...</td>\n",
       "      <td>...</td>\n",
       "      <td>...</td>\n",
       "      <td>...</td>\n",
       "    </tr>\n",
       "    <tr>\n",
       "      <th>12495</th>\n",
       "      <td>883902-0000883902-20-000016.txt</td>\n",
       "      <td>EX-99.1 2 a2019q4exh991. htm EX-99.1     Docum...</td>\n",
       "      <td>2019Q4</td>\n",
       "      <td>3/3/2020</td>\n",
       "      <td>5.110050</td>\n",
       "    </tr>\n",
       "    <tr>\n",
       "      <th>12496</th>\n",
       "      <td>917470-0001157523-08-006146.txt</td>\n",
       "      <td>EX-99.1 2 a5744289-ex991. htm EXHIBIT 99.1    ...</td>\n",
       "      <td>2008Q2</td>\n",
       "      <td>7/31/2008</td>\n",
       "      <td>-17.319616</td>\n",
       "    </tr>\n",
       "    <tr>\n",
       "      <th>12497</th>\n",
       "      <td>1058090-0001193125-07-166748.txt</td>\n",
       "      <td>EX-99.1 2 dex991. htm PRESS RELEASE  Press Rel...</td>\n",
       "      <td>2007Q2</td>\n",
       "      <td>7/31/2007</td>\n",
       "      <td>26.078641</td>\n",
       "    </tr>\n",
       "    <tr>\n",
       "      <th>12498</th>\n",
       "      <td>1049502-0001299933-09-002997.txt</td>\n",
       "      <td>EX-99.1 2 exhibit1. htm EX-99.1    EX-99.1   (...</td>\n",
       "      <td>2009Q2</td>\n",
       "      <td>7/22/2009</td>\n",
       "      <td>8.731096</td>\n",
       "    </tr>\n",
       "    <tr>\n",
       "      <th>12499</th>\n",
       "      <td>1334036-0001104659-09-062912.txt</td>\n",
       "      <td>EX-99.1 2 a09-30983_2ex99d1. htm EX-99.1   Exh...</td>\n",
       "      <td>2009Q3</td>\n",
       "      <td>11/5/2009</td>\n",
       "      <td>-17.950094</td>\n",
       "    </tr>\n",
       "  </tbody>\n",
       "</table>\n",
       "<p>12500 rows × 5 columns</p>\n",
       "</div>"
      ],
      "text/plain": [
       "                              File_Name  \\\n",
       "0       714603-0001104659-11-059721.txt   \n",
       "1       772897-0000950134-06-020331.txt   \n",
       "2       775158-0001564590-20-048540.txt   \n",
       "3        16040-0001157523-20-000728.txt   \n",
       "4        29332-0000029332-07-000098.txt   \n",
       "...                                 ...   \n",
       "12495   883902-0000883902-20-000016.txt   \n",
       "12496   917470-0001157523-08-006146.txt   \n",
       "12497  1058090-0001193125-07-166748.txt   \n",
       "12498  1049502-0001299933-09-002997.txt   \n",
       "12499  1334036-0001104659-09-062912.txt   \n",
       "\n",
       "                                                 ea_text datacqtr  \\\n",
       "0      EX-99.1 3 a11-28994_1ex99d1. htm EX-99.1   Exh...   2011Q3   \n",
       "1      EX-99.1 2 c09674exv99w1. htm PRESS RELEASE  ex...   2006Q3   \n",
       "2      EX-99.1 2 osk-ex991_6. htm EX-99.1    osk-ex99...   2020Q3   \n",
       "3      EX-99.1 2 a52217903ex99_1. htm EXHIBIT 99.1   ...   2020Q1   \n",
       "4      EX-99.1 2 ex991pressrel73107. htm PRESS RELEAS...   2007Q2   \n",
       "...                                                  ...      ...   \n",
       "12495  EX-99.1 2 a2019q4exh991. htm EX-99.1     Docum...   2019Q4   \n",
       "12496  EX-99.1 2 a5744289-ex991. htm EXHIBIT 99.1    ...   2008Q2   \n",
       "12497  EX-99.1 2 dex991. htm PRESS RELEASE  Press Rel...   2007Q2   \n",
       "12498  EX-99.1 2 exhibit1. htm EX-99.1    EX-99.1   (...   2009Q2   \n",
       "12499  EX-99.1 2 a09-30983_2ex99d1. htm EX-99.1   Exh...   2009Q3   \n",
       "\n",
       "      announce_date    BHAR0_2  \n",
       "0        10/28/2011  -4.513975  \n",
       "1         11/2/2006  -2.001589  \n",
       "2        10/29/2020  -2.112353  \n",
       "3         5/11/2020  -9.170058  \n",
       "4         7/31/2007   8.671501  \n",
       "...             ...        ...  \n",
       "12495      3/3/2020   5.110050  \n",
       "12496     7/31/2008 -17.319616  \n",
       "12497     7/31/2007  26.078641  \n",
       "12498     7/22/2009   8.731096  \n",
       "12499     11/5/2009 -17.950094  \n",
       "\n",
       "[12500 rows x 5 columns]"
      ]
     },
     "execution_count": 2,
     "metadata": {},
     "output_type": "execute_result"
    }
   ],
   "source": [
    "# Insert code to load the dataset into a dataframe called \"df\"\n",
    "\n",
    "import pandas as pd\n",
    "df = pd.read_csv('ExpTask2Data.csv.gz')\n",
    "df"
   ]
  },
  {
   "cell_type": "markdown",
   "id": "ea3646e1-ce37-4083-a01b-60cc302b19b0",
   "metadata": {},
   "source": [
    "#### 1.2 - Clean out the \"bad\" sentences\n",
    "Fill in the following function based on the criteria given above. I recommend taking the following approach (and I have sketched out a function you can update) but you are free to handle this part of the task as you wish:\n",
    "- Generate a list of sentences with `sent_tokenize`\n",
    "- Loop over each sentence\n",
    "- Identify financial numbers with a regular expression, and replace those with \"financial_number\".\n",
    "- Tokenize words in the sentence with `word_tokenize`, and filter out non-alpha or non-\"financial_number\". Retain good tokens in `good_tokens`.\n",
    "- Evaluate sentence per the parameters above (5 or more tokens, no more than 50% financial numbers)"
   ]
  },
  {
   "cell_type": "code",
   "execution_count": 4,
   "id": "1845c7d5-c8ce-4a4e-ab6c-f62b19729204",
   "metadata": {},
   "outputs": [],
   "source": [
    "import re\n",
    "from nltk.tokenize import sent_tokenize, word_tokenize\n",
    "\n",
    "def clean_sentences(txt):\n",
    "    # add regular expression to \"...\" to clean out financial numbers:\n",
    "    clean_txt = re.sub(r\"\\b\\d+(?:,\\d{3})*(?:\\.\\d+)?\\b\",\" financial_number \",txt)\n",
    "    sentences = sent_tokenize(clean_txt)\n",
    "    good_sents = []\n",
    "    for sent in sentences:\n",
    "        words = word_tokenize(sent)\n",
    "        good_tokens = []\n",
    "        financial_count = 0\n",
    "        for word in words:                \n",
    "            # add code to apply logic above, building list of \"good tokens\"\n",
    "            if word.isalpha() or word == 'financial_number':\n",
    "                good_tokens.append(word)\n",
    "                if word == 'financial_number':\n",
    "                    financial_count +=1\n",
    "                \n",
    "        # Now add logic to check if there are sufficient tokens to keep the sentence:\n",
    "        if len(good_tokens) >= 5 and (financial_count / len(good_tokens)) <= 0.5:\n",
    "            good_sents.append(\" \".join(good_tokens))\n",
    "    \n",
    "    return \" \".join(good_sents)        "
   ]
  },
  {
   "cell_type": "markdown",
   "id": "767ce19e-1108-4d97-993f-9fde2af313c4",
   "metadata": {},
   "source": [
    "Now apply this function to the earnings announcement text (\"ea_text\"), placing the result in a new dataframe column called \"clean_sent\" (this will likely take 15-20 minutes, so you may want test your function on a smaller sample before applying to the full dataframe)."
   ]
  },
  {
   "cell_type": "code",
   "execution_count": 6,
   "id": "c91e6c40-7014-43c6-aae8-3005e18904a6",
   "metadata": {},
   "outputs": [
    {
     "data": {
      "text/html": [
       "<div>\n",
       "<style scoped>\n",
       "    .dataframe tbody tr th:only-of-type {\n",
       "        vertical-align: middle;\n",
       "    }\n",
       "\n",
       "    .dataframe tbody tr th {\n",
       "        vertical-align: top;\n",
       "    }\n",
       "\n",
       "    .dataframe thead th {\n",
       "        text-align: right;\n",
       "    }\n",
       "</style>\n",
       "<table border=\"1\" class=\"dataframe\">\n",
       "  <thead>\n",
       "    <tr style=\"text-align: right;\">\n",
       "      <th></th>\n",
       "      <th>File_Name</th>\n",
       "      <th>ea_text</th>\n",
       "      <th>datacqtr</th>\n",
       "      <th>announce_date</th>\n",
       "      <th>BHAR0_2</th>\n",
       "      <th>clean_sent</th>\n",
       "    </tr>\n",
       "  </thead>\n",
       "  <tbody>\n",
       "    <tr>\n",
       "      <th>0</th>\n",
       "      <td>714603-0001104659-11-059721.txt</td>\n",
       "      <td>EX-99.1 3 a11-28994_1ex99d1. htm EX-99.1   Exh...</td>\n",
       "      <td>2011Q3</td>\n",
       "      <td>10/28/2011</td>\n",
       "      <td>-4.513975</td>\n",
       "      <td>htm financial_number Exhibit financial_number ...</td>\n",
       "    </tr>\n",
       "    <tr>\n",
       "      <th>1</th>\n",
       "      <td>772897-0000950134-06-020331.txt</td>\n",
       "      <td>EX-99.1 2 c09674exv99w1. htm PRESS RELEASE  ex...</td>\n",
       "      <td>2006Q3</td>\n",
       "      <td>11/2/2006</td>\n",
       "      <td>-2.001589</td>\n",
       "      <td>htm PRESS RELEASE EXHIBIT financial_number MED...</td>\n",
       "    </tr>\n",
       "    <tr>\n",
       "      <th>2</th>\n",
       "      <td>775158-0001564590-20-048540.txt</td>\n",
       "      <td>EX-99.1 2 osk-ex991_6. htm EX-99.1    osk-ex99...</td>\n",
       "      <td>2020Q3</td>\n",
       "      <td>10/29/2020</td>\n",
       "      <td>-2.112353</td>\n",
       "      <td>htm Exhibit financial_number O S H K O S H C O...</td>\n",
       "    </tr>\n",
       "    <tr>\n",
       "      <th>3</th>\n",
       "      <td>16040-0001157523-20-000728.txt</td>\n",
       "      <td>EX-99.1 2 a52217903ex99_1. htm EXHIBIT 99.1   ...</td>\n",
       "      <td>2020Q1</td>\n",
       "      <td>5/11/2020</td>\n",
       "      <td>-9.170058</td>\n",
       "      <td>htm EXHIBIT financial_number Exhibit financial...</td>\n",
       "    </tr>\n",
       "    <tr>\n",
       "      <th>4</th>\n",
       "      <td>29332-0000029332-07-000098.txt</td>\n",
       "      <td>EX-99.1 2 ex991pressrel73107. htm PRESS RELEAS...</td>\n",
       "      <td>2007Q2</td>\n",
       "      <td>7/31/2007</td>\n",
       "      <td>8.671501</td>\n",
       "      <td>htm PRESS RELEASE THE DIXIE GROUP INC EXHIBIT ...</td>\n",
       "    </tr>\n",
       "    <tr>\n",
       "      <th>...</th>\n",
       "      <td>...</td>\n",
       "      <td>...</td>\n",
       "      <td>...</td>\n",
       "      <td>...</td>\n",
       "      <td>...</td>\n",
       "      <td>...</td>\n",
       "    </tr>\n",
       "    <tr>\n",
       "      <th>12495</th>\n",
       "      <td>883902-0000883902-20-000016.txt</td>\n",
       "      <td>EX-99.1 2 a2019q4exh991. htm EX-99.1     Docum...</td>\n",
       "      <td>2019Q4</td>\n",
       "      <td>3/3/2020</td>\n",
       "      <td>5.110050</td>\n",
       "      <td>htm financial_number DocumentNEWS RELEASECorne...</td>\n",
       "    </tr>\n",
       "    <tr>\n",
       "      <th>12496</th>\n",
       "      <td>917470-0001157523-08-006146.txt</td>\n",
       "      <td>EX-99.1 2 a5744289-ex991. htm EXHIBIT 99.1    ...</td>\n",
       "      <td>2008Q2</td>\n",
       "      <td>7/31/2008</td>\n",
       "      <td>-17.319616</td>\n",
       "      <td>htm EXHIBIT financial_number Exhibit financial...</td>\n",
       "    </tr>\n",
       "    <tr>\n",
       "      <th>12497</th>\n",
       "      <td>1058090-0001193125-07-166748.txt</td>\n",
       "      <td>EX-99.1 2 dex991. htm PRESS RELEASE  Press Rel...</td>\n",
       "      <td>2007Q2</td>\n",
       "      <td>7/31/2007</td>\n",
       "      <td>26.078641</td>\n",
       "      <td>htm PRESS RELEASE Press Release Exhibit financ...</td>\n",
       "    </tr>\n",
       "    <tr>\n",
       "      <th>12498</th>\n",
       "      <td>1049502-0001299933-09-002997.txt</td>\n",
       "      <td>EX-99.1 2 exhibit1. htm EX-99.1    EX-99.1   (...</td>\n",
       "      <td>2009Q2</td>\n",
       "      <td>7/22/2009</td>\n",
       "      <td>8.731096</td>\n",
       "      <td>htm financial_number financial_number MKS LOGO...</td>\n",
       "    </tr>\n",
       "    <tr>\n",
       "      <th>12499</th>\n",
       "      <td>1334036-0001104659-09-062912.txt</td>\n",
       "      <td>EX-99.1 2 a09-30983_2ex99d1. htm EX-99.1   Exh...</td>\n",
       "      <td>2009Q3</td>\n",
       "      <td>11/5/2009</td>\n",
       "      <td>-17.950094</td>\n",
       "      <td>htm financial_number Exhibit financial_number ...</td>\n",
       "    </tr>\n",
       "  </tbody>\n",
       "</table>\n",
       "<p>12500 rows × 6 columns</p>\n",
       "</div>"
      ],
      "text/plain": [
       "                              File_Name  \\\n",
       "0       714603-0001104659-11-059721.txt   \n",
       "1       772897-0000950134-06-020331.txt   \n",
       "2       775158-0001564590-20-048540.txt   \n",
       "3        16040-0001157523-20-000728.txt   \n",
       "4        29332-0000029332-07-000098.txt   \n",
       "...                                 ...   \n",
       "12495   883902-0000883902-20-000016.txt   \n",
       "12496   917470-0001157523-08-006146.txt   \n",
       "12497  1058090-0001193125-07-166748.txt   \n",
       "12498  1049502-0001299933-09-002997.txt   \n",
       "12499  1334036-0001104659-09-062912.txt   \n",
       "\n",
       "                                                 ea_text datacqtr  \\\n",
       "0      EX-99.1 3 a11-28994_1ex99d1. htm EX-99.1   Exh...   2011Q3   \n",
       "1      EX-99.1 2 c09674exv99w1. htm PRESS RELEASE  ex...   2006Q3   \n",
       "2      EX-99.1 2 osk-ex991_6. htm EX-99.1    osk-ex99...   2020Q3   \n",
       "3      EX-99.1 2 a52217903ex99_1. htm EXHIBIT 99.1   ...   2020Q1   \n",
       "4      EX-99.1 2 ex991pressrel73107. htm PRESS RELEAS...   2007Q2   \n",
       "...                                                  ...      ...   \n",
       "12495  EX-99.1 2 a2019q4exh991. htm EX-99.1     Docum...   2019Q4   \n",
       "12496  EX-99.1 2 a5744289-ex991. htm EXHIBIT 99.1    ...   2008Q2   \n",
       "12497  EX-99.1 2 dex991. htm PRESS RELEASE  Press Rel...   2007Q2   \n",
       "12498  EX-99.1 2 exhibit1. htm EX-99.1    EX-99.1   (...   2009Q2   \n",
       "12499  EX-99.1 2 a09-30983_2ex99d1. htm EX-99.1   Exh...   2009Q3   \n",
       "\n",
       "      announce_date    BHAR0_2  \\\n",
       "0        10/28/2011  -4.513975   \n",
       "1         11/2/2006  -2.001589   \n",
       "2        10/29/2020  -2.112353   \n",
       "3         5/11/2020  -9.170058   \n",
       "4         7/31/2007   8.671501   \n",
       "...             ...        ...   \n",
       "12495      3/3/2020   5.110050   \n",
       "12496     7/31/2008 -17.319616   \n",
       "12497     7/31/2007  26.078641   \n",
       "12498     7/22/2009   8.731096   \n",
       "12499     11/5/2009 -17.950094   \n",
       "\n",
       "                                              clean_sent  \n",
       "0      htm financial_number Exhibit financial_number ...  \n",
       "1      htm PRESS RELEASE EXHIBIT financial_number MED...  \n",
       "2      htm Exhibit financial_number O S H K O S H C O...  \n",
       "3      htm EXHIBIT financial_number Exhibit financial...  \n",
       "4      htm PRESS RELEASE THE DIXIE GROUP INC EXHIBIT ...  \n",
       "...                                                  ...  \n",
       "12495  htm financial_number DocumentNEWS RELEASECorne...  \n",
       "12496  htm EXHIBIT financial_number Exhibit financial...  \n",
       "12497  htm PRESS RELEASE Press Release Exhibit financ...  \n",
       "12498  htm financial_number financial_number MKS LOGO...  \n",
       "12499  htm financial_number Exhibit financial_number ...  \n",
       "\n",
       "[12500 rows x 6 columns]"
      ]
     },
     "execution_count": 6,
     "metadata": {},
     "output_type": "execute_result"
    }
   ],
   "source": [
    "df['clean_sent'] = df['ea_text'].apply(clean_sentences)\n",
    "df"
   ]
  },
  {
   "cell_type": "markdown",
   "id": "720a7965-7caf-4ec2-b8dd-acd8fdef5dc4",
   "metadata": {},
   "source": [
    "Before we generate the document term matrix, I'd recommend saving this dataframe so you don't have to re-run that code when continuing:"
   ]
  },
  {
   "cell_type": "code",
   "execution_count": 8,
   "id": "649ca1b0-87b1-4609-9641-549b77436524",
   "metadata": {},
   "outputs": [],
   "source": [
    "# To save:\n",
    "df.to_csv(\"./task2_data_clean.csv.gz\",index=False)"
   ]
  },
  {
   "cell_type": "code",
   "execution_count": 9,
   "id": "3093882c-bd09-47e4-a1cf-5186c257b3c4",
   "metadata": {},
   "outputs": [],
   "source": [
    "# To load:\n",
    "df = pd.read_csv(\"./task2_data_clean.csv.gz\")"
   ]
  },
  {
   "cell_type": "code",
   "execution_count": 10,
   "id": "93c85e03-3bfa-4b36-b46d-7d401e2fed30",
   "metadata": {},
   "outputs": [
    {
     "data": {
      "text/html": [
       "<div>\n",
       "<style scoped>\n",
       "    .dataframe tbody tr th:only-of-type {\n",
       "        vertical-align: middle;\n",
       "    }\n",
       "\n",
       "    .dataframe tbody tr th {\n",
       "        vertical-align: top;\n",
       "    }\n",
       "\n",
       "    .dataframe thead th {\n",
       "        text-align: right;\n",
       "    }\n",
       "</style>\n",
       "<table border=\"1\" class=\"dataframe\">\n",
       "  <thead>\n",
       "    <tr style=\"text-align: right;\">\n",
       "      <th></th>\n",
       "      <th>File_Name</th>\n",
       "      <th>ea_text</th>\n",
       "      <th>datacqtr</th>\n",
       "      <th>announce_date</th>\n",
       "      <th>BHAR0_2</th>\n",
       "      <th>clean_sent</th>\n",
       "    </tr>\n",
       "  </thead>\n",
       "  <tbody>\n",
       "    <tr>\n",
       "      <th>0</th>\n",
       "      <td>714603-0001104659-11-059721.txt</td>\n",
       "      <td>EX-99.1 3 a11-28994_1ex99d1. htm EX-99.1   Exh...</td>\n",
       "      <td>2011Q3</td>\n",
       "      <td>10/28/2011</td>\n",
       "      <td>-4.513975</td>\n",
       "      <td>htm financial_number Exhibit financial_number ...</td>\n",
       "    </tr>\n",
       "    <tr>\n",
       "      <th>1</th>\n",
       "      <td>772897-0000950134-06-020331.txt</td>\n",
       "      <td>EX-99.1 2 c09674exv99w1. htm PRESS RELEASE  ex...</td>\n",
       "      <td>2006Q3</td>\n",
       "      <td>11/2/2006</td>\n",
       "      <td>-2.001589</td>\n",
       "      <td>htm PRESS RELEASE EXHIBIT financial_number MED...</td>\n",
       "    </tr>\n",
       "    <tr>\n",
       "      <th>2</th>\n",
       "      <td>775158-0001564590-20-048540.txt</td>\n",
       "      <td>EX-99.1 2 osk-ex991_6. htm EX-99.1    osk-ex99...</td>\n",
       "      <td>2020Q3</td>\n",
       "      <td>10/29/2020</td>\n",
       "      <td>-2.112353</td>\n",
       "      <td>htm Exhibit financial_number O S H K O S H C O...</td>\n",
       "    </tr>\n",
       "    <tr>\n",
       "      <th>3</th>\n",
       "      <td>16040-0001157523-20-000728.txt</td>\n",
       "      <td>EX-99.1 2 a52217903ex99_1. htm EXHIBIT 99.1   ...</td>\n",
       "      <td>2020Q1</td>\n",
       "      <td>5/11/2020</td>\n",
       "      <td>-9.170058</td>\n",
       "      <td>htm EXHIBIT financial_number Exhibit financial...</td>\n",
       "    </tr>\n",
       "    <tr>\n",
       "      <th>4</th>\n",
       "      <td>29332-0000029332-07-000098.txt</td>\n",
       "      <td>EX-99.1 2 ex991pressrel73107. htm PRESS RELEAS...</td>\n",
       "      <td>2007Q2</td>\n",
       "      <td>7/31/2007</td>\n",
       "      <td>8.671501</td>\n",
       "      <td>htm PRESS RELEASE THE DIXIE GROUP INC EXHIBIT ...</td>\n",
       "    </tr>\n",
       "    <tr>\n",
       "      <th>...</th>\n",
       "      <td>...</td>\n",
       "      <td>...</td>\n",
       "      <td>...</td>\n",
       "      <td>...</td>\n",
       "      <td>...</td>\n",
       "      <td>...</td>\n",
       "    </tr>\n",
       "    <tr>\n",
       "      <th>12495</th>\n",
       "      <td>883902-0000883902-20-000016.txt</td>\n",
       "      <td>EX-99.1 2 a2019q4exh991. htm EX-99.1     Docum...</td>\n",
       "      <td>2019Q4</td>\n",
       "      <td>3/3/2020</td>\n",
       "      <td>5.110050</td>\n",
       "      <td>htm financial_number DocumentNEWS RELEASECorne...</td>\n",
       "    </tr>\n",
       "    <tr>\n",
       "      <th>12496</th>\n",
       "      <td>917470-0001157523-08-006146.txt</td>\n",
       "      <td>EX-99.1 2 a5744289-ex991. htm EXHIBIT 99.1    ...</td>\n",
       "      <td>2008Q2</td>\n",
       "      <td>7/31/2008</td>\n",
       "      <td>-17.319616</td>\n",
       "      <td>htm EXHIBIT financial_number Exhibit financial...</td>\n",
       "    </tr>\n",
       "    <tr>\n",
       "      <th>12497</th>\n",
       "      <td>1058090-0001193125-07-166748.txt</td>\n",
       "      <td>EX-99.1 2 dex991. htm PRESS RELEASE  Press Rel...</td>\n",
       "      <td>2007Q2</td>\n",
       "      <td>7/31/2007</td>\n",
       "      <td>26.078641</td>\n",
       "      <td>htm PRESS RELEASE Press Release Exhibit financ...</td>\n",
       "    </tr>\n",
       "    <tr>\n",
       "      <th>12498</th>\n",
       "      <td>1049502-0001299933-09-002997.txt</td>\n",
       "      <td>EX-99.1 2 exhibit1. htm EX-99.1    EX-99.1   (...</td>\n",
       "      <td>2009Q2</td>\n",
       "      <td>7/22/2009</td>\n",
       "      <td>8.731096</td>\n",
       "      <td>htm financial_number financial_number MKS LOGO...</td>\n",
       "    </tr>\n",
       "    <tr>\n",
       "      <th>12499</th>\n",
       "      <td>1334036-0001104659-09-062912.txt</td>\n",
       "      <td>EX-99.1 2 a09-30983_2ex99d1. htm EX-99.1   Exh...</td>\n",
       "      <td>2009Q3</td>\n",
       "      <td>11/5/2009</td>\n",
       "      <td>-17.950094</td>\n",
       "      <td>htm financial_number Exhibit financial_number ...</td>\n",
       "    </tr>\n",
       "  </tbody>\n",
       "</table>\n",
       "<p>12500 rows × 6 columns</p>\n",
       "</div>"
      ],
      "text/plain": [
       "                              File_Name  \\\n",
       "0       714603-0001104659-11-059721.txt   \n",
       "1       772897-0000950134-06-020331.txt   \n",
       "2       775158-0001564590-20-048540.txt   \n",
       "3        16040-0001157523-20-000728.txt   \n",
       "4        29332-0000029332-07-000098.txt   \n",
       "...                                 ...   \n",
       "12495   883902-0000883902-20-000016.txt   \n",
       "12496   917470-0001157523-08-006146.txt   \n",
       "12497  1058090-0001193125-07-166748.txt   \n",
       "12498  1049502-0001299933-09-002997.txt   \n",
       "12499  1334036-0001104659-09-062912.txt   \n",
       "\n",
       "                                                 ea_text datacqtr  \\\n",
       "0      EX-99.1 3 a11-28994_1ex99d1. htm EX-99.1   Exh...   2011Q3   \n",
       "1      EX-99.1 2 c09674exv99w1. htm PRESS RELEASE  ex...   2006Q3   \n",
       "2      EX-99.1 2 osk-ex991_6. htm EX-99.1    osk-ex99...   2020Q3   \n",
       "3      EX-99.1 2 a52217903ex99_1. htm EXHIBIT 99.1   ...   2020Q1   \n",
       "4      EX-99.1 2 ex991pressrel73107. htm PRESS RELEAS...   2007Q2   \n",
       "...                                                  ...      ...   \n",
       "12495  EX-99.1 2 a2019q4exh991. htm EX-99.1     Docum...   2019Q4   \n",
       "12496  EX-99.1 2 a5744289-ex991. htm EXHIBIT 99.1    ...   2008Q2   \n",
       "12497  EX-99.1 2 dex991. htm PRESS RELEASE  Press Rel...   2007Q2   \n",
       "12498  EX-99.1 2 exhibit1. htm EX-99.1    EX-99.1   (...   2009Q2   \n",
       "12499  EX-99.1 2 a09-30983_2ex99d1. htm EX-99.1   Exh...   2009Q3   \n",
       "\n",
       "      announce_date    BHAR0_2  \\\n",
       "0        10/28/2011  -4.513975   \n",
       "1         11/2/2006  -2.001589   \n",
       "2        10/29/2020  -2.112353   \n",
       "3         5/11/2020  -9.170058   \n",
       "4         7/31/2007   8.671501   \n",
       "...             ...        ...   \n",
       "12495      3/3/2020   5.110050   \n",
       "12496     7/31/2008 -17.319616   \n",
       "12497     7/31/2007  26.078641   \n",
       "12498     7/22/2009   8.731096   \n",
       "12499     11/5/2009 -17.950094   \n",
       "\n",
       "                                              clean_sent  \n",
       "0      htm financial_number Exhibit financial_number ...  \n",
       "1      htm PRESS RELEASE EXHIBIT financial_number MED...  \n",
       "2      htm Exhibit financial_number O S H K O S H C O...  \n",
       "3      htm EXHIBIT financial_number Exhibit financial...  \n",
       "4      htm PRESS RELEASE THE DIXIE GROUP INC EXHIBIT ...  \n",
       "...                                                  ...  \n",
       "12495  htm financial_number DocumentNEWS RELEASECorne...  \n",
       "12496  htm EXHIBIT financial_number Exhibit financial...  \n",
       "12497  htm PRESS RELEASE Press Release Exhibit financ...  \n",
       "12498  htm financial_number financial_number MKS LOGO...  \n",
       "12499  htm financial_number Exhibit financial_number ...  \n",
       "\n",
       "[12500 rows x 6 columns]"
      ]
     },
     "execution_count": 10,
     "metadata": {},
     "output_type": "execute_result"
    }
   ],
   "source": [
    "df"
   ]
  },
  {
   "cell_type": "markdown",
   "id": "532f991a-9daa-4caa-bf0b-ab7828db18e9",
   "metadata": {},
   "source": [
    "#### Step 1.3\n",
    "Now we will generate our document term matrix. Note that you need use `CountVectorizer` since we are going to use LDA. I've provided you the token pattern that will allow financial_number as a single token."
   ]
  },
  {
   "cell_type": "code",
   "execution_count": 12,
   "id": "2b2b945a-eb82-469d-b2c4-12b2a69ac2cd",
   "metadata": {},
   "outputs": [],
   "source": [
    "#Generate a document term matrix which allows for single words and bigrams. \n",
    "#Restrict tokens to only those that are all letters (\"alpha\") and at least 3 characters, \n",
    "#but make sure to allow for \"financial_number\". Retain the 1,000 most common features, exclude english stop words, \n",
    "#and exclude tokens appearing in more than 50% of documents.\n",
    "\n",
    "\n",
    "from sklearn.feature_extraction.text import CountVectorizer\n",
    "from nltk.corpus import stopwords\n",
    "stops = set(stopwords.words('english'))\n",
    "\n",
    "# Update with parameters needed per instructions; I've provided a token_pattern\n",
    "vec = CountVectorizer(token_pattern = r'\\b[a-zA-Z_]{3,}[a-zA-Z]*\\b', \n",
    "        stop_words = list(stops), \n",
    "        ngram_range = (1,2),\n",
    "        max_features= 1000,\n",
    "        max_df = 0.5) \n",
    "dtm = vec.fit_transform(df['clean_sent'])"
   ]
  },
  {
   "cell_type": "code",
   "execution_count": 13,
   "id": "6eeb8fdc-3c59-4421-badc-fda726528e2f",
   "metadata": {},
   "outputs": [
    {
     "data": {
      "text/plain": [
       "<12500x1000 sparse matrix of type '<class 'numpy.int64'>'\n",
       "\twith 3502566 stored elements in Compressed Sparse Row format>"
      ]
     },
     "execution_count": 13,
     "metadata": {},
     "output_type": "execute_result"
    }
   ],
   "source": [
    "dtm"
   ]
  },
  {
   "cell_type": "markdown",
   "id": "7c33b1f3-9d8b-4e1e-8d30-6445b502749b",
   "metadata": {},
   "source": [
    "### Step 2: Fitting the LDA Model\n",
    "Next, we're going to generate topics from our document term matrix using LDA. We'll do this step in four parts:\n",
    "1. Fitting LDA model over a range of topics\n",
    "2. Evaluating diagnostics to select \"best\" choice\n",
    "3. Fit a final model and generate topic scores\n",
    "4. Evaluate top 5 words in each topic\n",
    "\n",
    "#### 2.1 - Tuning LDA\n",
    "As in demo 5A, I suggest using `sklearn`'s implementation of LDA, which is the best option for generating topical relevance at the document level. We need to do a little tuning for our model. I recommend doing this on a smaller sample of 5,000 records to save time. You should try between 40 and 150 topics, counting by 10s. You should set `topic_word_prior` equal to 0.15 and `doc_topic_prior` to 25 divided by the number of topics. Finally, we will use the coherence score, `u_mass`, as in demo 5A to evaluate topic quality. \n",
    "\n",
    "I've set up a tuning loop for you to use. Fill in the code as needed:"
   ]
  },
  {
   "cell_type": "code",
   "execution_count": 15,
   "id": "b357140f-b5a2-472f-bef9-bb642fa55de7",
   "metadata": {},
   "outputs": [],
   "source": [
    "#!pip install tmtoolkit"
   ]
  },
  {
   "cell_type": "code",
   "execution_count": 16,
   "id": "fd7817d6-48d1-4d86-b876-b30780462893",
   "metadata": {},
   "outputs": [
    {
     "name": "stdout",
     "output_type": "stream",
     "text": [
      "Fitting 40 topics\n",
      "Fitting 50 topics\n",
      "Fitting 60 topics\n",
      "Fitting 70 topics\n",
      "Fitting 80 topics\n",
      "Fitting 90 topics\n",
      "Fitting 100 topics\n",
      "Fitting 110 topics\n",
      "Fitting 120 topics\n",
      "Fitting 130 topics\n",
      "Fitting 140 topics\n",
      "Fitting 150 topics\n"
     ]
    }
   ],
   "source": [
    "from sklearn.decomposition import LatentDirichletAllocation as LDA\n",
    "from tmtoolkit.topicmod.evaluate import metric_coherence_gensim\n",
    "import numpy as np\n",
    "\n",
    "# Select a sample of 5000 for training; use random_state=123\n",
    "sample = pd.DataFrame(dtm.todense()).sample(5000,random_state=123)\n",
    "\n",
    "# Set up \"vocab\", a list of feature names\n",
    "vocab = np.array(vec.get_feature_names_out())\n",
    "\n",
    "\n",
    "# Set up empty list to collect diagnostics\n",
    "records = []\n",
    "for top in range(40, 151, 10): \n",
    "    print(f\"Fitting {top} topics\")\n",
    "    record = {'topics':top}\n",
    "    # Fill in missing parameters\n",
    "    lda = LDA(n_components = top,\n",
    "              doc_topic_prior = 25/top,\n",
    "              topic_word_prior = 0.15,\n",
    "              n_jobs = -1,\n",
    "              random_state=123)\n",
    "\n",
    "    doc_topics = lda.fit_transform(dtm) # Add code to fit the the model\n",
    "    \n",
    "    ## Add code to compute umass, add mean umass to \"record\", and collect record in list\n",
    "    top_word = lda.components_\n",
    "    umass = metric_coherence_gensim(measure= 'u_mass',\n",
    "                                      topic_word_distrib = top_word,\n",
    "                                      dtm = sample.values,\n",
    "                                      vocab=np.array(vocab),\n",
    "                                      top_n=10,\n",
    "                                      texts= None)\n",
    "    record['mean_umass'] = np.mean(umass)\n",
    "    records.append(record)"
   ]
  },
  {
   "cell_type": "markdown",
   "id": "48bad594-e8f7-4da4-a3ca-3722f30fce94",
   "metadata": {},
   "source": [
    "#### 2.2 - Evaluating `umass` and selecting number of topics for final model\n",
    "In this step, you should plot `umass` over the range of topics ran in the previous step. Show your plot and then choose the optimum number of topics based on your plot. You are free to use whatever plotting approach you wish. "
   ]
  },
  {
   "cell_type": "code",
   "execution_count": 18,
   "id": "43ec6164-973a-44f7-a32e-75d4cf724dec",
   "metadata": {},
   "outputs": [
    {
     "data": {
      "text/plain": [
       "[<matplotlib.lines.Line2D at 0x14f5ae190>]"
      ]
     },
     "execution_count": 18,
     "metadata": {},
     "output_type": "execute_result"
    },
    {
     "data": {
      "image/png": "[encoded data removed]",
      "text/plain": [
       "<Figure size 640x480 with 1 Axes>"
      ]
     },
     "metadata": {},
     "output_type": "display_data"
    }
   ],
   "source": [
    "import matplotlib.pyplot as plt\n",
    "\n",
    "diagnostics = pd.DataFrame(records)\n",
    "diagnostics\n",
    "\n",
    "fig,ax= plt.subplots()\n",
    "ax.plot(diagnostics['topics'], diagnostics['mean_umass'], color='red', linestyle='--')"
   ]
  },
  {
   "cell_type": "markdown",
   "id": "01bd4a6e-2e72-4d77-b674-8ac10e82b7a4",
   "metadata": {},
   "source": [
    "**Interpret your plot and comment on the number of topics you plan to use:**\n",
    "\n",
    "*My answer:* As you can observe in the plot, the chart goes up and peaks at around 80 topics with a mean_umass value of -0.94. Therefore, I will try to cap it at 90 topics. For umass, higher is better so I can do a range of 60-80 topics."
   ]
  },
  {
   "cell_type": "markdown",
   "id": "3061b122-ca27-4a3e-9220-555cf2a6a778",
   "metadata": {},
   "source": [
    "#### Step 2.3\n",
    "Now, fit a final LDA model using the number of topics chosen in the prior step and use it to transform the data."
   ]
  },
  {
   "cell_type": "code",
   "execution_count": 21,
   "id": "87c44a15-4545-4035-a56c-8aae6027ecb9",
   "metadata": {},
   "outputs": [
    {
     "name": "stdout",
     "output_type": "stream",
     "text": [
      "Fitting 60 topics\n",
      "Fitting 70 topics\n"
     ]
    }
   ],
   "source": [
    "# Set up final lda model:\n",
    "\n",
    "records = []\n",
    "for top in range(60, 80, 10): \n",
    "    print(f\"Fitting {top} topics\")\n",
    "    record = {'topics':top}\n",
    "    # Fill in missing parameters\n",
    "    final_lda = LDA(n_components = 10,\n",
    "              doc_topic_prior = 25/top,\n",
    "              topic_word_prior = 0.15,\n",
    "              n_jobs = -1,\n",
    "              random_state=123)\n",
    "\n",
    "# Fit final model and transform the DTM\n",
    "topics = final_lda.fit_transform(dtm)"
   ]
  },
  {
   "cell_type": "code",
   "execution_count": 22,
   "id": "c0ef8431-0bbf-4fad-8552-3c91575f00d5",
   "metadata": {},
   "outputs": [
    {
     "data": {
      "text/plain": [
       "array([[2.13485613e-04, 4.55407419e-01, 2.31691856e-04, ...,\n",
       "        9.72086055e-02, 2.16387674e-02, 2.39112393e-04],\n",
       "       [4.46972501e-01, 5.64689523e-02, 7.14239363e-04, ...,\n",
       "        5.43556681e-03, 6.71249740e-04, 4.34491251e-02],\n",
       "       [4.42367576e-01, 1.31774227e-01, 6.60648767e-03, ...,\n",
       "        3.45300767e-04, 2.31904005e-03, 4.13955959e-04],\n",
       "       ...,\n",
       "       [9.34602682e-04, 8.90082491e-04, 8.74983683e-04, ...,\n",
       "        3.13620956e-01, 9.23738330e-04, 9.04597809e-04],\n",
       "       [8.09143994e-04, 8.81390667e-04, 1.71016283e-02, ...,\n",
       "        2.36901887e-01, 8.60826047e-04, 1.35203330e-02],\n",
       "       [4.48449096e-03, 3.54973646e-01, 1.52135290e-02, ...,\n",
       "        6.40519775e-04, 7.14306058e-04, 6.71136920e-04]])"
      ]
     },
     "execution_count": 22,
     "metadata": {},
     "output_type": "execute_result"
    }
   ],
   "source": [
    "topics # view topics matrix\n"
   ]
  },
  {
   "cell_type": "markdown",
   "id": "31745eda-14bf-45de-bbc3-3a7da94a0561",
   "metadata": {},
   "source": [
    "#### 2.4 - Evaluate topic words\n",
    "The final step in this part of the task is to evaluate the words in your topics. Word intrusion tasks are a good way to validate topics in an objective manner. We will not follow through on a full word intrusion task, but I would like you to display the top 5 words in each topic and a randomly chosen word from the vocabulary, separately identified as an intruder.\n",
    "\n",
    "Fill in this code to generate the top 5 words in each topic plus an intruder:"
   ]
  },
  {
   "cell_type": "code",
   "execution_count": 41,
   "id": "6afe213e-d5ed-4c6f-afaa-97646a2c618a",
   "metadata": {},
   "outputs": [
    {
     "name": "stdout",
     "output_type": "stream",
     "text": [
      "Topic 0: fiscal|fiscal financial_number|quarter fiscal|fiscal year|financial_number fiscal\t\tIntruder:stated\n",
      "Topic 1: third quarter|september|september financial_number|ended september|nine\t\tIntruder:make\n",
      "Topic 2: continuing|continuing operations|discontinued|discontinued operations|income continuing\t\tIntruder:gains losses\n",
      "Topic 3: net loss|intangible assets|income loss|operating expenses|compensation expense\t\tIntruder:new products\n",
      "Topic 4: percent|financial_number percent|billion|financial_number billion|percent financial_number\t\tIntruder:call available\n",
      "Topic 5: ended december|attributable|ebitda|adjusted ebitda|year ended\t\tIntruder:twelve months\n",
      "Topic 6: net sales|currency|foreign|retail|gross profit\t\tIntruder:ended financial_number\n",
      "Topic 7: june|june financial_number|ended june|six|six months\t\tIntruder:special items\n",
      "Topic 8: ebitda|adjusted ebitda|financial_number adjusted|adjusted net|ebitda financial_number\t\tIntruder:website www\n",
      "Topic 9: production|oil|gas|natural|natural gas\t\tIntruder:recorded\n"
     ]
    }
   ],
   "source": [
    "import random\n",
    "topn = 5\n",
    "topics= top_word.shape[0]\n",
    "# You need these two objects:\n",
    "vocab = np.array(vec.get_feature_names_out())\n",
    "top_word = final_lda.components_\n",
    "\n",
    "def get_topic_words(topic, top_word, vocab, topn=5):\n",
    "    top_words = top_word[topic,:].argsort()[-topn:][::-1].tolist()\n",
    "    return vocab[top_words]\n",
    "\n",
    "# Insert code to perform the intrusion task\n",
    "for top in range(topics):\n",
    "    words = get_topic_words(top, top_word, vocab, topn=5)\n",
    "    random_word = random.sample(list([w for w in vocab if w not in words]),1)[0] \n",
    "    print(f\"Topic {top}: {'|'.join(words)}\\t\\tIntruder:{random_word}\")"
   ]
  },
  {
   "cell_type": "code",
   "execution_count": 43,
   "id": "c9de79f2-6e1f-4452-a5eb-5e9bfd2fb083",
   "metadata": {},
   "outputs": [
    {
     "data": {
      "text/html": [
       "<div>\n",
       "<style scoped>\n",
       "    .dataframe tbody tr th:only-of-type {\n",
       "        vertical-align: middle;\n",
       "    }\n",
       "\n",
       "    .dataframe tbody tr th {\n",
       "        vertical-align: top;\n",
       "    }\n",
       "\n",
       "    .dataframe thead th {\n",
       "        text-align: right;\n",
       "    }\n",
       "</style>\n",
       "<table border=\"1\" class=\"dataframe\">\n",
       "  <thead>\n",
       "    <tr style=\"text-align: right;\">\n",
       "      <th></th>\n",
       "      <th>File_Name</th>\n",
       "      <th>ea_text</th>\n",
       "      <th>datacqtr</th>\n",
       "      <th>announce_date</th>\n",
       "      <th>BHAR0_2</th>\n",
       "      <th>clean_sent</th>\n",
       "    </tr>\n",
       "  </thead>\n",
       "  <tbody>\n",
       "    <tr>\n",
       "      <th>0</th>\n",
       "      <td>714603-0001104659-11-059721.txt</td>\n",
       "      <td>EX-99.1 3 a11-28994_1ex99d1. htm EX-99.1   Exh...</td>\n",
       "      <td>2011Q3</td>\n",
       "      <td>10/28/2011</td>\n",
       "      <td>-4.513975</td>\n",
       "      <td>htm financial_number Exhibit financial_number ...</td>\n",
       "    </tr>\n",
       "    <tr>\n",
       "      <th>1</th>\n",
       "      <td>772897-0000950134-06-020331.txt</td>\n",
       "      <td>EX-99.1 2 c09674exv99w1. htm PRESS RELEASE  ex...</td>\n",
       "      <td>2006Q3</td>\n",
       "      <td>11/2/2006</td>\n",
       "      <td>-2.001589</td>\n",
       "      <td>htm PRESS RELEASE EXHIBIT financial_number MED...</td>\n",
       "    </tr>\n",
       "    <tr>\n",
       "      <th>2</th>\n",
       "      <td>775158-0001564590-20-048540.txt</td>\n",
       "      <td>EX-99.1 2 osk-ex991_6. htm EX-99.1    osk-ex99...</td>\n",
       "      <td>2020Q3</td>\n",
       "      <td>10/29/2020</td>\n",
       "      <td>-2.112353</td>\n",
       "      <td>htm Exhibit financial_number O S H K O S H C O...</td>\n",
       "    </tr>\n",
       "    <tr>\n",
       "      <th>3</th>\n",
       "      <td>16040-0001157523-20-000728.txt</td>\n",
       "      <td>EX-99.1 2 a52217903ex99_1. htm EXHIBIT 99.1   ...</td>\n",
       "      <td>2020Q1</td>\n",
       "      <td>5/11/2020</td>\n",
       "      <td>-9.170058</td>\n",
       "      <td>htm EXHIBIT financial_number Exhibit financial...</td>\n",
       "    </tr>\n",
       "    <tr>\n",
       "      <th>4</th>\n",
       "      <td>29332-0000029332-07-000098.txt</td>\n",
       "      <td>EX-99.1 2 ex991pressrel73107. htm PRESS RELEAS...</td>\n",
       "      <td>2007Q2</td>\n",
       "      <td>7/31/2007</td>\n",
       "      <td>8.671501</td>\n",
       "      <td>htm PRESS RELEASE THE DIXIE GROUP INC EXHIBIT ...</td>\n",
       "    </tr>\n",
       "    <tr>\n",
       "      <th>...</th>\n",
       "      <td>...</td>\n",
       "      <td>...</td>\n",
       "      <td>...</td>\n",
       "      <td>...</td>\n",
       "      <td>...</td>\n",
       "      <td>...</td>\n",
       "    </tr>\n",
       "    <tr>\n",
       "      <th>12495</th>\n",
       "      <td>883902-0000883902-20-000016.txt</td>\n",
       "      <td>EX-99.1 2 a2019q4exh991. htm EX-99.1     Docum...</td>\n",
       "      <td>2019Q4</td>\n",
       "      <td>3/3/2020</td>\n",
       "      <td>5.110050</td>\n",
       "      <td>htm financial_number DocumentNEWS RELEASECorne...</td>\n",
       "    </tr>\n",
       "    <tr>\n",
       "      <th>12496</th>\n",
       "      <td>917470-0001157523-08-006146.txt</td>\n",
       "      <td>EX-99.1 2 a5744289-ex991. htm EXHIBIT 99.1    ...</td>\n",
       "      <td>2008Q2</td>\n",
       "      <td>7/31/2008</td>\n",
       "      <td>-17.319616</td>\n",
       "      <td>htm EXHIBIT financial_number Exhibit financial...</td>\n",
       "    </tr>\n",
       "    <tr>\n",
       "      <th>12497</th>\n",
       "      <td>1058090-0001193125-07-166748.txt</td>\n",
       "      <td>EX-99.1 2 dex991. htm PRESS RELEASE  Press Rel...</td>\n",
       "      <td>2007Q2</td>\n",
       "      <td>7/31/2007</td>\n",
       "      <td>26.078641</td>\n",
       "      <td>htm PRESS RELEASE Press Release Exhibit financ...</td>\n",
       "    </tr>\n",
       "    <tr>\n",
       "      <th>12498</th>\n",
       "      <td>1049502-0001299933-09-002997.txt</td>\n",
       "      <td>EX-99.1 2 exhibit1. htm EX-99.1    EX-99.1   (...</td>\n",
       "      <td>2009Q2</td>\n",
       "      <td>7/22/2009</td>\n",
       "      <td>8.731096</td>\n",
       "      <td>htm financial_number financial_number MKS LOGO...</td>\n",
       "    </tr>\n",
       "    <tr>\n",
       "      <th>12499</th>\n",
       "      <td>1334036-0001104659-09-062912.txt</td>\n",
       "      <td>EX-99.1 2 a09-30983_2ex99d1. htm EX-99.1   Exh...</td>\n",
       "      <td>2009Q3</td>\n",
       "      <td>11/5/2009</td>\n",
       "      <td>-17.950094</td>\n",
       "      <td>htm financial_number Exhibit financial_number ...</td>\n",
       "    </tr>\n",
       "  </tbody>\n",
       "</table>\n",
       "<p>12500 rows × 6 columns</p>\n",
       "</div>"
      ],
      "text/plain": [
       "                              File_Name  \\\n",
       "0       714603-0001104659-11-059721.txt   \n",
       "1       772897-0000950134-06-020331.txt   \n",
       "2       775158-0001564590-20-048540.txt   \n",
       "3        16040-0001157523-20-000728.txt   \n",
       "4        29332-0000029332-07-000098.txt   \n",
       "...                                 ...   \n",
       "12495   883902-0000883902-20-000016.txt   \n",
       "12496   917470-0001157523-08-006146.txt   \n",
       "12497  1058090-0001193125-07-166748.txt   \n",
       "12498  1049502-0001299933-09-002997.txt   \n",
       "12499  1334036-0001104659-09-062912.txt   \n",
       "\n",
       "                                                 ea_text datacqtr  \\\n",
       "0      EX-99.1 3 a11-28994_1ex99d1. htm EX-99.1   Exh...   2011Q3   \n",
       "1      EX-99.1 2 c09674exv99w1. htm PRESS RELEASE  ex...   2006Q3   \n",
       "2      EX-99.1 2 osk-ex991_6. htm EX-99.1    osk-ex99...   2020Q3   \n",
       "3      EX-99.1 2 a52217903ex99_1. htm EXHIBIT 99.1   ...   2020Q1   \n",
       "4      EX-99.1 2 ex991pressrel73107. htm PRESS RELEAS...   2007Q2   \n",
       "...                                                  ...      ...   \n",
       "12495  EX-99.1 2 a2019q4exh991. htm EX-99.1     Docum...   2019Q4   \n",
       "12496  EX-99.1 2 a5744289-ex991. htm EXHIBIT 99.1    ...   2008Q2   \n",
       "12497  EX-99.1 2 dex991. htm PRESS RELEASE  Press Rel...   2007Q2   \n",
       "12498  EX-99.1 2 exhibit1. htm EX-99.1    EX-99.1   (...   2009Q2   \n",
       "12499  EX-99.1 2 a09-30983_2ex99d1. htm EX-99.1   Exh...   2009Q3   \n",
       "\n",
       "      announce_date    BHAR0_2  \\\n",
       "0        10/28/2011  -4.513975   \n",
       "1         11/2/2006  -2.001589   \n",
       "2        10/29/2020  -2.112353   \n",
       "3         5/11/2020  -9.170058   \n",
       "4         7/31/2007   8.671501   \n",
       "...             ...        ...   \n",
       "12495      3/3/2020   5.110050   \n",
       "12496     7/31/2008 -17.319616   \n",
       "12497     7/31/2007  26.078641   \n",
       "12498     7/22/2009   8.731096   \n",
       "12499     11/5/2009 -17.950094   \n",
       "\n",
       "                                              clean_sent  \n",
       "0      htm financial_number Exhibit financial_number ...  \n",
       "1      htm PRESS RELEASE EXHIBIT financial_number MED...  \n",
       "2      htm Exhibit financial_number O S H K O S H C O...  \n",
       "3      htm EXHIBIT financial_number Exhibit financial...  \n",
       "4      htm PRESS RELEASE THE DIXIE GROUP INC EXHIBIT ...  \n",
       "...                                                  ...  \n",
       "12495  htm financial_number DocumentNEWS RELEASECorne...  \n",
       "12496  htm EXHIBIT financial_number Exhibit financial...  \n",
       "12497  htm PRESS RELEASE Press Release Exhibit financ...  \n",
       "12498  htm financial_number financial_number MKS LOGO...  \n",
       "12499  htm financial_number Exhibit financial_number ...  \n",
       "\n",
       "[12500 rows x 6 columns]"
      ]
     },
     "execution_count": 43,
     "metadata": {},
     "output_type": "execute_result"
    }
   ],
   "source": [
    "df"
   ]
  },
  {
   "cell_type": "markdown",
   "id": "e6dd6f62-7792-4527-87c9-6175dd99d140",
   "metadata": {},
   "source": [
    "### Step 3: Using Lasso to evaluate topic informativeness\n",
    "In this portion of the task, you'll use Lasso regression to evaluate which topics exhibit the strongest associations with stock returns, which is labeled as \"BHAR0_2\" (or buy-and-hold abnormal returns from days 0 to 2). Note that this column is in percentage points (i.e., -4.5 indicates a return of -4.5%).\n",
    "\n",
    "You should proceed as follows:\n",
    "1. Identify the optimum out-of-sample value for `alpha` (the primary regularization parameter) using `RandomizedSearchCV`. You should try 100 random values in the range between 0.00001 and 0.02.\n",
    "2. Analyze results of the best fit models. How many topics exhibit non-zero associations with returns? Which topic exhibits the strongest negative and positive associations (two total)?\n",
    "\n",
    "#### 3.1 - Tuning the Lasso model\n",
    "To tune the model, you first need do split your data into a training and testing sample. I've set most of this up for you; Replace `X` and `Y` with the datasets needed to conduct this test and update the function have a training sample of 80% and validation sample of 20%:"
   ]
  },
  {
   "cell_type": "code",
   "execution_count": 46,
   "id": "9bd42160-f54a-4675-b3da-cef5781dbc18",
   "metadata": {},
   "outputs": [],
   "source": [
    "from sklearn.model_selection import train_test_split\n",
    "\n",
    "Xtopic_train, Xtopic_test, Ytopic_train, Ytopic_test = train_test_split(dtm,df['BHAR0_2'],test_size=0.20,random_state=123)"
   ]
  },
  {
   "cell_type": "markdown",
   "id": "77e50a1d-6e12-4a6a-b813-d90702ca9e1d",
   "metadata": {},
   "source": [
    "Next, you should set up your lasso model, parameter grid, and randomized searcher. Use these parameters for the search:\n",
    "- You parameter grid should include 100 random values for `alpha` between 0.00001 and 0.02. \n",
    "- Your randomized search should run 50 times and use 5-fold cross-validation. \n",
    "- You should use `neg_root_mean_squared_error` for scoring.\n",
    "- You should use `random_state=123` wherever possible.\n",
    "\n",
    "Fill in the code below to set this up:"
   ]
  },
  {
   "cell_type": "code",
   "execution_count": 49,
   "id": "892e15fa-6ef3-4618-b5ef-9608d9c1aac0",
   "metadata": {},
   "outputs": [
    {
     "data": {
      "text/plain": [
       "<10000x1000 sparse matrix of type '<class 'numpy.int64'>'\n",
       "\twith 2799289 stored elements in Compressed Sparse Row format>"
      ]
     },
     "execution_count": 49,
     "metadata": {},
     "output_type": "execute_result"
    }
   ],
   "source": [
    "Xtopic_train"
   ]
  },
  {
   "cell_type": "code",
   "execution_count": 51,
   "id": "3389b5b2-88a2-4da5-b1cb-8a1d7422cca7",
   "metadata": {},
   "outputs": [
    {
     "name": "stderr",
     "output_type": "stream",
     "text": [
      "/opt/anaconda3/lib/python3.11/site-packages/sklearn/linear_model/_coordinate_descent.py:592: ConvergenceWarning: Objective did not converge. You might want to increase the number of iterations. Duality gap: 9310.310579347191, tolerance: 68.75823695635627\n",
      "  model = cd_fast.sparse_enet_coordinate_descent(\n",
      "/opt/anaconda3/lib/python3.11/site-packages/sklearn/linear_model/_coordinate_descent.py:592: ConvergenceWarning: Objective did not converge. You might want to increase the number of iterations. Duality gap: 4464.107547527179, tolerance: 69.09814572686872\n",
      "  model = cd_fast.sparse_enet_coordinate_descent(\n",
      "/opt/anaconda3/lib/python3.11/site-packages/sklearn/linear_model/_coordinate_descent.py:592: ConvergenceWarning: Objective did not converge. You might want to increase the number of iterations. Duality gap: 473.3288310612552, tolerance: 68.75317585543273\n",
      "  model = cd_fast.sparse_enet_coordinate_descent(\n",
      "/opt/anaconda3/lib/python3.11/site-packages/sklearn/linear_model/_coordinate_descent.py:592: ConvergenceWarning: Objective did not converge. You might want to increase the number of iterations. Duality gap: 630.1745074485661, tolerance: 68.75823695635627\n",
      "  model = cd_fast.sparse_enet_coordinate_descent(\n"
     ]
    },
    {
     "data": {
      "text/html": [
       "<style>#sk-container-id-1 {color: black;background-color: white;}#sk-container-id-1 pre{padding: 0;}#sk-container-id-1 div.sk-toggleable {background-color: white;}#sk-container-id-1 label.sk-toggleable__label {cursor: pointer;display: block;width: 100%;margin-bottom: 0;padding: 0.3em;box-sizing: border-box;text-align: center;}#sk-container-id-1 label.sk-toggleable__label-arrow:before {content: \"▸\";float: left;margin-right: 0.25em;color: #696969;}#sk-container-id-1 label.sk-toggleable__label-arrow:hover:before {color: black;}#sk-container-id-1 div.sk-estimator:hover label.sk-toggleable__label-arrow:before {color: black;}#sk-container-id-1 div.sk-toggleable__content {max-height: 0;max-width: 0;overflow: hidden;text-align: left;background-color: #f0f8ff;}#sk-container-id-1 div.sk-toggleable__content pre {margin: 0.2em;color: black;border-radius: 0.25em;background-color: #f0f8ff;}#sk-container-id-1 input.sk-toggleable__control:checked~div.sk-toggleable__content {max-height: 200px;max-width: 100%;overflow: auto;}#sk-container-id-1 input.sk-toggleable__control:checked~label.sk-toggleable__label-arrow:before {content: \"▾\";}#sk-container-id-1 div.sk-estimator input.sk-toggleable__control:checked~label.sk-toggleable__label {background-color: #d4ebff;}#sk-container-id-1 div.sk-label input.sk-toggleable__control:checked~label.sk-toggleable__label {background-color: #d4ebff;}#sk-container-id-1 input.sk-hidden--visually {border: 0;clip: rect(1px 1px 1px 1px);clip: rect(1px, 1px, 1px, 1px);height: 1px;margin: -1px;overflow: hidden;padding: 0;position: absolute;width: 1px;}#sk-container-id-1 div.sk-estimator {font-family: monospace;background-color: #f0f8ff;border: 1px dotted black;border-radius: 0.25em;box-sizing: border-box;margin-bottom: 0.5em;}#sk-container-id-1 div.sk-estimator:hover {background-color: #d4ebff;}#sk-container-id-1 div.sk-parallel-item::after {content: \"\";width: 100%;border-bottom: 1px solid gray;flex-grow: 1;}#sk-container-id-1 div.sk-label:hover label.sk-toggleable__label {background-color: #d4ebff;}#sk-container-id-1 div.sk-serial::before {content: \"\";position: absolute;border-left: 1px solid gray;box-sizing: border-box;top: 0;bottom: 0;left: 50%;z-index: 0;}#sk-container-id-1 div.sk-serial {display: flex;flex-direction: column;align-items: center;background-color: white;padding-right: 0.2em;padding-left: 0.2em;position: relative;}#sk-container-id-1 div.sk-item {position: relative;z-index: 1;}#sk-container-id-1 div.sk-parallel {display: flex;align-items: stretch;justify-content: center;background-color: white;position: relative;}#sk-container-id-1 div.sk-item::before, #sk-container-id-1 div.sk-parallel-item::before {content: \"\";position: absolute;border-left: 1px solid gray;box-sizing: border-box;top: 0;bottom: 0;left: 50%;z-index: -1;}#sk-container-id-1 div.sk-parallel-item {display: flex;flex-direction: column;z-index: 1;position: relative;background-color: white;}#sk-container-id-1 div.sk-parallel-item:first-child::after {align-self: flex-end;width: 50%;}#sk-container-id-1 div.sk-parallel-item:last-child::after {align-self: flex-start;width: 50%;}#sk-container-id-1 div.sk-parallel-item:only-child::after {width: 0;}#sk-container-id-1 div.sk-dashed-wrapped {border: 1px dashed gray;margin: 0 0.4em 0.5em 0.4em;box-sizing: border-box;padding-bottom: 0.4em;background-color: white;}#sk-container-id-1 div.sk-label label {font-family: monospace;font-weight: bold;display: inline-block;line-height: 1.2em;}#sk-container-id-1 div.sk-label-container {text-align: center;}#sk-container-id-1 div.sk-container {/* jupyter's `normalize.less` sets `[hidden] { display: none; }` but bootstrap.min.css set `[hidden] { display: none !important; }` so we also need the `!important` here to be able to override the default hidden behavior on the sphinx rendered scikit-learn.org. See: https://github.com/scikit-learn/scikit-learn/issues/21755 */display: inline-block !important;position: relative;}#sk-container-id-1 div.sk-text-repr-fallback {display: none;}</style><div id=\"sk-container-id-1\" class=\"sk-top-container\"><div class=\"sk-text-repr-fallback\"><pre>RandomizedSearchCV(cv=5, estimator=Lasso(), n_iter=50, n_jobs=-1,\n",
       "                   param_distributions={&#x27;alpha&#x27;: [0.01, 0.02, 0.03, 0.04, 0.05,\n",
       "                                                  0.06, 0.07, 0.08, 0.09, 0.1,\n",
       "                                                  0.11, 0.12, 0.13, 0.14, 0.15,\n",
       "                                                  0.16, 0.17, 0.18, 0.19, 0.2,\n",
       "                                                  0.21, 0.22, 0.23, 0.24, 0.25,\n",
       "                                                  0.26, 0.27, 0.28, 0.29, 0.3, ...],\n",
       "                                        &#x27;random_state&#x27;: [123]},\n",
       "                   random_state=123, scoring=&#x27;neg_root_mean_squared_error&#x27;)</pre><b>In a Jupyter environment, please rerun this cell to show the HTML representation or trust the notebook. <br />On GitHub, the HTML representation is unable to render, please try loading this page with nbviewer.org.</b></div><div class=\"sk-container\" hidden><div class=\"sk-item sk-dashed-wrapped\"><div class=\"sk-label-container\"><div class=\"sk-label sk-toggleable\"><input class=\"sk-toggleable__control sk-hidden--visually\" id=\"sk-estimator-id-1\" type=\"checkbox\" ><label for=\"sk-estimator-id-1\" class=\"sk-toggleable__label sk-toggleable__label-arrow\">RandomizedSearchCV</label><div class=\"sk-toggleable__content\"><pre>RandomizedSearchCV(cv=5, estimator=Lasso(), n_iter=50, n_jobs=-1,\n",
       "                   param_distributions={&#x27;alpha&#x27;: [0.01, 0.02, 0.03, 0.04, 0.05,\n",
       "                                                  0.06, 0.07, 0.08, 0.09, 0.1,\n",
       "                                                  0.11, 0.12, 0.13, 0.14, 0.15,\n",
       "                                                  0.16, 0.17, 0.18, 0.19, 0.2,\n",
       "                                                  0.21, 0.22, 0.23, 0.24, 0.25,\n",
       "                                                  0.26, 0.27, 0.28, 0.29, 0.3, ...],\n",
       "                                        &#x27;random_state&#x27;: [123]},\n",
       "                   random_state=123, scoring=&#x27;neg_root_mean_squared_error&#x27;)</pre></div></div></div><div class=\"sk-parallel\"><div class=\"sk-parallel-item\"><div class=\"sk-item\"><div class=\"sk-label-container\"><div class=\"sk-label sk-toggleable\"><input class=\"sk-toggleable__control sk-hidden--visually\" id=\"sk-estimator-id-2\" type=\"checkbox\" ><label for=\"sk-estimator-id-2\" class=\"sk-toggleable__label sk-toggleable__label-arrow\">estimator: Lasso</label><div class=\"sk-toggleable__content\"><pre>Lasso()</pre></div></div></div><div class=\"sk-serial\"><div class=\"sk-item\"><div class=\"sk-estimator sk-toggleable\"><input class=\"sk-toggleable__control sk-hidden--visually\" id=\"sk-estimator-id-3\" type=\"checkbox\" ><label for=\"sk-estimator-id-3\" class=\"sk-toggleable__label sk-toggleable__label-arrow\">Lasso</label><div class=\"sk-toggleable__content\"><pre>Lasso()</pre></div></div></div></div></div></div></div></div></div></div>"
      ],
      "text/plain": [
       "RandomizedSearchCV(cv=5, estimator=Lasso(), n_iter=50, n_jobs=-1,\n",
       "                   param_distributions={'alpha': [0.01, 0.02, 0.03, 0.04, 0.05,\n",
       "                                                  0.06, 0.07, 0.08, 0.09, 0.1,\n",
       "                                                  0.11, 0.12, 0.13, 0.14, 0.15,\n",
       "                                                  0.16, 0.17, 0.18, 0.19, 0.2,\n",
       "                                                  0.21, 0.22, 0.23, 0.24, 0.25,\n",
       "                                                  0.26, 0.27, 0.28, 0.29, 0.3, ...],\n",
       "                                        'random_state': [123]},\n",
       "                   random_state=123, scoring='neg_root_mean_squared_error')"
      ]
     },
     "execution_count": 51,
     "metadata": {},
     "output_type": "execute_result"
    }
   ],
   "source": [
    "from sklearn.model_selection import RandomizedSearchCV\n",
    "from sklearn.linear_model import Lasso\n",
    "\n",
    "np.random.seed(123)\n",
    "\n",
    "alphas = [i/100 for i in range(1,101)]\n",
    "params = {'alpha':alphas,'random_state':[123]}\n",
    "\n",
    "\n",
    "lasso = Lasso(max_iter= 1000)\n",
    "lasso.fit(Xtopic_train, Ytopic_train)\n",
    "\n",
    "rus = RandomizedSearchCV(lasso,params,\n",
    "                        # Update with rest of parameters\n",
    "                        n_iter = 50,\n",
    "                        scoring= 'neg_root_mean_squared_error',\n",
    "                        random_state = 123,\n",
    "                        cv= 5,\n",
    "                        n_jobs = -1 # Optional\n",
    ")\n",
    "rus.fit(Xtopic_train, Ytopic_train)"
   ]
  },
  {
   "cell_type": "markdown",
   "id": "2d417a8f-93b9-4ce4-af84-41b5d9dd52aa",
   "metadata": {},
   "source": [
    "To evaluate performance by `alpha`, prepare a scatter plot that shows the validation `neg_root_mean_squared_error` vs. `alpha` (**HINT**: results from the randomized search are in `rus.cv_results_`, which is a dictionary)."
   ]
  },
  {
   "cell_type": "code",
   "execution_count": 54,
   "id": "759659bd-aa9f-4b17-ac62-918e222fe790",
   "metadata": {},
   "outputs": [
    {
     "data": {
      "text/plain": [
       "dict_keys(['mean_fit_time', 'std_fit_time', 'mean_score_time', 'std_score_time', 'param_random_state', 'param_alpha', 'params', 'split0_test_score', 'split1_test_score', 'split2_test_score', 'split3_test_score', 'split4_test_score', 'mean_test_score', 'std_test_score', 'rank_test_score'])"
      ]
     },
     "execution_count": 54,
     "metadata": {},
     "output_type": "execute_result"
    }
   ],
   "source": [
    "rus.cv_results_.keys()\n"
   ]
  },
  {
   "cell_type": "code",
   "execution_count": 56,
   "id": "7bd79dbf-3bee-41a3-8a83-828cb61d83c0",
   "metadata": {},
   "outputs": [
    {
     "data": {
      "text/plain": [
       "<matplotlib.collections.PathCollection at 0x14f433710>"
      ]
     },
     "execution_count": 56,
     "metadata": {},
     "output_type": "execute_result"
    },
    {
     "data": {
      "image/png": "[encoded data removed]",
      "text/plain": [
       "<Figure size 640x480 with 2 Axes>"
      ]
     },
     "metadata": {},
     "output_type": "display_data"
    }
   ],
   "source": [
    "import matplotlib.pyplot as plt\n",
    "\n",
    "neg_mse_scores = rus.cv_results_['mean_test_score']\n",
    "rmse_scores = np.sqrt(-neg_mse_scores)\n",
    "           \n",
    "fig,ax = plt.subplots()\n",
    "ax2 = ax.twinx()\n",
    "ax.scatter(rus.cv_results_['param_alpha'].data,rmse_scores)\n",
    "#ax2.plot(gs.cv_results_['param_alpha'],gs.cv_results_['mean_test_r2'],color='red')"
   ]
  },
  {
   "cell_type": "markdown",
   "id": "9cbc3685-ba6f-435e-9c42-5e172db1be61",
   "metadata": {},
   "source": [
    "Now print the optimum value for `alpha`:"
   ]
  },
  {
   "cell_type": "code",
   "execution_count": 59,
   "id": "6ff81c09-5cbc-46c7-a47e-9f72365530c9",
   "metadata": {},
   "outputs": [
    {
     "name": "stdout",
     "output_type": "stream",
     "text": [
      "[0.09 0.71 0.83 0.29 0.64 0.01 0.06 0.51 0.82 0.05 0.24 0.66 0.77 0.61\n",
      " 0.25 0.43 0.78 0.39 0.57 0.76 0.36 0.89 0.2 0.3 0.32 0.92 0.86 0.1 0.54\n",
      " 0.42 0.22 0.91 0.34 0.7 0.85 0.88 0.96 0.98 0.63 0.13 0.21 0.9 0.38 0.6\n",
      " 0.02 0.75 0.12 0.8 0.15 0.55]\n"
     ]
    }
   ],
   "source": [
    "print(rus.cv_results_['param_alpha'])"
   ]
  },
  {
   "cell_type": "markdown",
   "id": "57674e3b-4035-40eb-9c8b-43cc09f92385",
   "metadata": {},
   "source": [
    "#### 3.2 Interpreting Lasso results\n",
    "To finish up this step, I'd like you to identify:\n",
    "\n",
    "1. How many coefficients (each of which corresponds to a topic) are non-zero\n",
    "2. Which topic has the most negative coefficient?\n",
    "3. Which topic has the most positive coefficient?\n",
    "\n",
    "Let's start with non-zero coefficients. Fill in the cell below to print out the number of coefficients not equal to zero:"
   ]
  },
  {
   "cell_type": "code",
   "execution_count": 62,
   "id": "407ef1b1-345d-4d6f-a060-2714c1081ad7",
   "metadata": {},
   "outputs": [
    {
     "name": "stdout",
     "output_type": "stream",
     "text": [
      "Number of non-zero coefficients (topics): 4\n"
     ]
    }
   ],
   "source": [
    "non_zero_coefficients = np.sum(lasso.coef_ != 0)\n",
    "print(f\"Number of non-zero coefficients (topics): {non_zero_coefficients}\")"
   ]
  },
  {
   "cell_type": "markdown",
   "id": "5aee0e82-700d-486c-94f7-88702b3d91be",
   "metadata": {},
   "source": [
    "Now identify the most positive and most negative topics and print associated words (**HINT**: `argmax()` and `argmin()` make this very straightforward). \n",
    "\n",
    "Print out both the values of these coefficients and their indices:"
   ]
  },
  {
   "cell_type": "code",
   "execution_count": 65,
   "id": "d59017dc-0945-4abc-b09b-73aafa697d22",
   "metadata": {},
   "outputs": [
    {
     "name": "stdout",
     "output_type": "stream",
     "text": [
      "The most positive coefficient corresponds to topic 612 and has a value -0.08829073063715437.\n",
      "The most negative coefficient corresponds to topic 812 and has a value 0.025796798431874154.\n"
     ]
    }
   ],
   "source": [
    "most_pos = np.argmin(lasso.coef_)\n",
    "most_neg = np.argmax(lasso.coef_)\n",
    "\n",
    "print(f\"The most positive coefficient corresponds to topic {most_pos} and has a value {lasso.coef_[most_pos]}.\")\n",
    "print(f\"The most negative coefficient corresponds to topic {most_neg} and has a value {lasso.coef_[most_neg]}.\")"
   ]
  },
  {
   "cell_type": "code",
   "execution_count": 67,
   "id": "a3832f3c-3d89-4508-8b6d-32ffd926698f",
   "metadata": {},
   "outputs": [
    {
     "data": {
      "text/plain": [
       "array([[ 474.0713571 ,  337.54028436,  579.3316811 , ...,  101.69979534,\n",
       "          65.01213493,  837.84737312],\n",
       "       [1730.95984776, 1254.36043657, 1512.82516067, ...,  598.30214119,\n",
       "         913.71599367, 1465.27975695],\n",
       "       [ 488.27813319,  345.58823328,  489.37496222, ...,  366.47631148,\n",
       "          62.82979088,  153.15582037],\n",
       "       [ 731.49879828,  454.58858594, 1326.57708219, ..., 2162.9350528 ,\n",
       "         723.0681515 , 1833.46027785],\n",
       "       [1082.68909528,  706.88767803, 1004.92252137, ..., 1084.32644753,\n",
       "         427.90704382, 1598.88980429]])"
      ]
     },
     "execution_count": 67,
     "metadata": {},
     "output_type": "execute_result"
    }
   ],
   "source": [
    "top_word[:-6:-1]"
   ]
  },
  {
   "cell_type": "code",
   "execution_count": 69,
   "id": "f9d363f2-1813-4179-9901-55c891d35e5c",
   "metadata": {},
   "outputs": [
    {
     "data": {
      "text/plain": [
       "array(['ended december', 'attributable', 'ebitda', 'adjusted ebitda',\n",
       "       'year ended'], dtype=object)"
      ]
     },
     "execution_count": 69,
     "metadata": {},
     "output_type": "execute_result"
    }
   ],
   "source": [
    "top_words_pos = top_word[5,:].argsort()[:5].tolist()\n",
    "top_words_neg = top_word[5, :].argsort()[:-6:-1].tolist()\n",
    "\n",
    "# Retrieve the actual words from the vocabulary\n",
    "words_pos = vocab[top_words_pos]\n",
    "words_pos\n",
    "words_neg = vocab[top_words_neg]\n",
    "words_neg"
   ]
  },
  {
   "cell_type": "markdown",
   "id": "62c366bc-ff70-4a09-8a70-b771671528fe",
   "metadata": {},
   "source": [
    "Now, print the top 5 words corresponding to each of these two topics:"
   ]
  },
  {
   "cell_type": "code",
   "execution_count": 72,
   "id": "9124370f-85f5-44c4-b48b-8b6999d1ca01",
   "metadata": {},
   "outputs": [
    {
     "name": "stdout",
     "output_type": "stream",
     "text": [
      "Topic 612 words: natural gas|crude|drilling|exploration|gas\n",
      "Topic 812 words: ended december|attributable|ebitda|adjusted ebitda|year ended\n"
     ]
    }
   ],
   "source": [
    "# Positive words:\n",
    "words_pos = vocab[top_words_pos] # format as list\n",
    "print(f\"Topic {most_pos} words: {'|'.join(words_pos)}\")\n",
    "\n",
    "# Negative words:\n",
    "words_neg = vocab[top_words_neg] # format as list\n",
    "print(f\"Topic {most_neg} words: {'|'.join(words_neg)}\")"
   ]
  },
  {
   "cell_type": "markdown",
   "id": "9da7fb68-a3d9-40fd-9551-29e810c8da2c",
   "metadata": {},
   "source": [
    "**QUESTION**: Do you find this answer intuitive? Why or why not?\n",
    "\n",
    "*INSERT ANSWER HERE*: It is interesting to see the most positive and negative words. Positive words are all about extraction and energy so that makes sense whreas the negative words are about financial performance metrics and year end."
   ]
  },
  {
   "cell_type": "markdown",
   "id": "07158613-f8bd-4097-bdea-94b6b4e5a92c",
   "metadata": {},
   "source": [
    "### Step 4: Use a classifier to predict large positive returns\n",
    "The final part of this task is to use a classifier of your choice to predict large positive returns. You can use the document-term matrix or topic-matrix. You're also free to tune the model as you wish. Training classifiers can be time consuming, so I'm going to use an approach to this section called *specification grading*, meaning you can choose to omit parts of the process for a reduced grade.\n",
    "\n",
    "Grading for this part will be done as follows:\n",
    "\n",
    "1. Set up, train, and evaluate at least one classifier: If this portion is done perfectly and nothing else is done, you'll receive 50% credit for this part.\n",
    "2. Apply robust tuning procedures to one or more models: If you tune multiple hyperparameters for the one model you fit in step 1, you'll receive an additional 10-20% (max grade 70%) credit, depending on extent of tuning. If you tune two or more models properly, this scale increases to 20-40% (max grade 90%).\n",
    "3. Finally, the last 10% will be based on your best fit model. Specifically, using the validation data set up below, you should print your classification report. The best macro-F1 score in the class will receive 10% (100% cumulative) second best 9.5%, and so forth.\n",
    "\n",
    "#### 4.1 - Data set-up an single model training\n",
    "I'll help you set up the data so we all start from the same place. Note that I'm going to set up two sets of \"X\" data, one based on the DTM and the other on the topic matrix. You can use either (or both if you consider multiple models):"
   ]
  },
  {
   "cell_type": "code",
   "execution_count": 78,
   "id": "ea1a9375-2dc2-44bd-b4d2-e67f63190396",
   "metadata": {},
   "outputs": [],
   "source": [
    "YLR = (df['BHAR0_2']>5).astype(int)\n",
    "topics = lda.transform(dtm)\n",
    "train_Xdtm, test_Xdtm, train_Xtopic, test_Xtopic, train_YLR, test_YLR = train_test_split(np.asarray(dtm.todense()),topics,YLR,train_size=0.80,random_state=123)"
   ]
  },
  {
   "cell_type": "markdown",
   "id": "173dce66-84a3-47d8-a157-da292214a83b",
   "metadata": {},
   "source": [
    "Next, you should fill in the cell below with code to train at least one model:"
   ]
  },
  {
   "cell_type": "code",
   "execution_count": 81,
   "id": "d3d925fb-e3a7-4062-b828-104a2b542b37",
   "metadata": {},
   "outputs": [
    {
     "name": "stdout",
     "output_type": "stream",
     "text": [
      "[LightGBM] [Info] Number of positive: 2416, number of negative: 7584\n",
      "[LightGBM] [Info] Auto-choosing row-wise multi-threading, the overhead of testing was 0.028397 seconds.\n",
      "You can set `force_row_wise=true` to remove the overhead.\n",
      "And if memory is not enough, you can set `force_col_wise=true`.\n",
      "[LightGBM] [Info] Total Bins 19561\n",
      "[LightGBM] [Info] Number of data points in the train set: 10000, number of used features: 1000\n",
      "[LightGBM] [Info] [binary:BoostFromScore]: pavg=0.241600 -> initscore=-1.143927\n",
      "[LightGBM] [Info] Start training from score -1.143927\n"
     ]
    },
    {
     "data": {
      "text/html": [
       "<style>#sk-container-id-2 {color: black;background-color: white;}#sk-container-id-2 pre{padding: 0;}#sk-container-id-2 div.sk-toggleable {background-color: white;}#sk-container-id-2 label.sk-toggleable__label {cursor: pointer;display: block;width: 100%;margin-bottom: 0;padding: 0.3em;box-sizing: border-box;text-align: center;}#sk-container-id-2 label.sk-toggleable__label-arrow:before {content: \"▸\";float: left;margin-right: 0.25em;color: #696969;}#sk-container-id-2 label.sk-toggleable__label-arrow:hover:before {color: black;}#sk-container-id-2 div.sk-estimator:hover label.sk-toggleable__label-arrow:before {color: black;}#sk-container-id-2 div.sk-toggleable__content {max-height: 0;max-width: 0;overflow: hidden;text-align: left;background-color: #f0f8ff;}#sk-container-id-2 div.sk-toggleable__content pre {margin: 0.2em;color: black;border-radius: 0.25em;background-color: #f0f8ff;}#sk-container-id-2 input.sk-toggleable__control:checked~div.sk-toggleable__content {max-height: 200px;max-width: 100%;overflow: auto;}#sk-container-id-2 input.sk-toggleable__control:checked~label.sk-toggleable__label-arrow:before {content: \"▾\";}#sk-container-id-2 div.sk-estimator input.sk-toggleable__control:checked~label.sk-toggleable__label {background-color: #d4ebff;}#sk-container-id-2 div.sk-label input.sk-toggleable__control:checked~label.sk-toggleable__label {background-color: #d4ebff;}#sk-container-id-2 input.sk-hidden--visually {border: 0;clip: rect(1px 1px 1px 1px);clip: rect(1px, 1px, 1px, 1px);height: 1px;margin: -1px;overflow: hidden;padding: 0;position: absolute;width: 1px;}#sk-container-id-2 div.sk-estimator {font-family: monospace;background-color: #f0f8ff;border: 1px dotted black;border-radius: 0.25em;box-sizing: border-box;margin-bottom: 0.5em;}#sk-container-id-2 div.sk-estimator:hover {background-color: #d4ebff;}#sk-container-id-2 div.sk-parallel-item::after {content: \"\";width: 100%;border-bottom: 1px solid gray;flex-grow: 1;}#sk-container-id-2 div.sk-label:hover label.sk-toggleable__label {background-color: #d4ebff;}#sk-container-id-2 div.sk-serial::before {content: \"\";position: absolute;border-left: 1px solid gray;box-sizing: border-box;top: 0;bottom: 0;left: 50%;z-index: 0;}#sk-container-id-2 div.sk-serial {display: flex;flex-direction: column;align-items: center;background-color: white;padding-right: 0.2em;padding-left: 0.2em;position: relative;}#sk-container-id-2 div.sk-item {position: relative;z-index: 1;}#sk-container-id-2 div.sk-parallel {display: flex;align-items: stretch;justify-content: center;background-color: white;position: relative;}#sk-container-id-2 div.sk-item::before, #sk-container-id-2 div.sk-parallel-item::before {content: \"\";position: absolute;border-left: 1px solid gray;box-sizing: border-box;top: 0;bottom: 0;left: 50%;z-index: -1;}#sk-container-id-2 div.sk-parallel-item {display: flex;flex-direction: column;z-index: 1;position: relative;background-color: white;}#sk-container-id-2 div.sk-parallel-item:first-child::after {align-self: flex-end;width: 50%;}#sk-container-id-2 div.sk-parallel-item:last-child::after {align-self: flex-start;width: 50%;}#sk-container-id-2 div.sk-parallel-item:only-child::after {width: 0;}#sk-container-id-2 div.sk-dashed-wrapped {border: 1px dashed gray;margin: 0 0.4em 0.5em 0.4em;box-sizing: border-box;padding-bottom: 0.4em;background-color: white;}#sk-container-id-2 div.sk-label label {font-family: monospace;font-weight: bold;display: inline-block;line-height: 1.2em;}#sk-container-id-2 div.sk-label-container {text-align: center;}#sk-container-id-2 div.sk-container {/* jupyter's `normalize.less` sets `[hidden] { display: none; }` but bootstrap.min.css set `[hidden] { display: none !important; }` so we also need the `!important` here to be able to override the default hidden behavior on the sphinx rendered scikit-learn.org. See: https://github.com/scikit-learn/scikit-learn/issues/21755 */display: inline-block !important;position: relative;}#sk-container-id-2 div.sk-text-repr-fallback {display: none;}</style><div id=\"sk-container-id-2\" class=\"sk-top-container\"><div class=\"sk-text-repr-fallback\"><pre>LGBMClassifier(n_jobs=-1, random_state=123, reg_alpha=0.01)</pre><b>In a Jupyter environment, please rerun this cell to show the HTML representation or trust the notebook. <br />On GitHub, the HTML representation is unable to render, please try loading this page with nbviewer.org.</b></div><div class=\"sk-container\" hidden><div class=\"sk-item\"><div class=\"sk-estimator sk-toggleable\"><input class=\"sk-toggleable__control sk-hidden--visually\" id=\"sk-estimator-id-4\" type=\"checkbox\" checked><label for=\"sk-estimator-id-4\" class=\"sk-toggleable__label sk-toggleable__label-arrow\">LGBMClassifier</label><div class=\"sk-toggleable__content\"><pre>LGBMClassifier(n_jobs=-1, random_state=123, reg_alpha=0.01)</pre></div></div></div></div></div>"
      ],
      "text/plain": [
       "LGBMClassifier(n_jobs=-1, random_state=123, reg_alpha=0.01)"
      ]
     },
     "execution_count": 81,
     "metadata": {},
     "output_type": "execute_result"
    }
   ],
   "source": [
    "# Train and evaluate at least one model\n",
    "# model 1 = lightgbm\n",
    "from lightgbm import LGBMClassifier as LGBM\n",
    "\n",
    "lgbm = LGBM(reg_alpha=0.01, random_state=123, n_jobs=-1)\n",
    "lgbm.fit(train_Xdtm,train_YLR)\n",
    "\n",
    "# from sklearn.svm import SVR # actually dont use SVR and something else!\n",
    "# svr = SVR()\n",
    "# svr.fit(trainXdtm, train_YLR)"
   ]
  },
  {
   "cell_type": "code",
   "execution_count": 83,
   "id": "e1a28495-dd8a-485e-b1e4-4f4f3f04980b",
   "metadata": {},
   "outputs": [
    {
     "data": {
      "text/html": [
       "<style>#sk-container-id-3 {color: black;background-color: white;}#sk-container-id-3 pre{padding: 0;}#sk-container-id-3 div.sk-toggleable {background-color: white;}#sk-container-id-3 label.sk-toggleable__label {cursor: pointer;display: block;width: 100%;margin-bottom: 0;padding: 0.3em;box-sizing: border-box;text-align: center;}#sk-container-id-3 label.sk-toggleable__label-arrow:before {content: \"▸\";float: left;margin-right: 0.25em;color: #696969;}#sk-container-id-3 label.sk-toggleable__label-arrow:hover:before {color: black;}#sk-container-id-3 div.sk-estimator:hover label.sk-toggleable__label-arrow:before {color: black;}#sk-container-id-3 div.sk-toggleable__content {max-height: 0;max-width: 0;overflow: hidden;text-align: left;background-color: #f0f8ff;}#sk-container-id-3 div.sk-toggleable__content pre {margin: 0.2em;color: black;border-radius: 0.25em;background-color: #f0f8ff;}#sk-container-id-3 input.sk-toggleable__control:checked~div.sk-toggleable__content {max-height: 200px;max-width: 100%;overflow: auto;}#sk-container-id-3 input.sk-toggleable__control:checked~label.sk-toggleable__label-arrow:before {content: \"▾\";}#sk-container-id-3 div.sk-estimator input.sk-toggleable__control:checked~label.sk-toggleable__label {background-color: #d4ebff;}#sk-container-id-3 div.sk-label input.sk-toggleable__control:checked~label.sk-toggleable__label {background-color: #d4ebff;}#sk-container-id-3 input.sk-hidden--visually {border: 0;clip: rect(1px 1px 1px 1px);clip: rect(1px, 1px, 1px, 1px);height: 1px;margin: -1px;overflow: hidden;padding: 0;position: absolute;width: 1px;}#sk-container-id-3 div.sk-estimator {font-family: monospace;background-color: #f0f8ff;border: 1px dotted black;border-radius: 0.25em;box-sizing: border-box;margin-bottom: 0.5em;}#sk-container-id-3 div.sk-estimator:hover {background-color: #d4ebff;}#sk-container-id-3 div.sk-parallel-item::after {content: \"\";width: 100%;border-bottom: 1px solid gray;flex-grow: 1;}#sk-container-id-3 div.sk-label:hover label.sk-toggleable__label {background-color: #d4ebff;}#sk-container-id-3 div.sk-serial::before {content: \"\";position: absolute;border-left: 1px solid gray;box-sizing: border-box;top: 0;bottom: 0;left: 50%;z-index: 0;}#sk-container-id-3 div.sk-serial {display: flex;flex-direction: column;align-items: center;background-color: white;padding-right: 0.2em;padding-left: 0.2em;position: relative;}#sk-container-id-3 div.sk-item {position: relative;z-index: 1;}#sk-container-id-3 div.sk-parallel {display: flex;align-items: stretch;justify-content: center;background-color: white;position: relative;}#sk-container-id-3 div.sk-item::before, #sk-container-id-3 div.sk-parallel-item::before {content: \"\";position: absolute;border-left: 1px solid gray;box-sizing: border-box;top: 0;bottom: 0;left: 50%;z-index: -1;}#sk-container-id-3 div.sk-parallel-item {display: flex;flex-direction: column;z-index: 1;position: relative;background-color: white;}#sk-container-id-3 div.sk-parallel-item:first-child::after {align-self: flex-end;width: 50%;}#sk-container-id-3 div.sk-parallel-item:last-child::after {align-self: flex-start;width: 50%;}#sk-container-id-3 div.sk-parallel-item:only-child::after {width: 0;}#sk-container-id-3 div.sk-dashed-wrapped {border: 1px dashed gray;margin: 0 0.4em 0.5em 0.4em;box-sizing: border-box;padding-bottom: 0.4em;background-color: white;}#sk-container-id-3 div.sk-label label {font-family: monospace;font-weight: bold;display: inline-block;line-height: 1.2em;}#sk-container-id-3 div.sk-label-container {text-align: center;}#sk-container-id-3 div.sk-container {/* jupyter's `normalize.less` sets `[hidden] { display: none; }` but bootstrap.min.css set `[hidden] { display: none !important; }` so we also need the `!important` here to be able to override the default hidden behavior on the sphinx rendered scikit-learn.org. See: https://github.com/scikit-learn/scikit-learn/issues/21755 */display: inline-block !important;position: relative;}#sk-container-id-3 div.sk-text-repr-fallback {display: none;}</style><div id=\"sk-container-id-3\" class=\"sk-top-container\"><div class=\"sk-text-repr-fallback\"><pre>GaussianNB()</pre><b>In a Jupyter environment, please rerun this cell to show the HTML representation or trust the notebook. <br />On GitHub, the HTML representation is unable to render, please try loading this page with nbviewer.org.</b></div><div class=\"sk-container\" hidden><div class=\"sk-item\"><div class=\"sk-estimator sk-toggleable\"><input class=\"sk-toggleable__control sk-hidden--visually\" id=\"sk-estimator-id-5\" type=\"checkbox\" checked><label for=\"sk-estimator-id-5\" class=\"sk-toggleable__label sk-toggleable__label-arrow\">GaussianNB</label><div class=\"sk-toggleable__content\"><pre>GaussianNB()</pre></div></div></div></div></div>"
      ],
      "text/plain": [
       "GaussianNB()"
      ]
     },
     "execution_count": 83,
     "metadata": {},
     "output_type": "execute_result"
    }
   ],
   "source": [
    "#model 2\n",
    "from sklearn.naive_bayes import GaussianNB as NBC\n",
    "\n",
    "nbc=NBC()\n",
    "nbc.fit(train_Xdtm,train_YLR)"
   ]
  },
  {
   "cell_type": "code",
   "execution_count": 85,
   "id": "4549f72d-1e4b-40c0-8028-53441499a1be",
   "metadata": {},
   "outputs": [
    {
     "data": {
      "text/html": [
       "<style>#sk-container-id-4 {color: black;background-color: white;}#sk-container-id-4 pre{padding: 0;}#sk-container-id-4 div.sk-toggleable {background-color: white;}#sk-container-id-4 label.sk-toggleable__label {cursor: pointer;display: block;width: 100%;margin-bottom: 0;padding: 0.3em;box-sizing: border-box;text-align: center;}#sk-container-id-4 label.sk-toggleable__label-arrow:before {content: \"▸\";float: left;margin-right: 0.25em;color: #696969;}#sk-container-id-4 label.sk-toggleable__label-arrow:hover:before {color: black;}#sk-container-id-4 div.sk-estimator:hover label.sk-toggleable__label-arrow:before {color: black;}#sk-container-id-4 div.sk-toggleable__content {max-height: 0;max-width: 0;overflow: hidden;text-align: left;background-color: #f0f8ff;}#sk-container-id-4 div.sk-toggleable__content pre {margin: 0.2em;color: black;border-radius: 0.25em;background-color: #f0f8ff;}#sk-container-id-4 input.sk-toggleable__control:checked~div.sk-toggleable__content {max-height: 200px;max-width: 100%;overflow: auto;}#sk-container-id-4 input.sk-toggleable__control:checked~label.sk-toggleable__label-arrow:before {content: \"▾\";}#sk-container-id-4 div.sk-estimator input.sk-toggleable__control:checked~label.sk-toggleable__label {background-color: #d4ebff;}#sk-container-id-4 div.sk-label input.sk-toggleable__control:checked~label.sk-toggleable__label {background-color: #d4ebff;}#sk-container-id-4 input.sk-hidden--visually {border: 0;clip: rect(1px 1px 1px 1px);clip: rect(1px, 1px, 1px, 1px);height: 1px;margin: -1px;overflow: hidden;padding: 0;position: absolute;width: 1px;}#sk-container-id-4 div.sk-estimator {font-family: monospace;background-color: #f0f8ff;border: 1px dotted black;border-radius: 0.25em;box-sizing: border-box;margin-bottom: 0.5em;}#sk-container-id-4 div.sk-estimator:hover {background-color: #d4ebff;}#sk-container-id-4 div.sk-parallel-item::after {content: \"\";width: 100%;border-bottom: 1px solid gray;flex-grow: 1;}#sk-container-id-4 div.sk-label:hover label.sk-toggleable__label {background-color: #d4ebff;}#sk-container-id-4 div.sk-serial::before {content: \"\";position: absolute;border-left: 1px solid gray;box-sizing: border-box;top: 0;bottom: 0;left: 50%;z-index: 0;}#sk-container-id-4 div.sk-serial {display: flex;flex-direction: column;align-items: center;background-color: white;padding-right: 0.2em;padding-left: 0.2em;position: relative;}#sk-container-id-4 div.sk-item {position: relative;z-index: 1;}#sk-container-id-4 div.sk-parallel {display: flex;align-items: stretch;justify-content: center;background-color: white;position: relative;}#sk-container-id-4 div.sk-item::before, #sk-container-id-4 div.sk-parallel-item::before {content: \"\";position: absolute;border-left: 1px solid gray;box-sizing: border-box;top: 0;bottom: 0;left: 50%;z-index: -1;}#sk-container-id-4 div.sk-parallel-item {display: flex;flex-direction: column;z-index: 1;position: relative;background-color: white;}#sk-container-id-4 div.sk-parallel-item:first-child::after {align-self: flex-end;width: 50%;}#sk-container-id-4 div.sk-parallel-item:last-child::after {align-self: flex-start;width: 50%;}#sk-container-id-4 div.sk-parallel-item:only-child::after {width: 0;}#sk-container-id-4 div.sk-dashed-wrapped {border: 1px dashed gray;margin: 0 0.4em 0.5em 0.4em;box-sizing: border-box;padding-bottom: 0.4em;background-color: white;}#sk-container-id-4 div.sk-label label {font-family: monospace;font-weight: bold;display: inline-block;line-height: 1.2em;}#sk-container-id-4 div.sk-label-container {text-align: center;}#sk-container-id-4 div.sk-container {/* jupyter's `normalize.less` sets `[hidden] { display: none; }` but bootstrap.min.css set `[hidden] { display: none !important; }` so we also need the `!important` here to be able to override the default hidden behavior on the sphinx rendered scikit-learn.org. See: https://github.com/scikit-learn/scikit-learn/issues/21755 */display: inline-block !important;position: relative;}#sk-container-id-4 div.sk-text-repr-fallback {display: none;}</style><div id=\"sk-container-id-4\" class=\"sk-top-container\"><div class=\"sk-text-repr-fallback\"><pre>DecisionTreeClassifier(max_depth=200, max_features=&#x27;sqrt&#x27;, random_state=123)</pre><b>In a Jupyter environment, please rerun this cell to show the HTML representation or trust the notebook. <br />On GitHub, the HTML representation is unable to render, please try loading this page with nbviewer.org.</b></div><div class=\"sk-container\" hidden><div class=\"sk-item\"><div class=\"sk-estimator sk-toggleable\"><input class=\"sk-toggleable__control sk-hidden--visually\" id=\"sk-estimator-id-6\" type=\"checkbox\" checked><label for=\"sk-estimator-id-6\" class=\"sk-toggleable__label sk-toggleable__label-arrow\">DecisionTreeClassifier</label><div class=\"sk-toggleable__content\"><pre>DecisionTreeClassifier(max_depth=200, max_features=&#x27;sqrt&#x27;, random_state=123)</pre></div></div></div></div></div>"
      ],
      "text/plain": [
       "DecisionTreeClassifier(max_depth=200, max_features='sqrt', random_state=123)"
      ]
     },
     "execution_count": 85,
     "metadata": {},
     "output_type": "execute_result"
    }
   ],
   "source": [
    "#model 3\n",
    "from sklearn.tree import DecisionTreeClassifier as DTC\n",
    "\n",
    "tree= DTC(max_depth =200, max_features = 'sqrt', random_state= 123)\n",
    "tree.fit(train_Xdtm, train_YLR)\n",
    "\n"
   ]
  },
  {
   "cell_type": "code",
   "execution_count": 106,
   "id": "8d24addb-59ae-45fe-b503-f5af96ddf082",
   "metadata": {},
   "outputs": [
    {
     "data": {
      "text/html": [
       "<style>#sk-container-id-5 {color: black;background-color: white;}#sk-container-id-5 pre{padding: 0;}#sk-container-id-5 div.sk-toggleable {background-color: white;}#sk-container-id-5 label.sk-toggleable__label {cursor: pointer;display: block;width: 100%;margin-bottom: 0;padding: 0.3em;box-sizing: border-box;text-align: center;}#sk-container-id-5 label.sk-toggleable__label-arrow:before {content: \"▸\";float: left;margin-right: 0.25em;color: #696969;}#sk-container-id-5 label.sk-toggleable__label-arrow:hover:before {color: black;}#sk-container-id-5 div.sk-estimator:hover label.sk-toggleable__label-arrow:before {color: black;}#sk-container-id-5 div.sk-toggleable__content {max-height: 0;max-width: 0;overflow: hidden;text-align: left;background-color: #f0f8ff;}#sk-container-id-5 div.sk-toggleable__content pre {margin: 0.2em;color: black;border-radius: 0.25em;background-color: #f0f8ff;}#sk-container-id-5 input.sk-toggleable__control:checked~div.sk-toggleable__content {max-height: 200px;max-width: 100%;overflow: auto;}#sk-container-id-5 input.sk-toggleable__control:checked~label.sk-toggleable__label-arrow:before {content: \"▾\";}#sk-container-id-5 div.sk-estimator input.sk-toggleable__control:checked~label.sk-toggleable__label {background-color: #d4ebff;}#sk-container-id-5 div.sk-label input.sk-toggleable__control:checked~label.sk-toggleable__label {background-color: #d4ebff;}#sk-container-id-5 input.sk-hidden--visually {border: 0;clip: rect(1px 1px 1px 1px);clip: rect(1px, 1px, 1px, 1px);height: 1px;margin: -1px;overflow: hidden;padding: 0;position: absolute;width: 1px;}#sk-container-id-5 div.sk-estimator {font-family: monospace;background-color: #f0f8ff;border: 1px dotted black;border-radius: 0.25em;box-sizing: border-box;margin-bottom: 0.5em;}#sk-container-id-5 div.sk-estimator:hover {background-color: #d4ebff;}#sk-container-id-5 div.sk-parallel-item::after {content: \"\";width: 100%;border-bottom: 1px solid gray;flex-grow: 1;}#sk-container-id-5 div.sk-label:hover label.sk-toggleable__label {background-color: #d4ebff;}#sk-container-id-5 div.sk-serial::before {content: \"\";position: absolute;border-left: 1px solid gray;box-sizing: border-box;top: 0;bottom: 0;left: 50%;z-index: 0;}#sk-container-id-5 div.sk-serial {display: flex;flex-direction: column;align-items: center;background-color: white;padding-right: 0.2em;padding-left: 0.2em;position: relative;}#sk-container-id-5 div.sk-item {position: relative;z-index: 1;}#sk-container-id-5 div.sk-parallel {display: flex;align-items: stretch;justify-content: center;background-color: white;position: relative;}#sk-container-id-5 div.sk-item::before, #sk-container-id-5 div.sk-parallel-item::before {content: \"\";position: absolute;border-left: 1px solid gray;box-sizing: border-box;top: 0;bottom: 0;left: 50%;z-index: -1;}#sk-container-id-5 div.sk-parallel-item {display: flex;flex-direction: column;z-index: 1;position: relative;background-color: white;}#sk-container-id-5 div.sk-parallel-item:first-child::after {align-self: flex-end;width: 50%;}#sk-container-id-5 div.sk-parallel-item:last-child::after {align-self: flex-start;width: 50%;}#sk-container-id-5 div.sk-parallel-item:only-child::after {width: 0;}#sk-container-id-5 div.sk-dashed-wrapped {border: 1px dashed gray;margin: 0 0.4em 0.5em 0.4em;box-sizing: border-box;padding-bottom: 0.4em;background-color: white;}#sk-container-id-5 div.sk-label label {font-family: monospace;font-weight: bold;display: inline-block;line-height: 1.2em;}#sk-container-id-5 div.sk-label-container {text-align: center;}#sk-container-id-5 div.sk-container {/* jupyter's `normalize.less` sets `[hidden] { display: none; }` but bootstrap.min.css set `[hidden] { display: none !important; }` so we also need the `!important` here to be able to override the default hidden behavior on the sphinx rendered scikit-learn.org. See: https://github.com/scikit-learn/scikit-learn/issues/21755 */display: inline-block !important;position: relative;}#sk-container-id-5 div.sk-text-repr-fallback {display: none;}</style><div id=\"sk-container-id-5\" class=\"sk-top-container\"><div class=\"sk-text-repr-fallback\"><pre>DecisionTreeClassifier(max_depth=200, max_features=&#x27;sqrt&#x27;, random_state=123)</pre><b>In a Jupyter environment, please rerun this cell to show the HTML representation or trust the notebook. <br />On GitHub, the HTML representation is unable to render, please try loading this page with nbviewer.org.</b></div><div class=\"sk-container\" hidden><div class=\"sk-item\"><div class=\"sk-estimator sk-toggleable\"><input class=\"sk-toggleable__control sk-hidden--visually\" id=\"sk-estimator-id-7\" type=\"checkbox\" checked><label for=\"sk-estimator-id-7\" class=\"sk-toggleable__label sk-toggleable__label-arrow\">DecisionTreeClassifier</label><div class=\"sk-toggleable__content\"><pre>DecisionTreeClassifier(max_depth=200, max_features=&#x27;sqrt&#x27;, random_state=123)</pre></div></div></div></div></div>"
      ],
      "text/plain": [
       "DecisionTreeClassifier(max_depth=200, max_features='sqrt', random_state=123)"
      ]
     },
     "execution_count": 106,
     "metadata": {},
     "output_type": "execute_result"
    }
   ],
   "source": [
    "from sklearn.tree import DecisionTreeClassifier as DTC\n",
    "\n",
    "#model 3.1\n",
    "tree= DTC(max_depth =200, max_features = 'sqrt', random_state= 123)\n",
    "tree.fit(train_Xdtm, train_YLR)\n"
   ]
  },
  {
   "cell_type": "code",
   "execution_count": 108,
   "id": "6a5723c2-afea-4a11-a9af-ab9272b1440d",
   "metadata": {},
   "outputs": [
    {
     "data": {
      "text/html": [
       "<style>#sk-container-id-6 {color: black;background-color: white;}#sk-container-id-6 pre{padding: 0;}#sk-container-id-6 div.sk-toggleable {background-color: white;}#sk-container-id-6 label.sk-toggleable__label {cursor: pointer;display: block;width: 100%;margin-bottom: 0;padding: 0.3em;box-sizing: border-box;text-align: center;}#sk-container-id-6 label.sk-toggleable__label-arrow:before {content: \"▸\";float: left;margin-right: 0.25em;color: #696969;}#sk-container-id-6 label.sk-toggleable__label-arrow:hover:before {color: black;}#sk-container-id-6 div.sk-estimator:hover label.sk-toggleable__label-arrow:before {color: black;}#sk-container-id-6 div.sk-toggleable__content {max-height: 0;max-width: 0;overflow: hidden;text-align: left;background-color: #f0f8ff;}#sk-container-id-6 div.sk-toggleable__content pre {margin: 0.2em;color: black;border-radius: 0.25em;background-color: #f0f8ff;}#sk-container-id-6 input.sk-toggleable__control:checked~div.sk-toggleable__content {max-height: 200px;max-width: 100%;overflow: auto;}#sk-container-id-6 input.sk-toggleable__control:checked~label.sk-toggleable__label-arrow:before {content: \"▾\";}#sk-container-id-6 div.sk-estimator input.sk-toggleable__control:checked~label.sk-toggleable__label {background-color: #d4ebff;}#sk-container-id-6 div.sk-label input.sk-toggleable__control:checked~label.sk-toggleable__label {background-color: #d4ebff;}#sk-container-id-6 input.sk-hidden--visually {border: 0;clip: rect(1px 1px 1px 1px);clip: rect(1px, 1px, 1px, 1px);height: 1px;margin: -1px;overflow: hidden;padding: 0;position: absolute;width: 1px;}#sk-container-id-6 div.sk-estimator {font-family: monospace;background-color: #f0f8ff;border: 1px dotted black;border-radius: 0.25em;box-sizing: border-box;margin-bottom: 0.5em;}#sk-container-id-6 div.sk-estimator:hover {background-color: #d4ebff;}#sk-container-id-6 div.sk-parallel-item::after {content: \"\";width: 100%;border-bottom: 1px solid gray;flex-grow: 1;}#sk-container-id-6 div.sk-label:hover label.sk-toggleable__label {background-color: #d4ebff;}#sk-container-id-6 div.sk-serial::before {content: \"\";position: absolute;border-left: 1px solid gray;box-sizing: border-box;top: 0;bottom: 0;left: 50%;z-index: 0;}#sk-container-id-6 div.sk-serial {display: flex;flex-direction: column;align-items: center;background-color: white;padding-right: 0.2em;padding-left: 0.2em;position: relative;}#sk-container-id-6 div.sk-item {position: relative;z-index: 1;}#sk-container-id-6 div.sk-parallel {display: flex;align-items: stretch;justify-content: center;background-color: white;position: relative;}#sk-container-id-6 div.sk-item::before, #sk-container-id-6 div.sk-parallel-item::before {content: \"\";position: absolute;border-left: 1px solid gray;box-sizing: border-box;top: 0;bottom: 0;left: 50%;z-index: -1;}#sk-container-id-6 div.sk-parallel-item {display: flex;flex-direction: column;z-index: 1;position: relative;background-color: white;}#sk-container-id-6 div.sk-parallel-item:first-child::after {align-self: flex-end;width: 50%;}#sk-container-id-6 div.sk-parallel-item:last-child::after {align-self: flex-start;width: 50%;}#sk-container-id-6 div.sk-parallel-item:only-child::after {width: 0;}#sk-container-id-6 div.sk-dashed-wrapped {border: 1px dashed gray;margin: 0 0.4em 0.5em 0.4em;box-sizing: border-box;padding-bottom: 0.4em;background-color: white;}#sk-container-id-6 div.sk-label label {font-family: monospace;font-weight: bold;display: inline-block;line-height: 1.2em;}#sk-container-id-6 div.sk-label-container {text-align: center;}#sk-container-id-6 div.sk-container {/* jupyter's `normalize.less` sets `[hidden] { display: none; }` but bootstrap.min.css set `[hidden] { display: none !important; }` so we also need the `!important` here to be able to override the default hidden behavior on the sphinx rendered scikit-learn.org. See: https://github.com/scikit-learn/scikit-learn/issues/21755 */display: inline-block !important;position: relative;}#sk-container-id-6 div.sk-text-repr-fallback {display: none;}</style><div id=\"sk-container-id-6\" class=\"sk-top-container\"><div class=\"sk-text-repr-fallback\"><pre>RandomForestClassifier(class_weight=&#x27;balanced&#x27;, n_jobs=-1, random_state=123)</pre><b>In a Jupyter environment, please rerun this cell to show the HTML representation or trust the notebook. <br />On GitHub, the HTML representation is unable to render, please try loading this page with nbviewer.org.</b></div><div class=\"sk-container\" hidden><div class=\"sk-item\"><div class=\"sk-estimator sk-toggleable\"><input class=\"sk-toggleable__control sk-hidden--visually\" id=\"sk-estimator-id-8\" type=\"checkbox\" checked><label for=\"sk-estimator-id-8\" class=\"sk-toggleable__label sk-toggleable__label-arrow\">RandomForestClassifier</label><div class=\"sk-toggleable__content\"><pre>RandomForestClassifier(class_weight=&#x27;balanced&#x27;, n_jobs=-1, random_state=123)</pre></div></div></div></div></div>"
      ],
      "text/plain": [
       "RandomForestClassifier(class_weight='balanced', n_jobs=-1, random_state=123)"
      ]
     },
     "execution_count": 108,
     "metadata": {},
     "output_type": "execute_result"
    }
   ],
   "source": [
    "#model 4: random forest\n",
    "from sklearn.ensemble import RandomForestClassifier as RFC\n",
    "\n",
    "rf = RFC(n_jobs= -1, random_state=123, class_weight='balanced')\n",
    "rf.fit(train_Xdtm, train_YLR)"
   ]
  },
  {
   "cell_type": "markdown",
   "id": "8a443105-c9da-44df-9c62-bf68c8eb00b6",
   "metadata": {},
   "source": [
    "#### 4.2 - Model Tuning\n",
    "Here, you should insert code you use to tune your classifier. You can insert additional cells if needed, or skip this step and accept a lower grade if desired."
   ]
  },
  {
   "cell_type": "code",
   "execution_count": 111,
   "id": "f4b96db0-8b44-4c0f-a783-45c5cd41d6b3",
   "metadata": {},
   "outputs": [
    {
     "data": {
      "text/html": [
       "<style>#sk-container-id-7 {color: black;background-color: white;}#sk-container-id-7 pre{padding: 0;}#sk-container-id-7 div.sk-toggleable {background-color: white;}#sk-container-id-7 label.sk-toggleable__label {cursor: pointer;display: block;width: 100%;margin-bottom: 0;padding: 0.3em;box-sizing: border-box;text-align: center;}#sk-container-id-7 label.sk-toggleable__label-arrow:before {content: \"▸\";float: left;margin-right: 0.25em;color: #696969;}#sk-container-id-7 label.sk-toggleable__label-arrow:hover:before {color: black;}#sk-container-id-7 div.sk-estimator:hover label.sk-toggleable__label-arrow:before {color: black;}#sk-container-id-7 div.sk-toggleable__content {max-height: 0;max-width: 0;overflow: hidden;text-align: left;background-color: #f0f8ff;}#sk-container-id-7 div.sk-toggleable__content pre {margin: 0.2em;color: black;border-radius: 0.25em;background-color: #f0f8ff;}#sk-container-id-7 input.sk-toggleable__control:checked~div.sk-toggleable__content {max-height: 200px;max-width: 100%;overflow: auto;}#sk-container-id-7 input.sk-toggleable__control:checked~label.sk-toggleable__label-arrow:before {content: \"▾\";}#sk-container-id-7 div.sk-estimator input.sk-toggleable__control:checked~label.sk-toggleable__label {background-color: #d4ebff;}#sk-container-id-7 div.sk-label input.sk-toggleable__control:checked~label.sk-toggleable__label {background-color: #d4ebff;}#sk-container-id-7 input.sk-hidden--visually {border: 0;clip: rect(1px 1px 1px 1px);clip: rect(1px, 1px, 1px, 1px);height: 1px;margin: -1px;overflow: hidden;padding: 0;position: absolute;width: 1px;}#sk-container-id-7 div.sk-estimator {font-family: monospace;background-color: #f0f8ff;border: 1px dotted black;border-radius: 0.25em;box-sizing: border-box;margin-bottom: 0.5em;}#sk-container-id-7 div.sk-estimator:hover {background-color: #d4ebff;}#sk-container-id-7 div.sk-parallel-item::after {content: \"\";width: 100%;border-bottom: 1px solid gray;flex-grow: 1;}#sk-container-id-7 div.sk-label:hover label.sk-toggleable__label {background-color: #d4ebff;}#sk-container-id-7 div.sk-serial::before {content: \"\";position: absolute;border-left: 1px solid gray;box-sizing: border-box;top: 0;bottom: 0;left: 50%;z-index: 0;}#sk-container-id-7 div.sk-serial {display: flex;flex-direction: column;align-items: center;background-color: white;padding-right: 0.2em;padding-left: 0.2em;position: relative;}#sk-container-id-7 div.sk-item {position: relative;z-index: 1;}#sk-container-id-7 div.sk-parallel {display: flex;align-items: stretch;justify-content: center;background-color: white;position: relative;}#sk-container-id-7 div.sk-item::before, #sk-container-id-7 div.sk-parallel-item::before {content: \"\";position: absolute;border-left: 1px solid gray;box-sizing: border-box;top: 0;bottom: 0;left: 50%;z-index: -1;}#sk-container-id-7 div.sk-parallel-item {display: flex;flex-direction: column;z-index: 1;position: relative;background-color: white;}#sk-container-id-7 div.sk-parallel-item:first-child::after {align-self: flex-end;width: 50%;}#sk-container-id-7 div.sk-parallel-item:last-child::after {align-self: flex-start;width: 50%;}#sk-container-id-7 div.sk-parallel-item:only-child::after {width: 0;}#sk-container-id-7 div.sk-dashed-wrapped {border: 1px dashed gray;margin: 0 0.4em 0.5em 0.4em;box-sizing: border-box;padding-bottom: 0.4em;background-color: white;}#sk-container-id-7 div.sk-label label {font-family: monospace;font-weight: bold;display: inline-block;line-height: 1.2em;}#sk-container-id-7 div.sk-label-container {text-align: center;}#sk-container-id-7 div.sk-container {/* jupyter's `normalize.less` sets `[hidden] { display: none; }` but bootstrap.min.css set `[hidden] { display: none !important; }` so we also need the `!important` here to be able to override the default hidden behavior on the sphinx rendered scikit-learn.org. See: https://github.com/scikit-learn/scikit-learn/issues/21755 */display: inline-block !important;position: relative;}#sk-container-id-7 div.sk-text-repr-fallback {display: none;}</style><div id=\"sk-container-id-7\" class=\"sk-top-container\"><div class=\"sk-text-repr-fallback\"><pre>GaussianNB(var_smoothing=1)</pre><b>In a Jupyter environment, please rerun this cell to show the HTML representation or trust the notebook. <br />On GitHub, the HTML representation is unable to render, please try loading this page with nbviewer.org.</b></div><div class=\"sk-container\" hidden><div class=\"sk-item\"><div class=\"sk-estimator sk-toggleable\"><input class=\"sk-toggleable__control sk-hidden--visually\" id=\"sk-estimator-id-9\" type=\"checkbox\" checked><label for=\"sk-estimator-id-9\" class=\"sk-toggleable__label sk-toggleable__label-arrow\">GaussianNB</label><div class=\"sk-toggleable__content\"><pre>GaussianNB(var_smoothing=1)</pre></div></div></div></div></div>"
      ],
      "text/plain": [
       "GaussianNB(var_smoothing=1)"
      ]
     },
     "execution_count": 111,
     "metadata": {},
     "output_type": "execute_result"
    }
   ],
   "source": [
    "nbc2= NBC(var_smoothing=1)\n",
    "nbc2.fit(train_Xdtm,train_YLR)"
   ]
  },
  {
   "cell_type": "code",
   "execution_count": 113,
   "id": "4eed5fdc-6c78-4ad2-8b7a-fed52108d3a9",
   "metadata": {},
   "outputs": [
    {
     "data": {
      "text/plain": [
       "BHAR0_2\n",
       "0    9488\n",
       "1    3012\n",
       "Name: count, dtype: int64"
      ]
     },
     "execution_count": 113,
     "metadata": {},
     "output_type": "execute_result"
    }
   ],
   "source": [
    "YLR.value_counts()\n"
   ]
  },
  {
   "cell_type": "code",
   "execution_count": 140,
   "id": "a0ed0e5b-db18-4220-9e89-f2e9ad768a5c",
   "metadata": {},
   "outputs": [
    {
     "data": {
      "text/html": [
       "<style>#sk-container-id-10 {color: black;background-color: white;}#sk-container-id-10 pre{padding: 0;}#sk-container-id-10 div.sk-toggleable {background-color: white;}#sk-container-id-10 label.sk-toggleable__label {cursor: pointer;display: block;width: 100%;margin-bottom: 0;padding: 0.3em;box-sizing: border-box;text-align: center;}#sk-container-id-10 label.sk-toggleable__label-arrow:before {content: \"▸\";float: left;margin-right: 0.25em;color: #696969;}#sk-container-id-10 label.sk-toggleable__label-arrow:hover:before {color: black;}#sk-container-id-10 div.sk-estimator:hover label.sk-toggleable__label-arrow:before {color: black;}#sk-container-id-10 div.sk-toggleable__content {max-height: 0;max-width: 0;overflow: hidden;text-align: left;background-color: #f0f8ff;}#sk-container-id-10 div.sk-toggleable__content pre {margin: 0.2em;color: black;border-radius: 0.25em;background-color: #f0f8ff;}#sk-container-id-10 input.sk-toggleable__control:checked~div.sk-toggleable__content {max-height: 200px;max-width: 100%;overflow: auto;}#sk-container-id-10 input.sk-toggleable__control:checked~label.sk-toggleable__label-arrow:before {content: \"▾\";}#sk-container-id-10 div.sk-estimator input.sk-toggleable__control:checked~label.sk-toggleable__label {background-color: #d4ebff;}#sk-container-id-10 div.sk-label input.sk-toggleable__control:checked~label.sk-toggleable__label {background-color: #d4ebff;}#sk-container-id-10 input.sk-hidden--visually {border: 0;clip: rect(1px 1px 1px 1px);clip: rect(1px, 1px, 1px, 1px);height: 1px;margin: -1px;overflow: hidden;padding: 0;position: absolute;width: 1px;}#sk-container-id-10 div.sk-estimator {font-family: monospace;background-color: #f0f8ff;border: 1px dotted black;border-radius: 0.25em;box-sizing: border-box;margin-bottom: 0.5em;}#sk-container-id-10 div.sk-estimator:hover {background-color: #d4ebff;}#sk-container-id-10 div.sk-parallel-item::after {content: \"\";width: 100%;border-bottom: 1px solid gray;flex-grow: 1;}#sk-container-id-10 div.sk-label:hover label.sk-toggleable__label {background-color: #d4ebff;}#sk-container-id-10 div.sk-serial::before {content: \"\";position: absolute;border-left: 1px solid gray;box-sizing: border-box;top: 0;bottom: 0;left: 50%;z-index: 0;}#sk-container-id-10 div.sk-serial {display: flex;flex-direction: column;align-items: center;background-color: white;padding-right: 0.2em;padding-left: 0.2em;position: relative;}#sk-container-id-10 div.sk-item {position: relative;z-index: 1;}#sk-container-id-10 div.sk-parallel {display: flex;align-items: stretch;justify-content: center;background-color: white;position: relative;}#sk-container-id-10 div.sk-item::before, #sk-container-id-10 div.sk-parallel-item::before {content: \"\";position: absolute;border-left: 1px solid gray;box-sizing: border-box;top: 0;bottom: 0;left: 50%;z-index: -1;}#sk-container-id-10 div.sk-parallel-item {display: flex;flex-direction: column;z-index: 1;position: relative;background-color: white;}#sk-container-id-10 div.sk-parallel-item:first-child::after {align-self: flex-end;width: 50%;}#sk-container-id-10 div.sk-parallel-item:last-child::after {align-self: flex-start;width: 50%;}#sk-container-id-10 div.sk-parallel-item:only-child::after {width: 0;}#sk-container-id-10 div.sk-dashed-wrapped {border: 1px dashed gray;margin: 0 0.4em 0.5em 0.4em;box-sizing: border-box;padding-bottom: 0.4em;background-color: white;}#sk-container-id-10 div.sk-label label {font-family: monospace;font-weight: bold;display: inline-block;line-height: 1.2em;}#sk-container-id-10 div.sk-label-container {text-align: center;}#sk-container-id-10 div.sk-container {/* jupyter's `normalize.less` sets `[hidden] { display: none; }` but bootstrap.min.css set `[hidden] { display: none !important; }` so we also need the `!important` here to be able to override the default hidden behavior on the sphinx rendered scikit-learn.org. See: https://github.com/scikit-learn/scikit-learn/issues/21755 */display: inline-block !important;position: relative;}#sk-container-id-10 div.sk-text-repr-fallback {display: none;}</style><div id=\"sk-container-id-10\" class=\"sk-top-container\"><div class=\"sk-text-repr-fallback\"><pre>DecisionTreeClassifier(class_weight={0: 1, 1: 3}, max_depth=200,\n",
       "                       max_features=&#x27;sqrt&#x27;, random_state=123)</pre><b>In a Jupyter environment, please rerun this cell to show the HTML representation or trust the notebook. <br />On GitHub, the HTML representation is unable to render, please try loading this page with nbviewer.org.</b></div><div class=\"sk-container\" hidden><div class=\"sk-item\"><div class=\"sk-estimator sk-toggleable\"><input class=\"sk-toggleable__control sk-hidden--visually\" id=\"sk-estimator-id-12\" type=\"checkbox\" checked><label for=\"sk-estimator-id-12\" class=\"sk-toggleable__label sk-toggleable__label-arrow\">DecisionTreeClassifier</label><div class=\"sk-toggleable__content\"><pre>DecisionTreeClassifier(class_weight={0: 1, 1: 3}, max_depth=200,\n",
       "                       max_features=&#x27;sqrt&#x27;, random_state=123)</pre></div></div></div></div></div>"
      ],
      "text/plain": [
       "DecisionTreeClassifier(class_weight={0: 1, 1: 3}, max_depth=200,\n",
       "                       max_features='sqrt', random_state=123)"
      ]
     },
     "execution_count": 140,
     "metadata": {},
     "output_type": "execute_result"
    }
   ],
   "source": [
    "#model tree2, decision tree 2\n",
    "cws= {0:1,1:3}\n",
    "tree2= DTC(max_depth =200, max_features = 'sqrt', random_state= 123, class_weight=cws)\n",
    "tree2.fit(train_Xdtm, train_YLR)\n"
   ]
  },
  {
   "cell_type": "code",
   "execution_count": 154,
   "id": "adf32cc2-52fe-4c08-8b9a-74be3e832d97",
   "metadata": {},
   "outputs": [
    {
     "data": {
      "text/html": [
       "<style>#sk-container-id-14 {color: black;background-color: white;}#sk-container-id-14 pre{padding: 0;}#sk-container-id-14 div.sk-toggleable {background-color: white;}#sk-container-id-14 label.sk-toggleable__label {cursor: pointer;display: block;width: 100%;margin-bottom: 0;padding: 0.3em;box-sizing: border-box;text-align: center;}#sk-container-id-14 label.sk-toggleable__label-arrow:before {content: \"▸\";float: left;margin-right: 0.25em;color: #696969;}#sk-container-id-14 label.sk-toggleable__label-arrow:hover:before {color: black;}#sk-container-id-14 div.sk-estimator:hover label.sk-toggleable__label-arrow:before {color: black;}#sk-container-id-14 div.sk-toggleable__content {max-height: 0;max-width: 0;overflow: hidden;text-align: left;background-color: #f0f8ff;}#sk-container-id-14 div.sk-toggleable__content pre {margin: 0.2em;color: black;border-radius: 0.25em;background-color: #f0f8ff;}#sk-container-id-14 input.sk-toggleable__control:checked~div.sk-toggleable__content {max-height: 200px;max-width: 100%;overflow: auto;}#sk-container-id-14 input.sk-toggleable__control:checked~label.sk-toggleable__label-arrow:before {content: \"▾\";}#sk-container-id-14 div.sk-estimator input.sk-toggleable__control:checked~label.sk-toggleable__label {background-color: #d4ebff;}#sk-container-id-14 div.sk-label input.sk-toggleable__control:checked~label.sk-toggleable__label {background-color: #d4ebff;}#sk-container-id-14 input.sk-hidden--visually {border: 0;clip: rect(1px 1px 1px 1px);clip: rect(1px, 1px, 1px, 1px);height: 1px;margin: -1px;overflow: hidden;padding: 0;position: absolute;width: 1px;}#sk-container-id-14 div.sk-estimator {font-family: monospace;background-color: #f0f8ff;border: 1px dotted black;border-radius: 0.25em;box-sizing: border-box;margin-bottom: 0.5em;}#sk-container-id-14 div.sk-estimator:hover {background-color: #d4ebff;}#sk-container-id-14 div.sk-parallel-item::after {content: \"\";width: 100%;border-bottom: 1px solid gray;flex-grow: 1;}#sk-container-id-14 div.sk-label:hover label.sk-toggleable__label {background-color: #d4ebff;}#sk-container-id-14 div.sk-serial::before {content: \"\";position: absolute;border-left: 1px solid gray;box-sizing: border-box;top: 0;bottom: 0;left: 50%;z-index: 0;}#sk-container-id-14 div.sk-serial {display: flex;flex-direction: column;align-items: center;background-color: white;padding-right: 0.2em;padding-left: 0.2em;position: relative;}#sk-container-id-14 div.sk-item {position: relative;z-index: 1;}#sk-container-id-14 div.sk-parallel {display: flex;align-items: stretch;justify-content: center;background-color: white;position: relative;}#sk-container-id-14 div.sk-item::before, #sk-container-id-14 div.sk-parallel-item::before {content: \"\";position: absolute;border-left: 1px solid gray;box-sizing: border-box;top: 0;bottom: 0;left: 50%;z-index: -1;}#sk-container-id-14 div.sk-parallel-item {display: flex;flex-direction: column;z-index: 1;position: relative;background-color: white;}#sk-container-id-14 div.sk-parallel-item:first-child::after {align-self: flex-end;width: 50%;}#sk-container-id-14 div.sk-parallel-item:last-child::after {align-self: flex-start;width: 50%;}#sk-container-id-14 div.sk-parallel-item:only-child::after {width: 0;}#sk-container-id-14 div.sk-dashed-wrapped {border: 1px dashed gray;margin: 0 0.4em 0.5em 0.4em;box-sizing: border-box;padding-bottom: 0.4em;background-color: white;}#sk-container-id-14 div.sk-label label {font-family: monospace;font-weight: bold;display: inline-block;line-height: 1.2em;}#sk-container-id-14 div.sk-label-container {text-align: center;}#sk-container-id-14 div.sk-container {/* jupyter's `normalize.less` sets `[hidden] { display: none; }` but bootstrap.min.css set `[hidden] { display: none !important; }` so we also need the `!important` here to be able to override the default hidden behavior on the sphinx rendered scikit-learn.org. See: https://github.com/scikit-learn/scikit-learn/issues/21755 */display: inline-block !important;position: relative;}#sk-container-id-14 div.sk-text-repr-fallback {display: none;}</style><div id=\"sk-container-id-14\" class=\"sk-top-container\"><div class=\"sk-text-repr-fallback\"><pre>RandomForestClassifier(class_weight=&#x27;balanced&#x27;, max_depth=10, n_estimators=50,\n",
       "                       n_jobs=-1, random_state=123)</pre><b>In a Jupyter environment, please rerun this cell to show the HTML representation or trust the notebook. <br />On GitHub, the HTML representation is unable to render, please try loading this page with nbviewer.org.</b></div><div class=\"sk-container\" hidden><div class=\"sk-item\"><div class=\"sk-estimator sk-toggleable\"><input class=\"sk-toggleable__control sk-hidden--visually\" id=\"sk-estimator-id-16\" type=\"checkbox\" checked><label for=\"sk-estimator-id-16\" class=\"sk-toggleable__label sk-toggleable__label-arrow\">RandomForestClassifier</label><div class=\"sk-toggleable__content\"><pre>RandomForestClassifier(class_weight=&#x27;balanced&#x27;, max_depth=10, n_estimators=50,\n",
       "                       n_jobs=-1, random_state=123)</pre></div></div></div></div></div>"
      ],
      "text/plain": [
       "RandomForestClassifier(class_weight='balanced', max_depth=10, n_estimators=50,\n",
       "                       n_jobs=-1, random_state=123)"
      ]
     },
     "execution_count": 154,
     "metadata": {},
     "output_type": "execute_result"
    }
   ],
   "source": [
    "#model rf2, random forest 2\n",
    "rf2 = RFC(n_estimators = 50, max_depth= 10, n_jobs= -1, random_state=123, class_weight='balanced')\n",
    "rf2.fit(train_Xdtm, train_YLR)"
   ]
  },
  {
   "cell_type": "code",
   "execution_count": 117,
   "id": "f13ce671-7a6e-48e0-9727-612d2f6ddd9d",
   "metadata": {},
   "outputs": [],
   "source": [
    "# Update with tuning code if desired\n",
    "from scipy.stats import uniform\n",
    "uni = uniform(0.0005, 0.10)\n",
    "uni.rvs()\n",
    "\n",
    "gamma_dist = uniform(0.0005, 0.10)\n",
    "C_dist = uniform(0.1,1.25)\n",
    "\n",
    "params = {'kernel':['poly','rbf','sigmoid'],'degree':[2,3,4,5],'gamma': gamma_dist,'C': C_dist}"
   ]
  },
  {
   "cell_type": "markdown",
   "id": "fa07fad6-5d98-41c2-a304-e0f480d9bb50",
   "metadata": {},
   "source": [
    "#### 4.3 - Report final classification report\n",
    "Here, you should report your final classification report:"
   ]
  },
  {
   "cell_type": "code",
   "execution_count": 160,
   "id": "61b2bc6d-e8db-44d6-9971-d9639a6bfb89",
   "metadata": {},
   "outputs": [
    {
     "name": "stdout",
     "output_type": "stream",
     "text": [
      "              precision    recall  f1-score   support\n",
      "\n",
      "           0       0.76      0.98      0.86      1904\n",
      "           1       0.39      0.03      0.06       596\n",
      "\n",
      "    accuracy                           0.76      2500\n",
      "   macro avg       0.58      0.51      0.46      2500\n",
      "weighted avg       0.67      0.76      0.67      2500\n",
      "\n"
     ]
    }
   ],
   "source": [
    "from sklearn.metrics import classification_report\n",
    "# Update \"mod\" to be your final model and \"test_Xdtm\" to be whatever X you used)\n",
    "\n",
    "#RANDOM FOREST , this ** MODEL HAD BEST RESULTS **\n",
    "print(classification_report(test_YLR,rf.predict(test_Xdtm)))\n"
   ]
  },
  {
   "cell_type": "markdown",
   "id": "da28eb11-159d-48f6-9569-7c6e6f7a5639",
   "metadata": {},
   "source": [
    "Other Models tested"
   ]
  },
  {
   "cell_type": "code",
   "execution_count": 162,
   "id": "daa6940f-17fa-4953-9c7d-29bfbac5be31",
   "metadata": {},
   "outputs": [
    {
     "name": "stdout",
     "output_type": "stream",
     "text": [
      "              precision    recall  f1-score   support\n",
      "\n",
      "           0       0.76      0.98      0.86      1904\n",
      "           1       0.35      0.04      0.07       596\n",
      "\n",
      "    accuracy                           0.75      2500\n",
      "   macro avg       0.56      0.51      0.46      2500\n",
      "weighted avg       0.67      0.75      0.67      2500\n",
      "\n"
     ]
    }
   ],
   "source": [
    "#LightGBM\n",
    "print(classification_report(test_YLR,lgbm.predict(test_Xdtm)))\n"
   ]
  },
  {
   "cell_type": "code",
   "execution_count": 122,
   "id": "4521d0b8-65db-45fb-af47-1d41ee4646ff",
   "metadata": {},
   "outputs": [
    {
     "name": "stdout",
     "output_type": "stream",
     "text": [
      "              precision    recall  f1-score   support\n",
      "\n",
      "           0       0.77      0.72      0.75      1904\n",
      "           1       0.26      0.31      0.28       596\n",
      "\n",
      "    accuracy                           0.62      2500\n",
      "   macro avg       0.51      0.52      0.51      2500\n",
      "weighted avg       0.65      0.62      0.64      2500\n",
      "\n"
     ]
    }
   ],
   "source": [
    "#Decision Tree\n",
    "print(classification_report(test_YLR,tree.predict(test_Xdtm)))\n",
    "\n"
   ]
  },
  {
   "cell_type": "code",
   "execution_count": 124,
   "id": "c0196f4c-2c22-41f7-a2dd-74bd487fc128",
   "metadata": {},
   "outputs": [
    {
     "name": "stdout",
     "output_type": "stream",
     "text": [
      "              precision    recall  f1-score   support\n",
      "\n",
      "           0       0.77      0.32      0.46      1904\n",
      "           1       0.24      0.69      0.36       596\n",
      "\n",
      "    accuracy                           0.41      2500\n",
      "   macro avg       0.51      0.51      0.41      2500\n",
      "weighted avg       0.64      0.41      0.43      2500\n",
      "\n"
     ]
    }
   ],
   "source": [
    "#NAIVE BAYES\n",
    "\n",
    "print(classification_report(test_YLR,nbc.predict(test_Xdtm)))\n"
   ]
  },
  {
   "cell_type": "code",
   "execution_count": 158,
   "id": "a2b64dbc-a430-4862-959b-b42b1c334ab3",
   "metadata": {},
   "outputs": [
    {
     "name": "stdout",
     "output_type": "stream",
     "text": [
      "              precision    recall  f1-score   support\n",
      "\n",
      "           0       0.76      0.98      0.86      1904\n",
      "           1       0.39      0.03      0.06       596\n",
      "\n",
      "    accuracy                           0.76      2500\n",
      "   macro avg       0.58      0.51      0.46      2500\n",
      "weighted avg       0.67      0.76      0.67      2500\n",
      "\n"
     ]
    }
   ],
   "source": []
  },
  {
   "cell_type": "code",
   "execution_count": 128,
   "id": "2366f625-18fa-4e8a-b9a5-c9ccca481415",
   "metadata": {},
   "outputs": [
    {
     "name": "stdout",
     "output_type": "stream",
     "text": [
      "              precision    recall  f1-score   support\n",
      "\n",
      "           0       0.76      0.75      0.76      1904\n",
      "           1       0.25      0.27      0.26       596\n",
      "\n",
      "    accuracy                           0.63      2500\n",
      "   macro avg       0.51      0.51      0.51      2500\n",
      "weighted avg       0.64      0.63      0.64      2500\n",
      "\n"
     ]
    }
   ],
   "source": [
    "#TREE 2,\n",
    "print(classification_report(test_YLR,tree2.predict(test_Xdtm)))\n"
   ]
  },
  {
   "cell_type": "code",
   "execution_count": 156,
   "id": "b29396e9-8954-493a-8c8d-6ace6f21d977",
   "metadata": {},
   "outputs": [
    {
     "name": "stdout",
     "output_type": "stream",
     "text": [
      "              precision    recall  f1-score   support\n",
      "\n",
      "           0       0.78      0.77      0.78      1904\n",
      "           1       0.30      0.32      0.31       596\n",
      "\n",
      "    accuracy                           0.66      2500\n",
      "   macro avg       0.54      0.54      0.54      2500\n",
      "weighted avg       0.67      0.66      0.66      2500\n",
      "\n"
     ]
    }
   ],
   "source": [
    "#RF 2,\n",
    "print(classification_report(test_YLR,rf2.predict(test_Xdtm)))\n"
   ]
  },
  {
   "cell_type": "code",
   "execution_count": 130,
   "id": "5019eec3-3294-449a-8c4e-66c3a21cede7",
   "metadata": {},
   "outputs": [
    {
     "name": "stdout",
     "output_type": "stream",
     "text": [
      "              precision    recall  f1-score   support\n",
      "\n",
      "           0       0.77      0.88      0.82      1904\n",
      "           1       0.29      0.16      0.21       596\n",
      "\n",
      "    accuracy                           0.71      2500\n",
      "   macro avg       0.53      0.52      0.51      2500\n",
      "weighted avg       0.65      0.71      0.67      2500\n",
      "\n"
     ]
    }
   ],
   "source": [
    "#NB 2\n",
    "print(classification_report(test_YLR,nbc2.predict(test_Xdtm)))"
   ]
  },
  {
   "cell_type": "code",
   "execution_count": null,
   "id": "e80f1c5e-10a4-4a0e-884c-24022f9d2207",
   "metadata": {},
   "outputs": [],
   "source": []
  }
 ],
 "metadata": {
  "kernelspec": {
   "display_name": "Python 3 (ipykernel)",
   "language": "python",
   "name": "python3"
  },
  "language_info": {
   "codemirror_mode": {
    "name": "ipython",
    "version": 3
   },
   "file_extension": ".py",
   "mimetype": "text/x-python",
   "name": "python",
   "nbconvert_exporter": "python",
   "pygments_lexer": "ipython3",
   "version": "3.11.7"
  }
 },
 "nbformat": 4,
 "nbformat_minor": 5
}
